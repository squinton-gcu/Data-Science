{
  "nbformat": 4,
  "nbformat_minor": 0,
  "metadata": {
    "colab": {
      "name": "Processing_Module.R",
      "provenance": [],
      "authorship_tag": "ABX9TyNmp73X8D40kV4gEZmPLr7B",
      "include_colab_link": true
    },
    "kernelspec": {
      "name": "ir",
      "display_name": "R"
    },
    "language_info": {
      "name": "R"
    },
    "gpuClass": "standard"
  },
  "cells": [
    {
      "cell_type": "markdown",
      "metadata": {
        "id": "view-in-github",
        "colab_type": "text"
      },
      "source": [
        "<a href=\"https://colab.research.google.com/github/squinton-gcu/Data-Science/blob/main/Processing_Module_R.ipynb\" target=\"_parent\"><img src=\"https://colab.research.google.com/assets/colab-badge.svg\" alt=\"Open In Colab\"/></a>"
      ]
    },
    {
      "cell_type": "markdown",
      "source": [
        "## Processing Module via R\n",
        "This module runs the processing and outlier detection steps of the pipeline.\n",
        "Input is the four datasets.\n",
        "Output is 4 processed csv files.\n",
        "Graphs are generated to show the affects of normalization, and standardization."
      ],
      "metadata": {
        "id": "6sigi5P3I20z"
      }
    },
    {
      "cell_type": "code",
      "execution_count": 42,
      "metadata": {
        "colab": {
          "base_uri": "https://localhost:8080/"
        },
        "id": "c9s7kgsDZHah",
        "outputId": "0fb1953e-b774-4160-cd3a-5bb9835bcb90"
      },
      "outputs": [
        {
          "output_type": "stream",
          "name": "stderr",
          "text": [
            "Removing package from ‘/usr/local/lib/R/site-library’\n",
            "(as ‘lib’ is unspecified)\n",
            "\n",
            "Installing package into ‘/usr/local/lib/R/site-library’\n",
            "(as ‘lib’ is unspecified)\n",
            "\n"
          ]
        }
      ],
      "source": [
        "# check and install all packages if needed\n",
        "# if you do need to download anything, please restart the runtime\n",
        "if(\"googledrive\" %in% rownames(installed.packages()) == FALSE) {install.packages(\"googledrive\")}\n",
        "if(\"BiocManager\" %in% rownames(installed.packages()) == FALSE) {\n",
        "  install.packages(\"BiocManager\")}\n",
        "if(\"MAI\" %in% rownames(installed.packages()) == FALSE) {BiocManager::install(\"MAI\")}\n",
        "# issue with rlang during instalation which requires it to be re-downloaded\n",
        "remove.packages('rlang')\n",
        "install.packages('rlang')\n"
      ]
    },
    {
      "cell_type": "code",
      "source": [
        "library('googledrive')\n",
        "library('MAI')\n"
      ],
      "metadata": {
        "id": "FBHPsyvVZTMC"
      },
      "execution_count": 43,
      "outputs": []
    },
    {
      "cell_type": "code",
      "source": [
        "if (file.exists(\"/usr/local/lib/python3.7/dist-packages/google/colab/_ipython.py\")) { #may update python version  \n",
        "                                       #occasionally\n",
        "  install.packages(\"R.utils\")\n",
        "  library(\"R.utils\")\n",
        "  library(\"httr\")\n",
        "  my_check <- function() {return(TRUE)}\n",
        "  reassignInPackage(\"is_interactive\", pkgName = \"httr\", my_check) \n",
        "  options(rlang_interactive=TRUE)\n",
        "}"
      ],
      "metadata": {
        "colab": {
          "base_uri": "https://localhost:8080/"
        },
        "id": "Z73tl_Xeb1kn",
        "outputId": "35e108d1-51ce-4a09-d34f-75ec61af2b4e"
      },
      "execution_count": 44,
      "outputs": [
        {
          "output_type": "stream",
          "name": "stderr",
          "text": [
            "Installing package into ‘/usr/local/lib/R/site-library’\n",
            "(as ‘lib’ is unspecified)\n",
            "\n"
          ]
        }
      ]
    },
    {
      "cell_type": "code",
      "source": [
        "drive_auth(use_oob = TRUE, cache = FALSE)"
      ],
      "metadata": {
        "colab": {
          "base_uri": "https://localhost:8080/"
        },
        "id": "x1ZySjffgRfl",
        "outputId": "d3f4688c-3cb8-4570-b2ed-90aab150b724"
      },
      "execution_count": 45,
      "outputs": [
        {
          "output_type": "stream",
          "name": "stderr",
          "text": [
            "Please point your browser to the following url: \n",
            "\n",
            "https://accounts.google.com/o/oauth2/auth?client_id=603366585132-dpeg5tt0et3go5of2374d83ifevk5086.apps.googleusercontent.com&scope=https%3A%2F%2Fwww.googleapis.com%2Fauth%2Fdrive%20https%3A%2F%2Fwww.googleapis.com%2Fauth%2Fuserinfo.email&redirect_uri=urn%3Aietf%3Awg%3Aoauth%3A2.0%3Aoob&response_type=code\n",
            "\n"
          ]
        },
        {
          "name": "stdout",
          "output_type": "stream",
          "text": [
            "Enter authorization code: 4/1AdQt8qj-Efe4H1mECy5uL9Wq3qoKqa7YZswwSLKWD3Nq8a5hDOL8QswqI-w\n"
          ]
        }
      ]
    },
    {
      "cell_type": "code",
      "source": [
        "x <- drive_get('~/Thesis/ALZ_plasma.csv')\n",
        "drive_download(x, overwrite = TRUE)\n",
        "y <- drive_get('~/Thesis/ALZ_CSF2.csv')\n",
        "drive_download(y, overwrite = TRUE)\n",
        "z <- drive_get('~/Thesis/trauma_human.csv')\n",
        "drive_download(z, overwrite = TRUE)\n",
        "v <- drive_get('~/Thesis/rat_stress.csv')\n",
        "drive_download(v, overwrite = TRUE)"
      ],
      "metadata": {
        "colab": {
          "base_uri": "https://localhost:8080/"
        },
        "id": "nW8DeKp9gY9q",
        "outputId": "69c11adc-dfbd-4fa6-d2cc-6263641a19d4"
      },
      "execution_count": 46,
      "outputs": [
        {
          "output_type": "stream",
          "name": "stderr",
          "text": [
            "\n",
            "\n",
            "\n",
            "\n",
            "\u001b[32m✔\u001b[39m The input `path` resolved to exactly 1 file.\n",
            "\n",
            "File downloaded:\n",
            "\n",
            "\u001b[36m•\u001b[39m \u001b[36mALZ_plasma.csv\u001b[39m \u001b[90m<id: 1U7njj5PBdw9bSX0J_e-Ri88Vfz2kQf87>\u001b[39m\n",
            "\n",
            "Saved locally as:\n",
            "\n",
            "\u001b[36m•\u001b[39m \u001b[34mALZ_plasma.csv\u001b[39m\n",
            "\n",
            "\n",
            "\n",
            "\n",
            "\n",
            "\u001b[32m✔\u001b[39m The input `path` resolved to exactly 1 file.\n",
            "\n",
            "File downloaded:\n",
            "\n",
            "\u001b[36m•\u001b[39m \u001b[36mALZ_CSF2.csv\u001b[39m \u001b[90m<id: 1cRmB2cJ2BYwipnetgcTMMpxanRAVPxmC>\u001b[39m\n",
            "\n",
            "Saved locally as:\n",
            "\n",
            "\u001b[36m•\u001b[39m \u001b[34mALZ_CSF2.csv\u001b[39m\n",
            "\n",
            "\n",
            "\n",
            "\n",
            "\n",
            "\u001b[32m✔\u001b[39m The input `path` resolved to exactly 1 file.\n",
            "\n",
            "File downloaded:\n",
            "\n",
            "\u001b[36m•\u001b[39m \u001b[36mtrauma_human.csv\u001b[39m \u001b[90m<id: 1ida0XZX27tw3PgNFiU9b81Mgr3PRtIZx>\u001b[39m\n",
            "\n",
            "Saved locally as:\n",
            "\n",
            "\u001b[36m•\u001b[39m \u001b[34mtrauma_human.csv\u001b[39m\n",
            "\n",
            "\n",
            "\n",
            "\n",
            "\n",
            "\u001b[32m✔\u001b[39m The input `path` resolved to exactly 1 file.\n",
            "\n",
            "File downloaded:\n",
            "\n",
            "\u001b[36m•\u001b[39m \u001b[36mrat_stress.csv\u001b[39m \u001b[90m<id: 1gjdVA1DG0k0CAl30Edo4i5HVwHQz7TVk>\u001b[39m\n",
            "\n",
            "Saved locally as:\n",
            "\n",
            "\u001b[36m•\u001b[39m \u001b[34mrat_stress.csv\u001b[39m\n",
            "\n"
          ]
        }
      ]
    },
    {
      "cell_type": "code",
      "source": [
        "ALZ_plasma <- read.table(\"ALZ_plasma.csv\", header=TRUE, row.names = 1, sep =',')\n",
        "ALZ_CSF <- read.table(\"ALZ_CSF2.csv\", header=TRUE, row.names=1, sep=',')\n",
        "trauma_human <- read.table(\"trauma_human.csv\", header=TRUE, row.names=1, sep=',')\n",
        "trauma_rat <- read.table(\"rat_stress.csv\", header=TRUE, row.names=1, sep=',')"
      ],
      "metadata": {
        "id": "Wey6NvY6gxLT"
      },
      "execution_count": 47,
      "outputs": []
    },
    {
      "cell_type": "code",
      "source": [
        "processing_step_impute <- function(Input_File) {\n",
        "  #remove all metabolites with more than 70% missing values\n",
        "  Input_File2 <- Input_File[, which(colMeans(!is.na(Input_File)) > 0.7)]\n",
        "  # take care of missing values\n",
        "  imputed_File <- MAI(Input_File2, \n",
        "\t\t\t\t\tMCAR_algorithm = c(\"Multi_nsKNN\"),\n",
        "\t\t\t\t\tMNAR_algorithm = c(\"nsKNN\"),\n",
        "\t\t\t\t\t)\n",
        "  imputed_File <- as.data.frame(imputed_File)\n",
        "  row.names(imputed_File) = row.names(Input_File2)\n",
        "  colnames(imputed_File) = colnames(Input_File2)\n",
        "  if (ncol(Input_File2) != ncol(imputed_File)) {\n",
        "    imputed_File2 <- imputed_File[1:(length(imputed_File)-(ncol(imputed_File) - ncol(Input_File2)))]\n",
        "  }\n",
        "  else {\n",
        "    imputed_File2 = imputed_File\n",
        "  }\n",
        "  colnames(imputed_File2) = colnames(Input_File2)\n",
        "\n",
        "  return(imputed_File2)\n",
        "}\n",
        "\n",
        "processing_step_normalize <- function(imputedFile) {\n",
        "  # normalize with log2 and change NAs to zeros\n",
        "  normalized_File <- as.data.frame(log2(imputedFile))\n",
        "  normalized_File[is.na(normalized_File)] <- 0\n",
        "  return(normalized_File)\n",
        "}\n",
        "\n",
        "processing_step_scale <- function(normalizedFile) {\n",
        "  # Scale using the z scale function from R\n",
        "  scale_File <- scale(t(normalizedFile))\n",
        "  scale_File <- t(scale_File)\n",
        "  return(scale_File)\n",
        "}\n"
      ],
      "metadata": {
        "id": "O_kNAMuag8RB"
      },
      "execution_count": 48,
      "outputs": []
    },
    {
      "cell_type": "code",
      "source": [
        "# will generate a few random initial exploratory graphs to ensure processing was successful\n",
        "graph_normalizeVSscale <- function(normalized_table, scale_table, table_name) {\n",
        "  png(paste(table_name, \"_scale1.png\"))\n",
        "  scale1_hist <- hist(as.numeric(scale_table[1,]), main = paste(\"Histogram of \" , table_name, \"scale1\"))\n",
        "  dev.off()\n",
        "  png(paste(table_name, \"_scale12.png\"))\n",
        "  scale12_hist <- hist(as.numeric(scale_table[15,]), main = paste(\"Histogram of \" , table_name, \"scale2\"))\n",
        "  dev.off()\n",
        "\n",
        "  png(paste(table_name, \"_normalized1.png\"))\n",
        "  normalized1_hist <- hist(as.numeric(normalized_table[1,]), main = paste(\"Histogram of \" , table_name, \"normalized1\"))\n",
        "  dev.off()\n",
        "  png(paste(table_name, \"_normalized2.png\"))\n",
        "  normalized2_hist <- hist(as.numeric(normalized_table[15,]), main = paste(\"Histogram of \" , table_name, \"normalized2\"))\n",
        "  dev.off()\n",
        "}"
      ],
      "metadata": {
        "id": "LDEDAyOjjBnG"
      },
      "execution_count": 49,
      "outputs": []
    },
    {
      "cell_type": "code",
      "source": [
        "#outlier checker using IQR\n",
        "outlier_checker <- function(normalized, name) {\n",
        "  outlier_list = NULL\n",
        "  options(warn=-1)\n",
        "  for (x in 1:nrow(normalized)) {\n",
        "    ALZ_Q3 <- quantile(normalized[x,], 0.75)\n",
        "    ALZ_Q1<- quantile(normalized[x,], 0.21)\n",
        "    ALZ_IQR <- IQR(normalized[x,])\n",
        "    ALZ_outliers <-subset(normalized[x,], normalized[x,] > (as.numeric(ALZ_Q1 - 1.5*ALZ_IQR)) & normalized[x,] < (as.numeric(ALZ_Q3 + 1.5*ALZ_IQR)))\n",
        "    ALZ_num_outliers <- length(ALZ_outliers[1,]) - ncol(normalized)\n",
        "    outlier_list <- append(outlier_list, ALZ_num_outliers)\n",
        "  }\n",
        "  print(paste(name, \" outlier list\"))\n",
        "  subset(outlier_list, outlier_list > 0)\n",
        "}"
      ],
      "metadata": {
        "id": "5H0Tb59k1_VE"
      },
      "execution_count": 50,
      "outputs": []
    },
    {
      "cell_type": "code",
      "source": [
        "ALZ_plasma_imputed <- processing_step_impute(ALZ_plasma)\n",
        "ALZ_plasma_normalized <- processing_step_normalize(ALZ_plasma_imputed)\n",
        "ALZ_plasma_scaled <- processing_step_scale(ALZ_plasma_normalized)"
      ],
      "metadata": {
        "colab": {
          "base_uri": "https://localhost:8080/"
        },
        "id": "O2lTcyMamVRX",
        "outputId": "59ffb1d9-e608-4a94-8cf3-afbedc8d6414"
      },
      "execution_count": 51,
      "outputs": [
        {
          "output_type": "stream",
          "name": "stderr",
          "text": [
            "Estimating pattern of missingness\n",
            "\n",
            "Imposing missingness\n",
            "\n",
            "Generating features\n",
            "\n",
            "Training\n",
            "\n",
            "Predicting\n",
            "\n",
            "Imputing\n",
            "\n"
          ]
        }
      ]
    },
    {
      "cell_type": "code",
      "source": [
        "ALZ_csf_imputed <- processing_step_impute(ALZ_CSF)\n",
        "ALZ_csf_normalized <- processing_step_normalize(ALZ_csf_imputed)\n",
        "ALZ_csf_scaled <- processing_step_scale(ALZ_csf_normalized)"
      ],
      "metadata": {
        "colab": {
          "base_uri": "https://localhost:8080/"
        },
        "id": "ey5wTNv1xsYZ",
        "outputId": "cec8af2f-fbc9-4cea-cc8f-f3ef2163dfc8"
      },
      "execution_count": 52,
      "outputs": [
        {
          "output_type": "stream",
          "name": "stderr",
          "text": [
            "Estimating pattern of missingness\n",
            "\n",
            "Imposing missingness\n",
            "\n",
            "Generating features\n",
            "\n",
            "Training\n",
            "\n",
            "Predicting\n",
            "\n",
            "Imputing\n",
            "\n"
          ]
        }
      ]
    },
    {
      "cell_type": "code",
      "source": [
        "#no missing values to impute\n",
        "trauma_human_imputed <- trauma_human\n",
        "trauma_human_normalized <- processing_step_normalize(trauma_human_imputed)\n",
        "trauma_human_scaled <- processing_step_scale(trauma_human_normalized)"
      ],
      "metadata": {
        "id": "ziy9v-e-x_lb"
      },
      "execution_count": 53,
      "outputs": []
    },
    {
      "cell_type": "code",
      "source": [
        "#no missing values to impute\n",
        "trauma_rat_imputed <- trauma_rat\n",
        "trauma_rat_normalized <- processing_step_normalize(trauma_rat_imputed)\n",
        "trauma_rat_scaled <- processing_step_scale(trauma_rat_normalized)"
      ],
      "metadata": {
        "id": "O-69dqetyQa7"
      },
      "execution_count": 54,
      "outputs": []
    },
    {
      "cell_type": "code",
      "source": [
        "outlier_checker(ALZ_plasma_normalized, \"ALZ_plasma\")\n",
        "outlier_checker(ALZ_csf_normalized, \"ALZ_csf\")\n",
        "outlier_checker(trauma_human_normalized, \"trauma_human\")\n",
        "outlier_checker(trauma_rat_normalized, \"trauma_rat\")"
      ],
      "metadata": {
        "colab": {
          "base_uri": "https://localhost:8080/",
          "height": 91
        },
        "id": "5D5LCx9vGc6Y",
        "outputId": "fe3b8792-8dc8-449b-fc54-425d1b8fbf4f"
      },
      "execution_count": 55,
      "outputs": [
        {
          "output_type": "stream",
          "name": "stdout",
          "text": [
            "[1] \"ALZ_plasma  outlier list\"\n"
          ]
        },
        {
          "output_type": "display_data",
          "data": {
            "text/html": [
              ""
            ],
            "text/markdown": "",
            "text/latex": "",
            "text/plain": [
              "integer(0)"
            ]
          },
          "metadata": {}
        },
        {
          "output_type": "stream",
          "name": "stdout",
          "text": [
            "[1] \"ALZ_csf  outlier list\"\n"
          ]
        },
        {
          "output_type": "display_data",
          "data": {
            "text/html": [
              ""
            ],
            "text/markdown": "",
            "text/latex": "",
            "text/plain": [
              "integer(0)"
            ]
          },
          "metadata": {}
        },
        {
          "output_type": "stream",
          "name": "stdout",
          "text": [
            "[1] \"trauma_human  outlier list\"\n"
          ]
        },
        {
          "output_type": "display_data",
          "data": {
            "text/html": [
              ""
            ],
            "text/markdown": "",
            "text/latex": "",
            "text/plain": [
              "integer(0)"
            ]
          },
          "metadata": {}
        },
        {
          "output_type": "stream",
          "name": "stdout",
          "text": [
            "[1] \"trauma_rat  outlier list\"\n"
          ]
        },
        {
          "output_type": "display_data",
          "data": {
            "text/html": [
              ""
            ],
            "text/markdown": "",
            "text/latex": "",
            "text/plain": [
              "integer(0)"
            ]
          },
          "metadata": {}
        }
      ]
    },
    {
      "cell_type": "code",
      "source": [
        "graph_normalizeVSscale(ALZ_plasma_normalized, ALZ_plasma_scaled, \"ALZ_plasma\")\n",
        "graph_normalizeVSscale(ALZ_csf_normalized, ALZ_csf_scaled, \"ALZ_csf\")\n",
        "graph_normalizeVSscale(trauma_human_normalized, trauma_human_scaled, \"trauma_human\")\n",
        "graph_normalizeVSscale(trauma_rat_normalized, trauma_rat_scaled, \"trauma_rat\")"
      ],
      "metadata": {
        "colab": {
          "base_uri": "https://localhost:8080/",
          "height": 86
        },
        "id": "3K2dPF-EnXsM",
        "outputId": "cf6eca11-e6ae-4bde-9a79-04c57907b582"
      },
      "execution_count": 56,
      "outputs": [
        {
          "output_type": "display_data",
          "data": {
            "text/html": [
              "<strong>png:</strong> 2"
            ],
            "text/markdown": "**png:** 2",
            "text/latex": "\\textbf{png:} 2",
            "text/plain": [
              "png \n",
              "  2 "
            ]
          },
          "metadata": {}
        },
        {
          "output_type": "display_data",
          "data": {
            "text/html": [
              "<strong>png:</strong> 2"
            ],
            "text/markdown": "**png:** 2",
            "text/latex": "\\textbf{png:} 2",
            "text/plain": [
              "png \n",
              "  2 "
            ]
          },
          "metadata": {}
        },
        {
          "output_type": "display_data",
          "data": {
            "text/html": [
              "<strong>png:</strong> 2"
            ],
            "text/markdown": "**png:** 2",
            "text/latex": "\\textbf{png:} 2",
            "text/plain": [
              "png \n",
              "  2 "
            ]
          },
          "metadata": {}
        },
        {
          "output_type": "display_data",
          "data": {
            "text/html": [
              "<strong>png:</strong> 2"
            ],
            "text/markdown": "**png:** 2",
            "text/latex": "\\textbf{png:} 2",
            "text/plain": [
              "png \n",
              "  2 "
            ]
          },
          "metadata": {}
        }
      ]
    },
    {
      "cell_type": "code",
      "source": [
        "# save processed verisons of data frames\n",
        "write.csv(ALZ_plasma_scaled, \"ALZ_plasma_processed.csv\", row.names=TRUE)\n",
        "write.csv(ALZ_csf_scaled, \"ALZ_csf_processed.csv\", row.names=TRUE)\n",
        "write.csv(trauma_human_scaled, \"trauma_human_processed.csv\", row.names=TRUE)\n",
        "write.csv(trauma_rat_scaled, \"trauma_rat_processed.csv\", row.names=TRUE)\n"
      ],
      "metadata": {
        "id": "2euUed1Xvbd-"
      },
      "execution_count": 57,
      "outputs": []
    },
    {
      "cell_type": "markdown",
      "source": [
        "## References\n",
        "\n",
        "Dekermanjian, J., Shaddox, E., N, D., y, Ghosh, D., & Kechris, K. (2022). MAI: Mechanism-Aware Imputation (1.2.0) [Computer software]. Bioconductor version: Release (3.15). https://doi.org/10.18129/B9.bioc.MAI\n",
        "\n",
        "Duca, A. L. (2020, December 30). Data Preprocessing with scikit-learn—Missing Values. Medium. https://towardsdatascience.com/data-preprocessing-with-scikit-learn-missing-values-8dff2c266db\n",
        "\n",
        "How to Remove Outliers in R | R-bloggers. (n.d.). Retrieved July 4, 2022, from https://www.r-bloggers.com/2021/09/how-to-remove-outliers-in-r-3/\n",
        "\n",
        "Lee, J. Y., & Styczynski, M. P. (2018). NS-kNN: A modified k-nearest neighbors approach for imputing metabolomics data. Metabolomics, 14(12), 153. https://doi.org/10.1007/s11306-018-1451-8\n",
        "\n",
        "Team, T. A. (n.d.). How, When, and Why Should You Normalize / Standardize / Rescale… – Towards AI. Retrieved July 3, 2022, from https://towardsai.net/p/data-science/how-when-and-why-should-you-normalize-standardize-rescale-your-data-3f083def38ff, https://towardsai.net/p/data-science/how-when-and-why-should-you-normalize-standardize-rescale-your-data-3f083def38ff\n",
        "\n",
        "van den Berg, R. A., Hoefsloot, H. C., Westerhuis, J. A., Smilde, A. K., & van der Werf, M. J. (2006). Centering, scaling, and transformations: Improving the biological information content of metabolomics data. BMC Genomics, 7, 142. https://doi.org/10.1186/1471-2164-7-142\n",
        "\n",
        "Wall, K. (2021, July 2). Access Google Drive Using Google Colab Running an R Kernel. Medium. https://towardsdatascience.com/access-google-drive-using-google-colab-running-an-r-kernel-3736db7835\n",
        "\n"
      ],
      "metadata": {
        "id": "-oXy5qVeMxnx"
      }
    },
    {
      "cell_type": "code",
      "source": [
        ""
      ],
      "metadata": {
        "id": "Bohsq1hnNVVS"
      },
      "execution_count": null,
      "outputs": []
    }
  ]
}
