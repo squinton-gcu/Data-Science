{
  "nbformat": 4,
  "nbformat_minor": 0,
  "metadata": {
    "colab": {
      "name": "Processing_Module.R",
      "provenance": [],
      "authorship_tag": "ABX9TyNlwK7PI3pHSyDON1aQWtr6",
      "include_colab_link": true
    },
    "kernelspec": {
      "name": "ir",
      "display_name": "R"
    },
    "language_info": {
      "name": "R"
    },
    "gpuClass": "standard"
  },
  "cells": [
    {
      "cell_type": "markdown",
      "metadata": {
        "id": "view-in-github",
        "colab_type": "text"
      },
      "source": [
        "<a href=\"https://colab.research.google.com/github/squinton-gcu/Data-Science/blob/main/Processing_Module_R.ipynb\" target=\"_parent\"><img src=\"https://colab.research.google.com/assets/colab-badge.svg\" alt=\"Open In Colab\"/></a>"
      ]
    },
    {
      "cell_type": "code",
      "execution_count": 1,
      "metadata": {
        "id": "c9s7kgsDZHah"
      },
      "outputs": [],
      "source": [
        "# check and install all packages if needed\n",
        "# if you do need to download anything, please restart the runtime\n",
        "if(\"googledrive\" %in% rownames(installed.packages()) == FALSE) {install.packages(\"googledrive\")}\n",
        "if(\"BiocManager\" %in% rownames(installed.packages()) == FALSE) {\n",
        "  install.packages(\"BiocManager\")\n",
        "  if(\"MAI\" %in% rownames(installed.packages()) == FALSE) {BiocManager::install(\"MAI\")} \n",
        "  # issue with rlang during instalation which requires it to be re-downloaded\n",
        "   remove.packages('rlang')\n",
        "  install.packages('rlang')\n",
        "   }\n",
        "if(\"enetLTS\" %in% rownames(installed.packages()) == FALSE) {install.packages(\"enetLTS\")}"
      ]
    },
    {
      "cell_type": "code",
      "source": [
        "library('googledrive')\n",
        "library('MAI')\n",
        "library('enetLTS')"
      ],
      "metadata": {
        "colab": {
          "base_uri": "https://localhost:8080/"
        },
        "id": "FBHPsyvVZTMC",
        "outputId": "6ba7df32-201b-478f-b1e4-16e3fbdde8a0"
      },
      "execution_count": 3,
      "outputs": [
        {
          "output_type": "stream",
          "name": "stderr",
          "text": [
            "Warning message in system(\"timedatectl\", intern = TRUE):\n",
            "“running command 'timedatectl' had status 1”\n",
            "Registered S3 method overwritten by 'cvTools':\n",
            "  method        from \n",
            "  print.cvFolds perry\n",
            "\n"
          ]
        }
      ]
    },
    {
      "cell_type": "code",
      "source": [
        "if (file.exists(\"/usr/local/lib/python3.7/dist-packages/google/colab/_ipython.py\")) { #may update python version  \n",
        "                                       #occasionally\n",
        "  install.packages(\"R.utils\")\n",
        "  library(\"R.utils\")\n",
        "  library(\"httr\")\n",
        "  my_check <- function() {return(TRUE)}\n",
        "  reassignInPackage(\"is_interactive\", pkgName = \"httr\", my_check) \n",
        "  options(rlang_interactive=TRUE)\n",
        "}"
      ],
      "metadata": {
        "colab": {
          "base_uri": "https://localhost:8080/"
        },
        "id": "Z73tl_Xeb1kn",
        "outputId": "b9d7aaea-24b9-419b-87e8-fa874afe4a08"
      },
      "execution_count": 4,
      "outputs": [
        {
          "output_type": "stream",
          "name": "stderr",
          "text": [
            "Installing package into ‘/usr/local/lib/R/site-library’\n",
            "(as ‘lib’ is unspecified)\n",
            "\n",
            "also installing the dependencies ‘R.oo’, ‘R.methodsS3’\n",
            "\n",
            "\n",
            "Loading required package: R.oo\n",
            "\n",
            "Loading required package: R.methodsS3\n",
            "\n",
            "R.methodsS3 v1.8.2 (2022-06-13 22:00:14 UTC) successfully loaded. See ?R.methodsS3 for help.\n",
            "\n",
            "R.oo v1.25.0 (2022-06-12 02:20:02 UTC) successfully loaded. See ?R.oo for help.\n",
            "\n",
            "\n",
            "Attaching package: ‘R.oo’\n",
            "\n",
            "\n",
            "The following object is masked from ‘package:R.methodsS3’:\n",
            "\n",
            "    throw\n",
            "\n",
            "\n",
            "The following objects are masked from ‘package:methods’:\n",
            "\n",
            "    getClasses, getMethods\n",
            "\n",
            "\n",
            "The following objects are masked from ‘package:base’:\n",
            "\n",
            "    attach, detach, load, save\n",
            "\n",
            "\n",
            "R.utils v2.12.0 (2022-06-28 03:20:05 UTC) successfully loaded. See ?R.utils for help.\n",
            "\n",
            "\n",
            "Attaching package: ‘R.utils’\n",
            "\n",
            "\n",
            "The following object is masked from ‘package:utils’:\n",
            "\n",
            "    timestamp\n",
            "\n",
            "\n",
            "The following objects are masked from ‘package:base’:\n",
            "\n",
            "    cat, commandArgs, getOption, isOpen, nullfile, parse, warnings\n",
            "\n",
            "\n"
          ]
        }
      ]
    },
    {
      "cell_type": "code",
      "source": [
        "drive_auth(use_oob = TRUE, cache = FALSE)"
      ],
      "metadata": {
        "colab": {
          "base_uri": "https://localhost:8080/"
        },
        "id": "x1ZySjffgRfl",
        "outputId": "8cbeb168-5b75-4fd5-d409-9219aa4fe970"
      },
      "execution_count": 6,
      "outputs": [
        {
          "output_type": "stream",
          "name": "stderr",
          "text": [
            "Please point your browser to the following url: \n",
            "\n",
            "https://accounts.google.com/o/oauth2/auth?client_id=603366585132-dpeg5tt0et3go5of2374d83ifevk5086.apps.googleusercontent.com&scope=https%3A%2F%2Fwww.googleapis.com%2Fauth%2Fdrive%20https%3A%2F%2Fwww.googleapis.com%2Fauth%2Fuserinfo.email&redirect_uri=urn%3Aietf%3Awg%3Aoauth%3A2.0%3Aoob&response_type=code\n",
            "\n"
          ]
        },
        {
          "name": "stdout",
          "output_type": "stream",
          "text": [
            "Enter authorization code: 4/1AX4XfWjXHub-OnpG436JokY3jsXESP0G8HGr-0cUwnY--LYOPW2im_LsjdQ\n"
          ]
        }
      ]
    },
    {
      "cell_type": "code",
      "source": [
        "x <- drive_get('~/Thesis/ALZ_plasma.csv')\n",
        "drive_download(x, overwrite = TRUE)\n",
        "y <- drive_get('~/Thesis/ALZ_CSF2.csv')\n",
        "drive_download(y, overwrite = TRUE)\n",
        "z <- drive_get('~/Thesis/trauma_human.csv')\n",
        "drive_download(z, overwrite = TRUE)\n",
        "v <- drive_get('~/Thesis/rat_stress.csv')\n",
        "drive_download(v, overwrite = TRUE)"
      ],
      "metadata": {
        "colab": {
          "base_uri": "https://localhost:8080/"
        },
        "id": "nW8DeKp9gY9q",
        "outputId": "5ef6ec9c-9bbf-415b-e62f-50e609e31be9"
      },
      "execution_count": 8,
      "outputs": [
        {
          "output_type": "stream",
          "name": "stderr",
          "text": [
            "\n",
            "\n",
            "\n",
            "\n",
            "\u001b[32m✔\u001b[39m The input `path` resolved to exactly 1 file.\n",
            "\n",
            "File downloaded:\n",
            "\n",
            "\u001b[36m•\u001b[39m \u001b[36mALZ_plasma.csv\u001b[39m \u001b[90m<id: 1U7njj5PBdw9bSX0J_e-Ri88Vfz2kQf87>\u001b[39m\n",
            "\n",
            "Saved locally as:\n",
            "\n",
            "\u001b[36m•\u001b[39m \u001b[34mALZ_plasma.csv\u001b[39m\n",
            "\n"
          ]
        }
      ]
    },
    {
      "cell_type": "code",
      "source": [
        "ALZ_plasma <- read.table(\"ALZ_plasma.csv\", header=TRUE, row.names = 1, sep =',')\n",
        "ALZ_CSF <- read.table(\"ALZ_CSF2.csv\", header=TRUE, row.names=1, sep=',')\n",
        "trauma_human <- read.table(\"trauma_human.csv\", header=TRUE, row.names=1, sep=',')\n",
        "trauma_rat <- read.table(\"rat_stress.csv\", header=TRUE, row.names=1, sep=',')"
      ],
      "metadata": {
        "id": "Wey6NvY6gxLT"
      },
      "execution_count": 9,
      "outputs": []
    },
    {
      "cell_type": "code",
      "source": [
        "processing_step_impute <- function(Input_File) {\n",
        "  #remove all metabolites with more than 70% missing values\n",
        "  Input_File2 <- Input_File[, which(colMeans(!is.na(Input_File)) > 0.7)]\n",
        "  # take care of missing values\n",
        "  imputed_File <- MAI(Input_File2, \n",
        "\t\t\t\t\tMCAR_algorithm = c(\"Multi_nsKNN\"),\n",
        "\t\t\t\t\tMNAR_algorithm = c(\"nsKNN\"),\n",
        "\t\t\t\t\t)\n",
        "  imputed_File <- as.data.frame(imputed_File)\n",
        "  row.names(imputed_File) = row.names(Input_File2)\n",
        "  colnames(imputed_File) = colnames(Input_File2)\n",
        "  if (ncol(Input_File2) != ncol(imputed_File)) {\n",
        "    imputed_File2 <- imputed_File[1:(length(imputed_File)-(ncol(imputed_File) - ncol(Input_File2)))]\n",
        "  }\n",
        "  else {\n",
        "    imputed_File2 = imputed_File\n",
        "  }\n",
        "  colnames(imputed_File2) = colnames(Input_File2)\n",
        "\n",
        "  return(imputed_File2)\n",
        "}\n",
        "\n",
        "processing_step_normalize <- function(imputedFile) {\n",
        "  # normalize with log2 and change NAs to zeros\n",
        "  normalized_File <- as.data.frame(log2(imputedFile))\n",
        "  normalized_File[is.na(normalized_File)] <- 0\n",
        "  return(normalized_File)\n",
        "}\n",
        "\n",
        "processing_step_scale <- function(normalizedFile) {\n",
        "  # Scale using the z scale function from R\n",
        "  scale_File <- scale(t(normalizedFile))\n",
        "  scale_File <- t(scale_File)\n",
        "  return(scale_File)\n",
        "}\n"
      ],
      "metadata": {
        "id": "O_kNAMuag8RB"
      },
      "execution_count": 27,
      "outputs": []
    },
    {
      "cell_type": "code",
      "source": [
        "# will generate a few random initial exploratory graphs to ensure processing was successful\n",
        "graph_normalizeVSscale <- function(normalized_table, scale_table, table_name) {\n",
        "  png(paste(table_name, \"_scale1.png\"))\n",
        "  scale1_hist <- hist(as.numeric(scale_table[1,]), main = paste(\"Histogram of \" , table_name, \"scale1\"))\n",
        "  dev.off()\n",
        "  png(paste(table_name, \"_scale12.png\"))\n",
        "  scale12_hist <- hist(as.numeric(scale_table[15,]), main = paste(\"Histogram of \" , table_name, \"scale2\"))\n",
        "  dev.off()\n",
        "\n",
        "  png(paste(table_name, \"_normalized1.png\"))\n",
        "  normalized1_hist <- hist(as.numeric(normalized_table[1,]), main = paste(\"Histogram of \" , table_name, \"normalized1\"))\n",
        "  dev.off()\n",
        "  png(paste(table_name, \"_normalized2.png\"))\n",
        "  normalized2_hist <- hist(as.numeric(normalized_table[15,]), main = paste(\"Histogram of \" , table_name, \"normalized2\"))\n",
        "  dev.off()\n",
        "}"
      ],
      "metadata": {
        "id": "LDEDAyOjjBnG"
      },
      "execution_count": 25,
      "outputs": []
    },
    {
      "cell_type": "code",
      "source": [
        "ALZ_plasma_imputed <- processing_step_impute(ALZ_plasma)\n",
        "ALZ_plasma_normalized <- processing_step_normalize(ALZ_plasma_imputed)\n",
        "ALZ_plasma_scaled <- processing_step_scale(ALZ_plasma_normalized)"
      ],
      "metadata": {
        "colab": {
          "base_uri": "https://localhost:8080/"
        },
        "id": "O2lTcyMamVRX",
        "outputId": "2401a077-8efb-48fc-b398-479791ae3f89"
      },
      "execution_count": 28,
      "outputs": [
        {
          "output_type": "stream",
          "name": "stderr",
          "text": [
            "Warning message in MAI(Input_File2, MCAR_algorithm = c(\"Multi_nsKNN\"), MNAR_algorithm = c(\"nsKNN\"), :\n",
            "“The smallest data set MAI has been tested on was a 50x50 matrix.\n",
            "            Accuracy can not be guaranteed for smaller data sets.”\n",
            "Estimating pattern of missingness\n",
            "\n",
            "Imposing missingness\n",
            "\n",
            "Generating features\n",
            "\n",
            "Training\n",
            "\n",
            "Predicting\n",
            "\n",
            "Imputing\n",
            "\n",
            "Warning message in lapply(X = x, FUN = .Generic, ...):\n",
            "“NaNs produced”\n",
            "Warning message in lapply(X = x, FUN = .Generic, ...):\n",
            "“NaNs produced”\n",
            "Warning message in lapply(X = x, FUN = .Generic, ...):\n",
            "“NaNs produced”\n",
            "Warning message in lapply(X = x, FUN = .Generic, ...):\n",
            "“NaNs produced”\n",
            "Warning message in lapply(X = x, FUN = .Generic, ...):\n",
            "“NaNs produced”\n",
            "Warning message in lapply(X = x, FUN = .Generic, ...):\n",
            "“NaNs produced”\n",
            "Warning message in lapply(X = x, FUN = .Generic, ...):\n",
            "“NaNs produced”\n",
            "Warning message in lapply(X = x, FUN = .Generic, ...):\n",
            "“NaNs produced”\n",
            "Warning message in lapply(X = x, FUN = .Generic, ...):\n",
            "“NaNs produced”\n",
            "Warning message in lapply(X = x, FUN = .Generic, ...):\n",
            "“NaNs produced”\n",
            "Warning message in lapply(X = x, FUN = .Generic, ...):\n",
            "“NaNs produced”\n",
            "Warning message in lapply(X = x, FUN = .Generic, ...):\n",
            "“NaNs produced”\n",
            "Warning message in lapply(X = x, FUN = .Generic, ...):\n",
            "“NaNs produced”\n",
            "Warning message in lapply(X = x, FUN = .Generic, ...):\n",
            "“NaNs produced”\n",
            "Warning message in lapply(X = x, FUN = .Generic, ...):\n",
            "“NaNs produced”\n",
            "Warning message in lapply(X = x, FUN = .Generic, ...):\n",
            "“NaNs produced”\n",
            "Warning message in lapply(X = x, FUN = .Generic, ...):\n",
            "“NaNs produced”\n",
            "Warning message in lapply(X = x, FUN = .Generic, ...):\n",
            "“NaNs produced”\n",
            "Warning message in lapply(X = x, FUN = .Generic, ...):\n",
            "“NaNs produced”\n",
            "Warning message in lapply(X = x, FUN = .Generic, ...):\n",
            "“NaNs produced”\n",
            "Warning message in lapply(X = x, FUN = .Generic, ...):\n",
            "“NaNs produced”\n",
            "Warning message in lapply(X = x, FUN = .Generic, ...):\n",
            "“NaNs produced”\n",
            "Warning message in lapply(X = x, FUN = .Generic, ...):\n",
            "“NaNs produced”\n",
            "Warning message in lapply(X = x, FUN = .Generic, ...):\n",
            "“NaNs produced”\n",
            "Warning message in lapply(X = x, FUN = .Generic, ...):\n",
            "“NaNs produced”\n",
            "Warning message in lapply(X = x, FUN = .Generic, ...):\n",
            "“NaNs produced”\n",
            "Warning message in lapply(X = x, FUN = .Generic, ...):\n",
            "“NaNs produced”\n",
            "Warning message in lapply(X = x, FUN = .Generic, ...):\n",
            "“NaNs produced”\n"
          ]
        }
      ]
    },
    {
      "cell_type": "code",
      "source": [
        "ALZ_csf_imputed <- processing_step_impute(ALZ_CSF)\n",
        "ALZ_csf_normalized <- processing_step_normalize(ALZ_csf_imputed)\n",
        "ALZ_csf_scaled <- processing_step_scale(ALZ_csf_normalized)"
      ],
      "metadata": {
        "id": "ey5wTNv1xsYZ"
      },
      "execution_count": null,
      "outputs": []
    },
    {
      "cell_type": "code",
      "source": [
        "trauma_human_imputed <- processing_step_impute(trauma_human)\n",
        "trauma_human_normalized <- processing_step_normalize(trauma_human_imputed)\n",
        "trauma_human_scaled <- processing_step_scale(trauma_human_normalized)"
      ],
      "metadata": {
        "id": "ziy9v-e-x_lb"
      },
      "execution_count": null,
      "outputs": []
    },
    {
      "cell_type": "code",
      "source": [
        "trauma_rat_imputed <- processing_step_impute(trauma_rat)\n",
        "trauma_rat_normalized <- processing_step_normalize(trauma_rat_imputed)\n",
        "trauma_rat_scaled <- processing_step_scale(trauma_rat_normalized)"
      ],
      "metadata": {
        "id": "O-69dqetyQa7"
      },
      "execution_count": null,
      "outputs": []
    },
    {
      "cell_type": "code",
      "source": [
        "graph_normalizeVSscale(ALZ_plasma_normalized, ALZ_plasma_scaled, \"ALZ_plasma\")\n",
        "graph_normalizeVSscale(ALZ_csf_normalized, ALZ_csf_scaled, \"ALZ_csf\")\n",
        "graph_normalizeVSscale(trauma_human_normalized, trauma_human_scaled, \"trauma_human\")\n",
        "graph_normalizeVSscale(trauma_rat_normalized, trauma_rat_scaled, \"trauma_rat\")"
      ],
      "metadata": {
        "colab": {
          "base_uri": "https://localhost:8080/",
          "height": 34
        },
        "id": "3K2dPF-EnXsM",
        "outputId": "857b4362-71d8-4f9f-87ca-c1ca413718b0"
      },
      "execution_count": 20,
      "outputs": [
        {
          "output_type": "display_data",
          "data": {
            "text/html": [
              "<strong>png:</strong> 2"
            ],
            "text/markdown": "**png:** 2",
            "text/latex": "\\textbf{png:} 2",
            "text/plain": [
              "png \n",
              "  2 "
            ]
          },
          "metadata": {}
        }
      ]
    },
    {
      "cell_type": "code",
      "source": [
        ""
      ],
      "metadata": {
        "id": "2euUed1Xvbd-"
      },
      "execution_count": null,
      "outputs": []
    }
  ]
}
