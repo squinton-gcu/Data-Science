{
  "nbformat": 4,
  "nbformat_minor": 0,
  "metadata": {
    "colab": {
      "provenance": [],
      "authorship_tag": "ABX9TyOIKSqK8M0zlC6fhgd5N73F",
      "include_colab_link": true
    },
    "kernelspec": {
      "name": "ir",
      "display_name": "R"
    },
    "language_info": {
      "name": "R"
    },
    "gpuClass": "standard"
  },
  "cells": [
    {
      "cell_type": "markdown",
      "metadata": {
        "id": "view-in-github",
        "colab_type": "text"
      },
      "source": [
        "<a href=\"https://colab.research.google.com/github/squinton-gcu/Data-Science/blob/main/Thesis/Modules/Processing_Module_R.ipynb\" target=\"_parent\"><img src=\"https://colab.research.google.com/assets/colab-badge.svg\" alt=\"Open In Colab\"/></a>"
      ]
    },
    {
      "cell_type": "markdown",
      "source": [
        "## Processing Module via R\n",
        "This module runs the processing and outlier detection steps of the pipeline.\n",
        "Input is the four datasets.\n",
        "Output is 4 processed csv files.\n",
        "Graphs are generated to show the affects of normalization, and standardization."
      ],
      "metadata": {
        "id": "6sigi5P3I20z"
      }
    },
    {
      "cell_type": "code",
      "execution_count": null,
      "metadata": {
        "id": "c9s7kgsDZHah"
      },
      "outputs": [],
      "source": [
        "# check and install all packages if needed\n",
        "# if you do need to download anything, please restart the runtime\n",
        "if(\"googledrive\" %in% rownames(installed.packages()) == FALSE) {install.packages(\"googledrive\")}\n",
        "if(\"BiocManager\" %in% rownames(installed.packages()) == FALSE) {\n",
        "  install.packages(\"BiocManager\")}\n",
        "if(\"MAI\" %in% rownames(installed.packages()) == FALSE) {BiocManager::install(\"MAI\")\n",
        "# issue with rlang during instalation which requires it to be re-downloaded\n",
        "remove.packages('rlang')\n",
        "install.packages('rlang')\n",
        "}\n"
      ]
    },
    {
      "cell_type": "code",
      "source": [
        "library('googledrive')\n",
        "library('MAI')\n"
      ],
      "metadata": {
        "id": "FBHPsyvVZTMC",
        "colab": {
          "base_uri": "https://localhost:8080/"
        },
        "outputId": "54d1e1a3-e934-4d89-ad70-7c6dbe0a43c8"
      },
      "execution_count": null,
      "outputs": [
        {
          "output_type": "stream",
          "name": "stderr",
          "text": [
            "Warning message in system(\"timedatectl\", intern = TRUE):\n",
            "“running command 'timedatectl' had status 1”\n"
          ]
        }
      ]
    },
    {
      "cell_type": "code",
      "source": [
        "if (file.exists(\"/usr/local/lib/python3.7/dist-packages/google/colab/_ipython.py\")) { #may update python version  \n",
        "                                       #occasionally\n",
        "  install.packages(\"R.utils\")\n",
        "  library(\"R.utils\")\n",
        "  library(\"httr\")\n",
        "  my_check <- function() {return(TRUE)}\n",
        "  reassignInPackage(\"is_interactive\", pkgName = \"httr\", my_check) \n",
        "  options(rlang_interactive=TRUE)\n",
        "}"
      ],
      "metadata": {
        "colab": {
          "base_uri": "https://localhost:8080/"
        },
        "id": "Z73tl_Xeb1kn",
        "outputId": "51085bb6-1969-4008-abec-b8ebec41a9a4"
      },
      "execution_count": null,
      "outputs": [
        {
          "output_type": "stream",
          "name": "stderr",
          "text": [
            "Installing package into ‘/usr/local/lib/R/site-library’\n",
            "(as ‘lib’ is unspecified)\n",
            "\n",
            "also installing the dependencies ‘R.oo’, ‘R.methodsS3’\n",
            "\n",
            "\n",
            "Loading required package: R.oo\n",
            "\n",
            "Loading required package: R.methodsS3\n",
            "\n",
            "R.methodsS3 v1.8.2 (2022-06-13 22:00:14 UTC) successfully loaded. See ?R.methodsS3 for help.\n",
            "\n",
            "R.oo v1.25.0 (2022-06-12 02:20:02 UTC) successfully loaded. See ?R.oo for help.\n",
            "\n",
            "\n",
            "Attaching package: ‘R.oo’\n",
            "\n",
            "\n",
            "The following object is masked from ‘package:R.methodsS3’:\n",
            "\n",
            "    throw\n",
            "\n",
            "\n",
            "The following objects are masked from ‘package:methods’:\n",
            "\n",
            "    getClasses, getMethods\n",
            "\n",
            "\n",
            "The following objects are masked from ‘package:base’:\n",
            "\n",
            "    attach, detach, load, save\n",
            "\n",
            "\n",
            "R.utils v2.12.0 (2022-06-28 03:20:05 UTC) successfully loaded. See ?R.utils for help.\n",
            "\n",
            "\n",
            "Attaching package: ‘R.utils’\n",
            "\n",
            "\n",
            "The following object is masked from ‘package:utils’:\n",
            "\n",
            "    timestamp\n",
            "\n",
            "\n",
            "The following objects are masked from ‘package:base’:\n",
            "\n",
            "    cat, commandArgs, getOption, isOpen, nullfile, parse, warnings\n",
            "\n",
            "\n"
          ]
        }
      ]
    },
    {
      "cell_type": "code",
      "source": [
        "drive_auth(use_oob = TRUE, cache = FALSE)"
      ],
      "metadata": {
        "colab": {
          "base_uri": "https://localhost:8080/"
        },
        "id": "x1ZySjffgRfl",
        "outputId": "aaaf2fe0-3e00-4815-a560-f294dad2fb74"
      },
      "execution_count": null,
      "outputs": [
        {
          "output_type": "stream",
          "name": "stderr",
          "text": [
            "Please point your browser to the following url: \n",
            "\n",
            "https://accounts.google.com/o/oauth2/auth?client_id=603366585132-dpeg5tt0et3go5of2374d83ifevk5086.apps.googleusercontent.com&scope=https%3A%2F%2Fwww.googleapis.com%2Fauth%2Fdrive%20https%3A%2F%2Fwww.googleapis.com%2Fauth%2Fuserinfo.email&redirect_uri=urn%3Aietf%3Awg%3Aoauth%3A2.0%3Aoob&response_type=code\n",
            "\n"
          ]
        },
        {
          "name": "stdout",
          "output_type": "stream",
          "text": [
            "Enter authorization code: 4/1AdQt8qhbLEAtOz24bPEsvAIPcoCrOFV7PA1CaOv2WUEeh851CPO4L6qHWec\n"
          ]
        }
      ]
    },
    {
      "cell_type": "code",
      "source": [
        "x <- drive_get('~/Thesis/ALZ_plasma.csv')\n",
        "drive_download(x, overwrite = TRUE)\n",
        "y <- drive_get('~/Thesis/ALZ_CSF2.csv')\n",
        "drive_download(y, overwrite = TRUE)\n",
        "z <- drive_get('~/Thesis/trauma_human.csv')\n",
        "drive_download(z, overwrite = TRUE)\n",
        "v <- drive_get('~/Thesis/rat_stress.csv')\n",
        "drive_download(v, overwrite = TRUE)"
      ],
      "metadata": {
        "colab": {
          "base_uri": "https://localhost:8080/"
        },
        "id": "nW8DeKp9gY9q",
        "outputId": "6372abf7-3d66-4f24-f7ca-7d00753a5bea"
      },
      "execution_count": null,
      "outputs": [
        {
          "output_type": "stream",
          "name": "stderr",
          "text": [
            "\n",
            "\n",
            "\n",
            "\n",
            "\u001b[32m✔\u001b[39m The input `path` resolved to exactly 1 file.\n",
            "\n",
            "File downloaded:\n",
            "\n",
            "\u001b[36m•\u001b[39m \u001b[36mALZ_plasma.csv\u001b[39m \u001b[90m<id: 1U7njj5PBdw9bSX0J_e-Ri88Vfz2kQf87>\u001b[39m\n",
            "\n",
            "Saved locally as:\n",
            "\n",
            "\u001b[36m•\u001b[39m \u001b[34mALZ_plasma.csv\u001b[39m\n",
            "\n",
            "\n",
            "\n",
            "\n",
            "\n",
            "\u001b[32m✔\u001b[39m The input `path` resolved to exactly 1 file.\n",
            "\n",
            "File downloaded:\n",
            "\n",
            "\u001b[36m•\u001b[39m \u001b[36mALZ_CSF2.csv\u001b[39m \u001b[90m<id: 1cRmB2cJ2BYwipnetgcTMMpxanRAVPxmC>\u001b[39m\n",
            "\n",
            "Saved locally as:\n",
            "\n",
            "\u001b[36m•\u001b[39m \u001b[34mALZ_CSF2.csv\u001b[39m\n",
            "\n",
            "\n",
            "\n",
            "\n",
            "\n",
            "\u001b[32m✔\u001b[39m The input `path` resolved to exactly 1 file.\n",
            "\n",
            "File downloaded:\n",
            "\n",
            "\u001b[36m•\u001b[39m \u001b[36mtrauma_human.csv\u001b[39m \u001b[90m<id: 1ida0XZX27tw3PgNFiU9b81Mgr3PRtIZx>\u001b[39m\n",
            "\n",
            "Saved locally as:\n",
            "\n",
            "\u001b[36m•\u001b[39m \u001b[34mtrauma_human.csv\u001b[39m\n",
            "\n",
            "\n",
            "\n",
            "\n",
            "\n",
            "\u001b[32m✔\u001b[39m The input `path` resolved to exactly 1 file.\n",
            "\n",
            "File downloaded:\n",
            "\n",
            "\u001b[36m•\u001b[39m \u001b[36mrat_stress.csv\u001b[39m \u001b[90m<id: 1gjdVA1DG0k0CAl30Edo4i5HVwHQz7TVk>\u001b[39m\n",
            "\n",
            "Saved locally as:\n",
            "\n",
            "\u001b[36m•\u001b[39m \u001b[34mrat_stress.csv\u001b[39m\n",
            "\n"
          ]
        }
      ]
    },
    {
      "cell_type": "code",
      "source": [
        "ALZ_plasma <- read.table(\"ALZ_plasma.csv\", header=TRUE, row.names = 1, sep =',')\n",
        "ALZ_CSF <- read.table(\"ALZ_CSF2.csv\", header=TRUE, row.names=1, sep=',')\n",
        "trauma_human <- read.table(\"trauma_human.csv\", header=TRUE, row.names=1, sep=',')\n",
        "trauma_rat <- read.table(\"rat_stress.csv\", header=TRUE, row.names=1, sep=',')"
      ],
      "metadata": {
        "id": "Wey6NvY6gxLT"
      },
      "execution_count": null,
      "outputs": []
    },
    {
      "cell_type": "code",
      "source": [
        "head(ALZ_plasma)"
      ],
      "metadata": {
        "id": "ifuA7WAcTPMX",
        "colab": {
          "base_uri": "https://localhost:8080/",
          "height": 445
        },
        "outputId": "c77f865d-f4bb-4f35-81d8-e751597eef4a"
      },
      "execution_count": null,
      "outputs": [
        {
          "output_type": "display_data",
          "data": {
            "text/html": [
              "<table class=\"dataframe\">\n",
              "<caption>A data.frame: 6 × 45</caption>\n",
              "<thead>\n",
              "\t<tr><th></th><th scope=col>Cognitive.Status.AD</th><th scope=col>Cognitive.Status.AD.1</th><th scope=col>Cognitive.Status.AD.2</th><th scope=col>Cognitive.Status.AD.3</th><th scope=col>Cognitive.Status.AD.4</th><th scope=col>Cognitive.Status.AD.5</th><th scope=col>Cognitive.Status.AD.6</th><th scope=col>Cognitive.Status.AD.7</th><th scope=col>Cognitive.Status.AD.8</th><th scope=col>Cognitive.Status.AD.9</th><th scope=col>⋯</th><th scope=col>Cognitive.Status.MCI.5</th><th scope=col>Cognitive.Status.MCI.6</th><th scope=col>Cognitive.Status.MCI.7</th><th scope=col>Cognitive.Status.MCI.8</th><th scope=col>Cognitive.Status.MCI.9</th><th scope=col>Cognitive.Status.MCI.10</th><th scope=col>Cognitive.Status.MCI.11</th><th scope=col>Cognitive.Status.MCI.12</th><th scope=col>Cognitive.Status.MCI.13</th><th scope=col>Cognitive.Status.MCI.14</th></tr>\n",
              "\t<tr><th></th><th scope=col>&lt;dbl&gt;</th><th scope=col>&lt;dbl&gt;</th><th scope=col>&lt;dbl&gt;</th><th scope=col>&lt;dbl&gt;</th><th scope=col>&lt;dbl&gt;</th><th scope=col>&lt;dbl&gt;</th><th scope=col>&lt;dbl&gt;</th><th scope=col>&lt;dbl&gt;</th><th scope=col>&lt;dbl&gt;</th><th scope=col>&lt;dbl&gt;</th><th scope=col>⋯</th><th scope=col>&lt;dbl&gt;</th><th scope=col>&lt;dbl&gt;</th><th scope=col>&lt;dbl&gt;</th><th scope=col>&lt;dbl&gt;</th><th scope=col>&lt;dbl&gt;</th><th scope=col>&lt;dbl&gt;</th><th scope=col>&lt;dbl&gt;</th><th scope=col>&lt;dbl&gt;</th><th scope=col>&lt;dbl&gt;</th><th scope=col>&lt;dbl&gt;</th></tr>\n",
              "</thead>\n",
              "<tbody>\n",
              "\t<tr><th scope=row>10_12_15-octadecatrienoicacid</th><td>272696.5</td><td>418680.0</td><td>422796.0</td><td>67066.5</td><td>271568.0</td><td>341688.5</td><td>243986.0</td><td>110581.0</td><td>479257.5</td><td>323314.5</td><td>⋯</td><td>234945.5</td><td>282963.0</td><td>114699.5</td><td>138607.0</td><td>188056.5</td><td>280496.5</td><td>103736.5</td><td>494963.5</td><td>304309.5</td><td>199646.5</td></tr>\n",
              "\t<tr><th scope=row>(10E)-19-fluorovitaminD3/(10E)-19-fluorocholecalciferol</th><td>      NA</td><td>      NA</td><td>      NA</td><td>     NA</td><td>      NA</td><td>      NA</td><td>  3613.0</td><td> 16589.0</td><td>  8914.5</td><td>  3578.0</td><td>⋯</td><td> 15633.0</td><td>      NA</td><td>  3952.0</td><td>  6362.0</td><td>  3007.0</td><td>  1708.0</td><td>      NA</td><td>  1878.0</td><td>      NA</td><td>      NA</td></tr>\n",
              "\t<tr><th scope=row>10-hydroxy-2E_8E-Decadiene-4_6-diynoicacid</th><td>      NA</td><td>  4576.0</td><td>  2999.0</td><td> 5417.0</td><td>  3286.0</td><td>  7783.0</td><td>      NA</td><td>  4626.0</td><td>  3323.0</td><td> 10477.5</td><td>⋯</td><td>      NA</td><td> 10156.0</td><td>      NA</td><td>      NA</td><td>      NA</td><td>  3699.0</td><td>  3659.5</td><td>      NA</td><td> 50218.0</td><td> 22681.5</td></tr>\n",
              "\t<tr><th scope=row>10-hydroxy-2E_8E-Decadiene-4_6-diynoicacid+1.2059581</th><td> 14333.0</td><td>  8740.0</td><td>      NA</td><td> 4642.0</td><td>      NA</td><td>      NA</td><td>      NA</td><td>  4116.0</td><td>      NA</td><td>  8040.0</td><td>⋯</td><td>  9739.5</td><td>  8989.0</td><td>      NA</td><td> 13212.0</td><td>110780.5</td><td>      NA</td><td>      NA</td><td> 19658.0</td><td>  8971.0</td><td>      NA</td></tr>\n",
              "\t<tr><th scope=row>1-(11E-octadecenoyl)-rac-glycerol</th><td> 23709.0</td><td> 40502.5</td><td> 19871.5</td><td>37048.5</td><td> 33205.5</td><td> 11356.5</td><td> 32472.5</td><td> 27375.5</td><td> 36441.0</td><td> 30257.0</td><td>⋯</td><td> 24845.5</td><td> 22902.5</td><td> 44658.0</td><td> 21881.0</td><td> 61938.0</td><td> 20874.0</td><td> 33359.0</td><td> 35420.0</td><td> 27661.5</td><td> 18861.5</td></tr>\n",
              "\t<tr><th scope=row>11-deoxy-PGE2</th><td>      NA</td><td> 15337.0</td><td>  3390.0</td><td> 5367.0</td><td> 12200.5</td><td>  3346.0</td><td>      NA</td><td>      NA</td><td>  6070.0</td><td>      NA</td><td>⋯</td><td>  2678.0</td><td>      NA</td><td>  6284.0</td><td>  7134.5</td><td>      NA</td><td>  4782.5</td><td>      NA</td><td> 12463.0</td><td>  5701.0</td><td>  9697.0</td></tr>\n",
              "</tbody>\n",
              "</table>\n"
            ],
            "text/markdown": "\nA data.frame: 6 × 45\n\n| <!--/--> | Cognitive.Status.AD &lt;dbl&gt; | Cognitive.Status.AD.1 &lt;dbl&gt; | Cognitive.Status.AD.2 &lt;dbl&gt; | Cognitive.Status.AD.3 &lt;dbl&gt; | Cognitive.Status.AD.4 &lt;dbl&gt; | Cognitive.Status.AD.5 &lt;dbl&gt; | Cognitive.Status.AD.6 &lt;dbl&gt; | Cognitive.Status.AD.7 &lt;dbl&gt; | Cognitive.Status.AD.8 &lt;dbl&gt; | Cognitive.Status.AD.9 &lt;dbl&gt; | ⋯ ⋯ | Cognitive.Status.MCI.5 &lt;dbl&gt; | Cognitive.Status.MCI.6 &lt;dbl&gt; | Cognitive.Status.MCI.7 &lt;dbl&gt; | Cognitive.Status.MCI.8 &lt;dbl&gt; | Cognitive.Status.MCI.9 &lt;dbl&gt; | Cognitive.Status.MCI.10 &lt;dbl&gt; | Cognitive.Status.MCI.11 &lt;dbl&gt; | Cognitive.Status.MCI.12 &lt;dbl&gt; | Cognitive.Status.MCI.13 &lt;dbl&gt; | Cognitive.Status.MCI.14 &lt;dbl&gt; |\n|---|---|---|---|---|---|---|---|---|---|---|---|---|---|---|---|---|---|---|---|---|---|\n| 10_12_15-octadecatrienoicacid | 272696.5 | 418680.0 | 422796.0 | 67066.5 | 271568.0 | 341688.5 | 243986.0 | 110581.0 | 479257.5 | 323314.5 | ⋯ | 234945.5 | 282963.0 | 114699.5 | 138607.0 | 188056.5 | 280496.5 | 103736.5 | 494963.5 | 304309.5 | 199646.5 |\n| (10E)-19-fluorovitaminD3/(10E)-19-fluorocholecalciferol |       NA |       NA |       NA |      NA |       NA |       NA |   3613.0 |  16589.0 |   8914.5 |   3578.0 | ⋯ |  15633.0 |       NA |   3952.0 |   6362.0 |   3007.0 |   1708.0 |       NA |   1878.0 |       NA |       NA |\n| 10-hydroxy-2E_8E-Decadiene-4_6-diynoicacid |       NA |   4576.0 |   2999.0 |  5417.0 |   3286.0 |   7783.0 |       NA |   4626.0 |   3323.0 |  10477.5 | ⋯ |       NA |  10156.0 |       NA |       NA |       NA |   3699.0 |   3659.5 |       NA |  50218.0 |  22681.5 |\n| 10-hydroxy-2E_8E-Decadiene-4_6-diynoicacid+1.2059581 |  14333.0 |   8740.0 |       NA |  4642.0 |       NA |       NA |       NA |   4116.0 |       NA |   8040.0 | ⋯ |   9739.5 |   8989.0 |       NA |  13212.0 | 110780.5 |       NA |       NA |  19658.0 |   8971.0 |       NA |\n| 1-(11E-octadecenoyl)-rac-glycerol |  23709.0 |  40502.5 |  19871.5 | 37048.5 |  33205.5 |  11356.5 |  32472.5 |  27375.5 |  36441.0 |  30257.0 | ⋯ |  24845.5 |  22902.5 |  44658.0 |  21881.0 |  61938.0 |  20874.0 |  33359.0 |  35420.0 |  27661.5 |  18861.5 |\n| 11-deoxy-PGE2 |       NA |  15337.0 |   3390.0 |  5367.0 |  12200.5 |   3346.0 |       NA |       NA |   6070.0 |       NA | ⋯ |   2678.0 |       NA |   6284.0 |   7134.5 |       NA |   4782.5 |       NA |  12463.0 |   5701.0 |   9697.0 |\n\n",
            "text/latex": "A data.frame: 6 × 45\n\\begin{tabular}{r|lllllllllllllllllllll}\n  & Cognitive.Status.AD & Cognitive.Status.AD.1 & Cognitive.Status.AD.2 & Cognitive.Status.AD.3 & Cognitive.Status.AD.4 & Cognitive.Status.AD.5 & Cognitive.Status.AD.6 & Cognitive.Status.AD.7 & Cognitive.Status.AD.8 & Cognitive.Status.AD.9 & ⋯ & Cognitive.Status.MCI.5 & Cognitive.Status.MCI.6 & Cognitive.Status.MCI.7 & Cognitive.Status.MCI.8 & Cognitive.Status.MCI.9 & Cognitive.Status.MCI.10 & Cognitive.Status.MCI.11 & Cognitive.Status.MCI.12 & Cognitive.Status.MCI.13 & Cognitive.Status.MCI.14\\\\\n  & <dbl> & <dbl> & <dbl> & <dbl> & <dbl> & <dbl> & <dbl> & <dbl> & <dbl> & <dbl> & ⋯ & <dbl> & <dbl> & <dbl> & <dbl> & <dbl> & <dbl> & <dbl> & <dbl> & <dbl> & <dbl>\\\\\n\\hline\n\t10\\_12\\_15-octadecatrienoicacid & 272696.5 & 418680.0 & 422796.0 & 67066.5 & 271568.0 & 341688.5 & 243986.0 & 110581.0 & 479257.5 & 323314.5 & ⋯ & 234945.5 & 282963.0 & 114699.5 & 138607.0 & 188056.5 & 280496.5 & 103736.5 & 494963.5 & 304309.5 & 199646.5\\\\\n\t(10E)-19-fluorovitaminD3/(10E)-19-fluorocholecalciferol &       NA &       NA &       NA &      NA &       NA &       NA &   3613.0 &  16589.0 &   8914.5 &   3578.0 & ⋯ &  15633.0 &       NA &   3952.0 &   6362.0 &   3007.0 &   1708.0 &       NA &   1878.0 &       NA &       NA\\\\\n\t10-hydroxy-2E\\_8E-Decadiene-4\\_6-diynoicacid &       NA &   4576.0 &   2999.0 &  5417.0 &   3286.0 &   7783.0 &       NA &   4626.0 &   3323.0 &  10477.5 & ⋯ &       NA &  10156.0 &       NA &       NA &       NA &   3699.0 &   3659.5 &       NA &  50218.0 &  22681.5\\\\\n\t10-hydroxy-2E\\_8E-Decadiene-4\\_6-diynoicacid+1.2059581 &  14333.0 &   8740.0 &       NA &  4642.0 &       NA &       NA &       NA &   4116.0 &       NA &   8040.0 & ⋯ &   9739.5 &   8989.0 &       NA &  13212.0 & 110780.5 &       NA &       NA &  19658.0 &   8971.0 &       NA\\\\\n\t1-(11E-octadecenoyl)-rac-glycerol &  23709.0 &  40502.5 &  19871.5 & 37048.5 &  33205.5 &  11356.5 &  32472.5 &  27375.5 &  36441.0 &  30257.0 & ⋯ &  24845.5 &  22902.5 &  44658.0 &  21881.0 &  61938.0 &  20874.0 &  33359.0 &  35420.0 &  27661.5 &  18861.5\\\\\n\t11-deoxy-PGE2 &       NA &  15337.0 &   3390.0 &  5367.0 &  12200.5 &   3346.0 &       NA &       NA &   6070.0 &       NA & ⋯ &   2678.0 &       NA &   6284.0 &   7134.5 &       NA &   4782.5 &       NA &  12463.0 &   5701.0 &   9697.0\\\\\n\\end{tabular}\n",
            "text/plain": [
              "                                                        Cognitive.Status.AD\n",
              "10_12_15-octadecatrienoicacid                           272696.5           \n",
              "(10E)-19-fluorovitaminD3/(10E)-19-fluorocholecalciferol       NA           \n",
              "10-hydroxy-2E_8E-Decadiene-4_6-diynoicacid                    NA           \n",
              "10-hydroxy-2E_8E-Decadiene-4_6-diynoicacid+1.2059581     14333.0           \n",
              "1-(11E-octadecenoyl)-rac-glycerol                        23709.0           \n",
              "11-deoxy-PGE2                                                 NA           \n",
              "                                                        Cognitive.Status.AD.1\n",
              "10_12_15-octadecatrienoicacid                           418680.0             \n",
              "(10E)-19-fluorovitaminD3/(10E)-19-fluorocholecalciferol       NA             \n",
              "10-hydroxy-2E_8E-Decadiene-4_6-diynoicacid                4576.0             \n",
              "10-hydroxy-2E_8E-Decadiene-4_6-diynoicacid+1.2059581      8740.0             \n",
              "1-(11E-octadecenoyl)-rac-glycerol                        40502.5             \n",
              "11-deoxy-PGE2                                            15337.0             \n",
              "                                                        Cognitive.Status.AD.2\n",
              "10_12_15-octadecatrienoicacid                           422796.0             \n",
              "(10E)-19-fluorovitaminD3/(10E)-19-fluorocholecalciferol       NA             \n",
              "10-hydroxy-2E_8E-Decadiene-4_6-diynoicacid                2999.0             \n",
              "10-hydroxy-2E_8E-Decadiene-4_6-diynoicacid+1.2059581          NA             \n",
              "1-(11E-octadecenoyl)-rac-glycerol                        19871.5             \n",
              "11-deoxy-PGE2                                             3390.0             \n",
              "                                                        Cognitive.Status.AD.3\n",
              "10_12_15-octadecatrienoicacid                           67066.5              \n",
              "(10E)-19-fluorovitaminD3/(10E)-19-fluorocholecalciferol      NA              \n",
              "10-hydroxy-2E_8E-Decadiene-4_6-diynoicacid               5417.0              \n",
              "10-hydroxy-2E_8E-Decadiene-4_6-diynoicacid+1.2059581     4642.0              \n",
              "1-(11E-octadecenoyl)-rac-glycerol                       37048.5              \n",
              "11-deoxy-PGE2                                            5367.0              \n",
              "                                                        Cognitive.Status.AD.4\n",
              "10_12_15-octadecatrienoicacid                           271568.0             \n",
              "(10E)-19-fluorovitaminD3/(10E)-19-fluorocholecalciferol       NA             \n",
              "10-hydroxy-2E_8E-Decadiene-4_6-diynoicacid                3286.0             \n",
              "10-hydroxy-2E_8E-Decadiene-4_6-diynoicacid+1.2059581          NA             \n",
              "1-(11E-octadecenoyl)-rac-glycerol                        33205.5             \n",
              "11-deoxy-PGE2                                            12200.5             \n",
              "                                                        Cognitive.Status.AD.5\n",
              "10_12_15-octadecatrienoicacid                           341688.5             \n",
              "(10E)-19-fluorovitaminD3/(10E)-19-fluorocholecalciferol       NA             \n",
              "10-hydroxy-2E_8E-Decadiene-4_6-diynoicacid                7783.0             \n",
              "10-hydroxy-2E_8E-Decadiene-4_6-diynoicacid+1.2059581          NA             \n",
              "1-(11E-octadecenoyl)-rac-glycerol                        11356.5             \n",
              "11-deoxy-PGE2                                             3346.0             \n",
              "                                                        Cognitive.Status.AD.6\n",
              "10_12_15-octadecatrienoicacid                           243986.0             \n",
              "(10E)-19-fluorovitaminD3/(10E)-19-fluorocholecalciferol   3613.0             \n",
              "10-hydroxy-2E_8E-Decadiene-4_6-diynoicacid                    NA             \n",
              "10-hydroxy-2E_8E-Decadiene-4_6-diynoicacid+1.2059581          NA             \n",
              "1-(11E-octadecenoyl)-rac-glycerol                        32472.5             \n",
              "11-deoxy-PGE2                                                 NA             \n",
              "                                                        Cognitive.Status.AD.7\n",
              "10_12_15-octadecatrienoicacid                           110581.0             \n",
              "(10E)-19-fluorovitaminD3/(10E)-19-fluorocholecalciferol  16589.0             \n",
              "10-hydroxy-2E_8E-Decadiene-4_6-diynoicacid                4626.0             \n",
              "10-hydroxy-2E_8E-Decadiene-4_6-diynoicacid+1.2059581      4116.0             \n",
              "1-(11E-octadecenoyl)-rac-glycerol                        27375.5             \n",
              "11-deoxy-PGE2                                                 NA             \n",
              "                                                        Cognitive.Status.AD.8\n",
              "10_12_15-octadecatrienoicacid                           479257.5             \n",
              "(10E)-19-fluorovitaminD3/(10E)-19-fluorocholecalciferol   8914.5             \n",
              "10-hydroxy-2E_8E-Decadiene-4_6-diynoicacid                3323.0             \n",
              "10-hydroxy-2E_8E-Decadiene-4_6-diynoicacid+1.2059581          NA             \n",
              "1-(11E-octadecenoyl)-rac-glycerol                        36441.0             \n",
              "11-deoxy-PGE2                                             6070.0             \n",
              "                                                        Cognitive.Status.AD.9 ⋯\n",
              "10_12_15-octadecatrienoicacid                           323314.5              ⋯\n",
              "(10E)-19-fluorovitaminD3/(10E)-19-fluorocholecalciferol   3578.0              ⋯\n",
              "10-hydroxy-2E_8E-Decadiene-4_6-diynoicacid               10477.5              ⋯\n",
              "10-hydroxy-2E_8E-Decadiene-4_6-diynoicacid+1.2059581      8040.0              ⋯\n",
              "1-(11E-octadecenoyl)-rac-glycerol                        30257.0              ⋯\n",
              "11-deoxy-PGE2                                                 NA              ⋯\n",
              "                                                        Cognitive.Status.MCI.5\n",
              "10_12_15-octadecatrienoicacid                           234945.5              \n",
              "(10E)-19-fluorovitaminD3/(10E)-19-fluorocholecalciferol  15633.0              \n",
              "10-hydroxy-2E_8E-Decadiene-4_6-diynoicacid                    NA              \n",
              "10-hydroxy-2E_8E-Decadiene-4_6-diynoicacid+1.2059581      9739.5              \n",
              "1-(11E-octadecenoyl)-rac-glycerol                        24845.5              \n",
              "11-deoxy-PGE2                                             2678.0              \n",
              "                                                        Cognitive.Status.MCI.6\n",
              "10_12_15-octadecatrienoicacid                           282963.0              \n",
              "(10E)-19-fluorovitaminD3/(10E)-19-fluorocholecalciferol       NA              \n",
              "10-hydroxy-2E_8E-Decadiene-4_6-diynoicacid               10156.0              \n",
              "10-hydroxy-2E_8E-Decadiene-4_6-diynoicacid+1.2059581      8989.0              \n",
              "1-(11E-octadecenoyl)-rac-glycerol                        22902.5              \n",
              "11-deoxy-PGE2                                                 NA              \n",
              "                                                        Cognitive.Status.MCI.7\n",
              "10_12_15-octadecatrienoicacid                           114699.5              \n",
              "(10E)-19-fluorovitaminD3/(10E)-19-fluorocholecalciferol   3952.0              \n",
              "10-hydroxy-2E_8E-Decadiene-4_6-diynoicacid                    NA              \n",
              "10-hydroxy-2E_8E-Decadiene-4_6-diynoicacid+1.2059581          NA              \n",
              "1-(11E-octadecenoyl)-rac-glycerol                        44658.0              \n",
              "11-deoxy-PGE2                                             6284.0              \n",
              "                                                        Cognitive.Status.MCI.8\n",
              "10_12_15-octadecatrienoicacid                           138607.0              \n",
              "(10E)-19-fluorovitaminD3/(10E)-19-fluorocholecalciferol   6362.0              \n",
              "10-hydroxy-2E_8E-Decadiene-4_6-diynoicacid                    NA              \n",
              "10-hydroxy-2E_8E-Decadiene-4_6-diynoicacid+1.2059581     13212.0              \n",
              "1-(11E-octadecenoyl)-rac-glycerol                        21881.0              \n",
              "11-deoxy-PGE2                                             7134.5              \n",
              "                                                        Cognitive.Status.MCI.9\n",
              "10_12_15-octadecatrienoicacid                           188056.5              \n",
              "(10E)-19-fluorovitaminD3/(10E)-19-fluorocholecalciferol   3007.0              \n",
              "10-hydroxy-2E_8E-Decadiene-4_6-diynoicacid                    NA              \n",
              "10-hydroxy-2E_8E-Decadiene-4_6-diynoicacid+1.2059581    110780.5              \n",
              "1-(11E-octadecenoyl)-rac-glycerol                        61938.0              \n",
              "11-deoxy-PGE2                                                 NA              \n",
              "                                                        Cognitive.Status.MCI.10\n",
              "10_12_15-octadecatrienoicacid                           280496.5               \n",
              "(10E)-19-fluorovitaminD3/(10E)-19-fluorocholecalciferol   1708.0               \n",
              "10-hydroxy-2E_8E-Decadiene-4_6-diynoicacid                3699.0               \n",
              "10-hydroxy-2E_8E-Decadiene-4_6-diynoicacid+1.2059581          NA               \n",
              "1-(11E-octadecenoyl)-rac-glycerol                        20874.0               \n",
              "11-deoxy-PGE2                                             4782.5               \n",
              "                                                        Cognitive.Status.MCI.11\n",
              "10_12_15-octadecatrienoicacid                           103736.5               \n",
              "(10E)-19-fluorovitaminD3/(10E)-19-fluorocholecalciferol       NA               \n",
              "10-hydroxy-2E_8E-Decadiene-4_6-diynoicacid                3659.5               \n",
              "10-hydroxy-2E_8E-Decadiene-4_6-diynoicacid+1.2059581          NA               \n",
              "1-(11E-octadecenoyl)-rac-glycerol                        33359.0               \n",
              "11-deoxy-PGE2                                                 NA               \n",
              "                                                        Cognitive.Status.MCI.12\n",
              "10_12_15-octadecatrienoicacid                           494963.5               \n",
              "(10E)-19-fluorovitaminD3/(10E)-19-fluorocholecalciferol   1878.0               \n",
              "10-hydroxy-2E_8E-Decadiene-4_6-diynoicacid                    NA               \n",
              "10-hydroxy-2E_8E-Decadiene-4_6-diynoicacid+1.2059581     19658.0               \n",
              "1-(11E-octadecenoyl)-rac-glycerol                        35420.0               \n",
              "11-deoxy-PGE2                                            12463.0               \n",
              "                                                        Cognitive.Status.MCI.13\n",
              "10_12_15-octadecatrienoicacid                           304309.5               \n",
              "(10E)-19-fluorovitaminD3/(10E)-19-fluorocholecalciferol       NA               \n",
              "10-hydroxy-2E_8E-Decadiene-4_6-diynoicacid               50218.0               \n",
              "10-hydroxy-2E_8E-Decadiene-4_6-diynoicacid+1.2059581      8971.0               \n",
              "1-(11E-octadecenoyl)-rac-glycerol                        27661.5               \n",
              "11-deoxy-PGE2                                             5701.0               \n",
              "                                                        Cognitive.Status.MCI.14\n",
              "10_12_15-octadecatrienoicacid                           199646.5               \n",
              "(10E)-19-fluorovitaminD3/(10E)-19-fluorocholecalciferol       NA               \n",
              "10-hydroxy-2E_8E-Decadiene-4_6-diynoicacid               22681.5               \n",
              "10-hydroxy-2E_8E-Decadiene-4_6-diynoicacid+1.2059581          NA               \n",
              "1-(11E-octadecenoyl)-rac-glycerol                        18861.5               \n",
              "11-deoxy-PGE2                                             9697.0               "
            ]
          },
          "metadata": {}
        }
      ]
    },
    {
      "cell_type": "code",
      "source": [
        "processing_step_impute <- function(Input_File) {\n",
        "  #remove all metabolites with more than 70% missing values\n",
        "  Input_File2 <- Input_File[, which(colMeans(!is.na(Input_File)) > 0.7)]\n",
        "  # take care of missing values\n",
        "  imputed_File <- MAI(Input_File2, \n",
        "\t\t\t\t\tMCAR_algorithm = c(\"Multi_nsKNN\"),\n",
        "\t\t\t\t\tMNAR_algorithm = c(\"nsKNN\"),\n",
        "\t\t\t\t\t)\n",
        "  imputed_File <- as.data.frame(imputed_File)\n",
        "  row.names(imputed_File) = row.names(Input_File2)\n",
        "  colnames(imputed_File) = colnames(Input_File2)\n",
        "  if (ncol(Input_File2) != ncol(imputed_File)) {\n",
        "    imputed_File2 <- imputed_File[1:(length(imputed_File)-(ncol(imputed_File) - ncol(Input_File2)))]\n",
        "  }\n",
        "  else {\n",
        "    imputed_File2 = imputed_File\n",
        "  }\n",
        "  colnames(imputed_File2) = colnames(Input_File2)\n",
        "\n",
        "  return(imputed_File2)\n",
        "}\n",
        "\n",
        "processing_step_normalize <- function(imputedFile) {\n",
        "  # normalize with log2 and change NAs to zeros\n",
        "  normalized_File <- as.data.frame(log2(imputedFile))\n",
        "  normalized_File[is.na(normalized_File)] <- 0\n",
        "  return(normalized_File)\n",
        "}\n",
        "\n",
        "processing_step_scale <- function(normalizedFile) {\n",
        "  # Scale using the z scale function from R\n",
        "  scale_File <- scale(t(normalizedFile))\n",
        "  scale_File <- t(scale_File)\n",
        "  return(scale_File)\n",
        "}\n"
      ],
      "metadata": {
        "id": "O_kNAMuag8RB"
      },
      "execution_count": null,
      "outputs": []
    },
    {
      "cell_type": "code",
      "source": [
        "# will generate a few random initial exploratory graphs to ensure processing was successful\n",
        "graph_normalizeVSscale <- function(normalized_table, scale_table, table_name) {\n",
        "  png(paste(table_name, \"_normal1.png\"))\n",
        "  scale1_hist <- hist(as.numeric(scale_table[1,]), main = paste(\"Histogram of \" , table_name, \"normal1\"))\n",
        "  dev.off()\n",
        "  png(paste(table_name, \"_normal2.png\"))\n",
        "  scale12_hist <- hist(as.numeric(scale_table[15,]), main = paste(\"Histogram of \" , table_name, \"normal2\"))\n",
        "  dev.off()\n",
        "\n",
        "  png(paste(table_name, \"_normalized1.png\"))\n",
        "  normalized1_hist <- hist(as.numeric(normalized_table[1,]), main = paste(\"Histogram of \" , table_name, \"normalized1\"))\n",
        "  dev.off()\n",
        "  png(paste(table_name, \"_normalized2.png\"))\n",
        "  normalized2_hist <- hist(as.numeric(normalized_table[15,]), main = paste(\"Histogram of \" , table_name, \"normalized2\"))\n",
        "  dev.off()\n",
        "}"
      ],
      "metadata": {
        "id": "LDEDAyOjjBnG"
      },
      "execution_count": null,
      "outputs": []
    },
    {
      "cell_type": "code",
      "source": [
        "#outlier checker using IQR\n",
        "outlier_checker <- function(normalized, name) {\n",
        "  outlier_list = NULL\n",
        "  options(warn=-1)\n",
        "  for (x in 1:nrow(normalized)) {\n",
        "    ALZ_Q3 <- quantile(normalized[x,], 0.75)\n",
        "    ALZ_Q1<- quantile(normalized[x,], 0.21)\n",
        "    ALZ_IQR <- IQR(normalized[x,])\n",
        "    ALZ_outliers <-subset(normalized[x,], normalized[x,] > (as.numeric(ALZ_Q1 - 1.5*ALZ_IQR)) & normalized[x,] < (as.numeric(ALZ_Q3 + 1.5*ALZ_IQR)))\n",
        "    ALZ_num_outliers <- length(ALZ_outliers[1,]) - ncol(normalized)\n",
        "    outlier_list <- append(outlier_list, ALZ_num_outliers)\n",
        "  }\n",
        "  print(paste(name, \" outlier list\"))\n",
        "  subset(outlier_list, outlier_list > 0)\n",
        "}"
      ],
      "metadata": {
        "id": "5H0Tb59k1_VE"
      },
      "execution_count": null,
      "outputs": []
    },
    {
      "cell_type": "code",
      "source": [
        "ALZ_plasma_imputed <- processing_step_impute(ALZ_plasma)\n",
        "ALZ_plasma_normalized <- processing_step_normalize(ALZ_plasma_imputed)\n",
        "ALZ_plasma_scaled <- processing_step_scale(ALZ_plasma_normalized)"
      ],
      "metadata": {
        "colab": {
          "base_uri": "https://localhost:8080/"
        },
        "id": "O2lTcyMamVRX",
        "outputId": "a7627f40-8725-472c-ebc8-0baf4418d302"
      },
      "execution_count": null,
      "outputs": [
        {
          "output_type": "stream",
          "name": "stderr",
          "text": [
            "Warning message in MAI(Input_File2, MCAR_algorithm = c(\"Multi_nsKNN\"), MNAR_algorithm = c(\"nsKNN\"), :\n",
            "“The smallest data set MAI has been tested on was a 50x50 matrix.\n",
            "            Accuracy can not be guaranteed for smaller data sets.”\n",
            "Estimating pattern of missingness\n",
            "\n",
            "Imposing missingness\n",
            "\n",
            "Generating features\n",
            "\n",
            "Training\n",
            "\n",
            "Predicting\n",
            "\n",
            "Imputing\n",
            "\n",
            "Warning message in lapply(X = x, FUN = .Generic, ...):\n",
            "“NaNs produced”\n",
            "Warning message in lapply(X = x, FUN = .Generic, ...):\n",
            "“NaNs produced”\n",
            "Warning message in lapply(X = x, FUN = .Generic, ...):\n",
            "“NaNs produced”\n",
            "Warning message in lapply(X = x, FUN = .Generic, ...):\n",
            "“NaNs produced”\n",
            "Warning message in lapply(X = x, FUN = .Generic, ...):\n",
            "“NaNs produced”\n",
            "Warning message in lapply(X = x, FUN = .Generic, ...):\n",
            "“NaNs produced”\n",
            "Warning message in lapply(X = x, FUN = .Generic, ...):\n",
            "“NaNs produced”\n",
            "Warning message in lapply(X = x, FUN = .Generic, ...):\n",
            "“NaNs produced”\n",
            "Warning message in lapply(X = x, FUN = .Generic, ...):\n",
            "“NaNs produced”\n",
            "Warning message in lapply(X = x, FUN = .Generic, ...):\n",
            "“NaNs produced”\n",
            "Warning message in lapply(X = x, FUN = .Generic, ...):\n",
            "“NaNs produced”\n",
            "Warning message in lapply(X = x, FUN = .Generic, ...):\n",
            "“NaNs produced”\n",
            "Warning message in lapply(X = x, FUN = .Generic, ...):\n",
            "“NaNs produced”\n",
            "Warning message in lapply(X = x, FUN = .Generic, ...):\n",
            "“NaNs produced”\n",
            "Warning message in lapply(X = x, FUN = .Generic, ...):\n",
            "“NaNs produced”\n",
            "Warning message in lapply(X = x, FUN = .Generic, ...):\n",
            "“NaNs produced”\n",
            "Warning message in lapply(X = x, FUN = .Generic, ...):\n",
            "“NaNs produced”\n",
            "Warning message in lapply(X = x, FUN = .Generic, ...):\n",
            "“NaNs produced”\n",
            "Warning message in lapply(X = x, FUN = .Generic, ...):\n",
            "“NaNs produced”\n",
            "Warning message in lapply(X = x, FUN = .Generic, ...):\n",
            "“NaNs produced”\n",
            "Warning message in lapply(X = x, FUN = .Generic, ...):\n",
            "“NaNs produced”\n",
            "Warning message in lapply(X = x, FUN = .Generic, ...):\n",
            "“NaNs produced”\n",
            "Warning message in lapply(X = x, FUN = .Generic, ...):\n",
            "“NaNs produced”\n",
            "Warning message in lapply(X = x, FUN = .Generic, ...):\n",
            "“NaNs produced”\n",
            "Warning message in lapply(X = x, FUN = .Generic, ...):\n",
            "“NaNs produced”\n",
            "Warning message in lapply(X = x, FUN = .Generic, ...):\n",
            "“NaNs produced”\n",
            "Warning message in lapply(X = x, FUN = .Generic, ...):\n",
            "“NaNs produced”\n",
            "Warning message in lapply(X = x, FUN = .Generic, ...):\n",
            "“NaNs produced”\n",
            "Warning message in lapply(X = x, FUN = .Generic, ...):\n",
            "“NaNs produced”\n"
          ]
        }
      ]
    },
    {
      "cell_type": "code",
      "source": [
        "head(ALZ_plasma_imputed)"
      ],
      "metadata": {
        "colab": {
          "base_uri": "https://localhost:8080/",
          "height": 445
        },
        "id": "HLwp5PVsWAti",
        "outputId": "63abe8bd-4749-4951-99a7-1bc73763d356"
      },
      "execution_count": null,
      "outputs": [
        {
          "output_type": "display_data",
          "data": {
            "text/html": [
              "<table class=\"dataframe\">\n",
              "<caption>A data.frame: 6 × 45</caption>\n",
              "<thead>\n",
              "\t<tr><th></th><th scope=col>Cognitive.Status.AD</th><th scope=col>Cognitive.Status.AD.1</th><th scope=col>Cognitive.Status.AD.2</th><th scope=col>Cognitive.Status.AD.3</th><th scope=col>Cognitive.Status.AD.4</th><th scope=col>Cognitive.Status.AD.5</th><th scope=col>Cognitive.Status.AD.6</th><th scope=col>Cognitive.Status.AD.7</th><th scope=col>Cognitive.Status.AD.8</th><th scope=col>Cognitive.Status.AD.9</th><th scope=col>⋯</th><th scope=col>Cognitive.Status.MCI.5</th><th scope=col>Cognitive.Status.MCI.6</th><th scope=col>Cognitive.Status.MCI.7</th><th scope=col>Cognitive.Status.MCI.8</th><th scope=col>Cognitive.Status.MCI.9</th><th scope=col>Cognitive.Status.MCI.10</th><th scope=col>Cognitive.Status.MCI.11</th><th scope=col>Cognitive.Status.MCI.12</th><th scope=col>Cognitive.Status.MCI.13</th><th scope=col>Cognitive.Status.MCI.14</th></tr>\n",
              "\t<tr><th></th><th scope=col>&lt;dbl&gt;</th><th scope=col>&lt;dbl&gt;</th><th scope=col>&lt;dbl&gt;</th><th scope=col>&lt;dbl&gt;</th><th scope=col>&lt;dbl&gt;</th><th scope=col>&lt;dbl&gt;</th><th scope=col>&lt;dbl&gt;</th><th scope=col>&lt;dbl&gt;</th><th scope=col>&lt;dbl&gt;</th><th scope=col>&lt;dbl&gt;</th><th scope=col>⋯</th><th scope=col>&lt;dbl&gt;</th><th scope=col>&lt;dbl&gt;</th><th scope=col>&lt;dbl&gt;</th><th scope=col>&lt;dbl&gt;</th><th scope=col>&lt;dbl&gt;</th><th scope=col>&lt;dbl&gt;</th><th scope=col>&lt;dbl&gt;</th><th scope=col>&lt;dbl&gt;</th><th scope=col>&lt;dbl&gt;</th><th scope=col>&lt;dbl&gt;</th></tr>\n",
              "</thead>\n",
              "<tbody>\n",
              "\t<tr><th scope=row>10_12_15-octadecatrienoicacid</th><td>272696.500</td><td>418680.00</td><td>422796.0000</td><td>67066.500</td><td>271568.00</td><td>341688.500</td><td>243986.000</td><td>110581.000</td><td>479257.50</td><td>323314.5000</td><td>⋯</td><td>234945.50</td><td>282963.000</td><td>114699.5</td><td>138607.00</td><td>188056.500</td><td>280496.5</td><td>103736.500</td><td>494963.50</td><td>304309.500</td><td>199646.500</td></tr>\n",
              "\t<tr><th scope=row>(10E)-19-fluorovitaminD3/(10E)-19-fluorocholecalciferol</th><td> -1074.380</td><td> 19167.95</td><td>   910.8385</td><td>-8824.799</td><td> 12732.12</td><td>  7726.317</td><td>  3613.000</td><td> 16589.000</td><td>  8914.50</td><td>  3578.0000</td><td>⋯</td><td> 15633.00</td><td>  8281.066</td><td>  3952.0</td><td>  6362.00</td><td>  3007.000</td><td>  1708.0</td><td>  1448.409</td><td>  1878.00</td><td>  7097.815</td><td>  3747.452</td></tr>\n",
              "\t<tr><th scope=row>10-hydroxy-2E_8E-Decadiene-4_6-diynoicacid</th><td>  3311.885</td><td>  4576.00</td><td>  2999.0000</td><td> 5417.000</td><td>  3286.00</td><td>  7783.000</td><td>  3096.419</td><td>  4626.000</td><td>  3323.00</td><td> 10477.5000</td><td>⋯</td><td> 11834.38</td><td> 10156.000</td><td> 11654.9</td><td> 13776.69</td><td> 11079.415</td><td>  3699.0</td><td>  3659.500</td><td> 11022.33</td><td> 50218.000</td><td> 22681.500</td></tr>\n",
              "\t<tr><th scope=row>10-hydroxy-2E_8E-Decadiene-4_6-diynoicacid+1.2059581</th><td> 14333.000</td><td>  8740.00</td><td> 14285.9563</td><td> 4642.000</td><td> 26411.46</td><td> 20676.806</td><td> 10664.462</td><td>  4116.000</td><td> 30355.32</td><td>  8040.0000</td><td>⋯</td><td>  9739.50</td><td>  8989.000</td><td> 20410.8</td><td> 13212.00</td><td>110780.500</td><td> 17847.3</td><td> 12965.634</td><td> 19658.00</td><td>  8971.000</td><td> 16433.653</td></tr>\n",
              "\t<tr><th scope=row>1-(11E-octadecenoyl)-rac-glycerol</th><td> 23709.000</td><td> 40502.50</td><td> 19871.5000</td><td>37048.500</td><td> 33205.50</td><td> 11356.500</td><td> 32472.500</td><td> 27375.500</td><td> 36441.00</td><td> 30257.0000</td><td>⋯</td><td> 24845.50</td><td> 22902.500</td><td> 44658.0</td><td> 21881.00</td><td> 61938.000</td><td> 20874.0</td><td> 33359.000</td><td> 35420.00</td><td> 27661.500</td><td> 18861.500</td></tr>\n",
              "\t<tr><th scope=row>11-deoxy-PGE2</th><td> -1760.565</td><td> 15337.00</td><td>  3390.0000</td><td> 5367.000</td><td> 12200.50</td><td>  3346.000</td><td> -2259.518</td><td>  1893.096</td><td>  6070.00</td><td>  -950.9693</td><td>⋯</td><td>  2678.00</td><td>  8305.901</td><td>  6284.0</td><td>  7134.50</td><td>  6345.668</td><td>  4782.5</td><td>  1598.564</td><td> 12463.00</td><td>  5701.000</td><td>  9697.000</td></tr>\n",
              "</tbody>\n",
              "</table>\n"
            ],
            "text/markdown": "\nA data.frame: 6 × 45\n\n| <!--/--> | Cognitive.Status.AD &lt;dbl&gt; | Cognitive.Status.AD.1 &lt;dbl&gt; | Cognitive.Status.AD.2 &lt;dbl&gt; | Cognitive.Status.AD.3 &lt;dbl&gt; | Cognitive.Status.AD.4 &lt;dbl&gt; | Cognitive.Status.AD.5 &lt;dbl&gt; | Cognitive.Status.AD.6 &lt;dbl&gt; | Cognitive.Status.AD.7 &lt;dbl&gt; | Cognitive.Status.AD.8 &lt;dbl&gt; | Cognitive.Status.AD.9 &lt;dbl&gt; | ⋯ ⋯ | Cognitive.Status.MCI.5 &lt;dbl&gt; | Cognitive.Status.MCI.6 &lt;dbl&gt; | Cognitive.Status.MCI.7 &lt;dbl&gt; | Cognitive.Status.MCI.8 &lt;dbl&gt; | Cognitive.Status.MCI.9 &lt;dbl&gt; | Cognitive.Status.MCI.10 &lt;dbl&gt; | Cognitive.Status.MCI.11 &lt;dbl&gt; | Cognitive.Status.MCI.12 &lt;dbl&gt; | Cognitive.Status.MCI.13 &lt;dbl&gt; | Cognitive.Status.MCI.14 &lt;dbl&gt; |\n|---|---|---|---|---|---|---|---|---|---|---|---|---|---|---|---|---|---|---|---|---|---|\n| 10_12_15-octadecatrienoicacid | 272696.500 | 418680.00 | 422796.0000 | 67066.500 | 271568.00 | 341688.500 | 243986.000 | 110581.000 | 479257.50 | 323314.5000 | ⋯ | 234945.50 | 282963.000 | 114699.5 | 138607.00 | 188056.500 | 280496.5 | 103736.500 | 494963.50 | 304309.500 | 199646.500 |\n| (10E)-19-fluorovitaminD3/(10E)-19-fluorocholecalciferol |  -1074.380 |  19167.95 |    910.8385 | -8824.799 |  12732.12 |   7726.317 |   3613.000 |  16589.000 |   8914.50 |   3578.0000 | ⋯ |  15633.00 |   8281.066 |   3952.0 |   6362.00 |   3007.000 |   1708.0 |   1448.409 |   1878.00 |   7097.815 |   3747.452 |\n| 10-hydroxy-2E_8E-Decadiene-4_6-diynoicacid |   3311.885 |   4576.00 |   2999.0000 |  5417.000 |   3286.00 |   7783.000 |   3096.419 |   4626.000 |   3323.00 |  10477.5000 | ⋯ |  11834.38 |  10156.000 |  11654.9 |  13776.69 |  11079.415 |   3699.0 |   3659.500 |  11022.33 |  50218.000 |  22681.500 |\n| 10-hydroxy-2E_8E-Decadiene-4_6-diynoicacid+1.2059581 |  14333.000 |   8740.00 |  14285.9563 |  4642.000 |  26411.46 |  20676.806 |  10664.462 |   4116.000 |  30355.32 |   8040.0000 | ⋯ |   9739.50 |   8989.000 |  20410.8 |  13212.00 | 110780.500 |  17847.3 |  12965.634 |  19658.00 |   8971.000 |  16433.653 |\n| 1-(11E-octadecenoyl)-rac-glycerol |  23709.000 |  40502.50 |  19871.5000 | 37048.500 |  33205.50 |  11356.500 |  32472.500 |  27375.500 |  36441.00 |  30257.0000 | ⋯ |  24845.50 |  22902.500 |  44658.0 |  21881.00 |  61938.000 |  20874.0 |  33359.000 |  35420.00 |  27661.500 |  18861.500 |\n| 11-deoxy-PGE2 |  -1760.565 |  15337.00 |   3390.0000 |  5367.000 |  12200.50 |   3346.000 |  -2259.518 |   1893.096 |   6070.00 |   -950.9693 | ⋯ |   2678.00 |   8305.901 |   6284.0 |   7134.50 |   6345.668 |   4782.5 |   1598.564 |  12463.00 |   5701.000 |   9697.000 |\n\n",
            "text/latex": "A data.frame: 6 × 45\n\\begin{tabular}{r|lllllllllllllllllllll}\n  & Cognitive.Status.AD & Cognitive.Status.AD.1 & Cognitive.Status.AD.2 & Cognitive.Status.AD.3 & Cognitive.Status.AD.4 & Cognitive.Status.AD.5 & Cognitive.Status.AD.6 & Cognitive.Status.AD.7 & Cognitive.Status.AD.8 & Cognitive.Status.AD.9 & ⋯ & Cognitive.Status.MCI.5 & Cognitive.Status.MCI.6 & Cognitive.Status.MCI.7 & Cognitive.Status.MCI.8 & Cognitive.Status.MCI.9 & Cognitive.Status.MCI.10 & Cognitive.Status.MCI.11 & Cognitive.Status.MCI.12 & Cognitive.Status.MCI.13 & Cognitive.Status.MCI.14\\\\\n  & <dbl> & <dbl> & <dbl> & <dbl> & <dbl> & <dbl> & <dbl> & <dbl> & <dbl> & <dbl> & ⋯ & <dbl> & <dbl> & <dbl> & <dbl> & <dbl> & <dbl> & <dbl> & <dbl> & <dbl> & <dbl>\\\\\n\\hline\n\t10\\_12\\_15-octadecatrienoicacid & 272696.500 & 418680.00 & 422796.0000 & 67066.500 & 271568.00 & 341688.500 & 243986.000 & 110581.000 & 479257.50 & 323314.5000 & ⋯ & 234945.50 & 282963.000 & 114699.5 & 138607.00 & 188056.500 & 280496.5 & 103736.500 & 494963.50 & 304309.500 & 199646.500\\\\\n\t(10E)-19-fluorovitaminD3/(10E)-19-fluorocholecalciferol &  -1074.380 &  19167.95 &    910.8385 & -8824.799 &  12732.12 &   7726.317 &   3613.000 &  16589.000 &   8914.50 &   3578.0000 & ⋯ &  15633.00 &   8281.066 &   3952.0 &   6362.00 &   3007.000 &   1708.0 &   1448.409 &   1878.00 &   7097.815 &   3747.452\\\\\n\t10-hydroxy-2E\\_8E-Decadiene-4\\_6-diynoicacid &   3311.885 &   4576.00 &   2999.0000 &  5417.000 &   3286.00 &   7783.000 &   3096.419 &   4626.000 &   3323.00 &  10477.5000 & ⋯ &  11834.38 &  10156.000 &  11654.9 &  13776.69 &  11079.415 &   3699.0 &   3659.500 &  11022.33 &  50218.000 &  22681.500\\\\\n\t10-hydroxy-2E\\_8E-Decadiene-4\\_6-diynoicacid+1.2059581 &  14333.000 &   8740.00 &  14285.9563 &  4642.000 &  26411.46 &  20676.806 &  10664.462 &   4116.000 &  30355.32 &   8040.0000 & ⋯ &   9739.50 &   8989.000 &  20410.8 &  13212.00 & 110780.500 &  17847.3 &  12965.634 &  19658.00 &   8971.000 &  16433.653\\\\\n\t1-(11E-octadecenoyl)-rac-glycerol &  23709.000 &  40502.50 &  19871.5000 & 37048.500 &  33205.50 &  11356.500 &  32472.500 &  27375.500 &  36441.00 &  30257.0000 & ⋯ &  24845.50 &  22902.500 &  44658.0 &  21881.00 &  61938.000 &  20874.0 &  33359.000 &  35420.00 &  27661.500 &  18861.500\\\\\n\t11-deoxy-PGE2 &  -1760.565 &  15337.00 &   3390.0000 &  5367.000 &  12200.50 &   3346.000 &  -2259.518 &   1893.096 &   6070.00 &   -950.9693 & ⋯ &   2678.00 &   8305.901 &   6284.0 &   7134.50 &   6345.668 &   4782.5 &   1598.564 &  12463.00 &   5701.000 &   9697.000\\\\\n\\end{tabular}\n",
            "text/plain": [
              "                                                        Cognitive.Status.AD\n",
              "10_12_15-octadecatrienoicacid                           272696.500         \n",
              "(10E)-19-fluorovitaminD3/(10E)-19-fluorocholecalciferol  -1074.380         \n",
              "10-hydroxy-2E_8E-Decadiene-4_6-diynoicacid                3311.885         \n",
              "10-hydroxy-2E_8E-Decadiene-4_6-diynoicacid+1.2059581     14333.000         \n",
              "1-(11E-octadecenoyl)-rac-glycerol                        23709.000         \n",
              "11-deoxy-PGE2                                            -1760.565         \n",
              "                                                        Cognitive.Status.AD.1\n",
              "10_12_15-octadecatrienoicacid                           418680.00            \n",
              "(10E)-19-fluorovitaminD3/(10E)-19-fluorocholecalciferol  19167.95            \n",
              "10-hydroxy-2E_8E-Decadiene-4_6-diynoicacid                4576.00            \n",
              "10-hydroxy-2E_8E-Decadiene-4_6-diynoicacid+1.2059581      8740.00            \n",
              "1-(11E-octadecenoyl)-rac-glycerol                        40502.50            \n",
              "11-deoxy-PGE2                                            15337.00            \n",
              "                                                        Cognitive.Status.AD.2\n",
              "10_12_15-octadecatrienoicacid                           422796.0000          \n",
              "(10E)-19-fluorovitaminD3/(10E)-19-fluorocholecalciferol    910.8385          \n",
              "10-hydroxy-2E_8E-Decadiene-4_6-diynoicacid                2999.0000          \n",
              "10-hydroxy-2E_8E-Decadiene-4_6-diynoicacid+1.2059581     14285.9563          \n",
              "1-(11E-octadecenoyl)-rac-glycerol                        19871.5000          \n",
              "11-deoxy-PGE2                                             3390.0000          \n",
              "                                                        Cognitive.Status.AD.3\n",
              "10_12_15-octadecatrienoicacid                           67066.500            \n",
              "(10E)-19-fluorovitaminD3/(10E)-19-fluorocholecalciferol -8824.799            \n",
              "10-hydroxy-2E_8E-Decadiene-4_6-diynoicacid               5417.000            \n",
              "10-hydroxy-2E_8E-Decadiene-4_6-diynoicacid+1.2059581     4642.000            \n",
              "1-(11E-octadecenoyl)-rac-glycerol                       37048.500            \n",
              "11-deoxy-PGE2                                            5367.000            \n",
              "                                                        Cognitive.Status.AD.4\n",
              "10_12_15-octadecatrienoicacid                           271568.00            \n",
              "(10E)-19-fluorovitaminD3/(10E)-19-fluorocholecalciferol  12732.12            \n",
              "10-hydroxy-2E_8E-Decadiene-4_6-diynoicacid                3286.00            \n",
              "10-hydroxy-2E_8E-Decadiene-4_6-diynoicacid+1.2059581     26411.46            \n",
              "1-(11E-octadecenoyl)-rac-glycerol                        33205.50            \n",
              "11-deoxy-PGE2                                            12200.50            \n",
              "                                                        Cognitive.Status.AD.5\n",
              "10_12_15-octadecatrienoicacid                           341688.500           \n",
              "(10E)-19-fluorovitaminD3/(10E)-19-fluorocholecalciferol   7726.317           \n",
              "10-hydroxy-2E_8E-Decadiene-4_6-diynoicacid                7783.000           \n",
              "10-hydroxy-2E_8E-Decadiene-4_6-diynoicacid+1.2059581     20676.806           \n",
              "1-(11E-octadecenoyl)-rac-glycerol                        11356.500           \n",
              "11-deoxy-PGE2                                             3346.000           \n",
              "                                                        Cognitive.Status.AD.6\n",
              "10_12_15-octadecatrienoicacid                           243986.000           \n",
              "(10E)-19-fluorovitaminD3/(10E)-19-fluorocholecalciferol   3613.000           \n",
              "10-hydroxy-2E_8E-Decadiene-4_6-diynoicacid                3096.419           \n",
              "10-hydroxy-2E_8E-Decadiene-4_6-diynoicacid+1.2059581     10664.462           \n",
              "1-(11E-octadecenoyl)-rac-glycerol                        32472.500           \n",
              "11-deoxy-PGE2                                            -2259.518           \n",
              "                                                        Cognitive.Status.AD.7\n",
              "10_12_15-octadecatrienoicacid                           110581.000           \n",
              "(10E)-19-fluorovitaminD3/(10E)-19-fluorocholecalciferol  16589.000           \n",
              "10-hydroxy-2E_8E-Decadiene-4_6-diynoicacid                4626.000           \n",
              "10-hydroxy-2E_8E-Decadiene-4_6-diynoicacid+1.2059581      4116.000           \n",
              "1-(11E-octadecenoyl)-rac-glycerol                        27375.500           \n",
              "11-deoxy-PGE2                                             1893.096           \n",
              "                                                        Cognitive.Status.AD.8\n",
              "10_12_15-octadecatrienoicacid                           479257.50            \n",
              "(10E)-19-fluorovitaminD3/(10E)-19-fluorocholecalciferol   8914.50            \n",
              "10-hydroxy-2E_8E-Decadiene-4_6-diynoicacid                3323.00            \n",
              "10-hydroxy-2E_8E-Decadiene-4_6-diynoicacid+1.2059581     30355.32            \n",
              "1-(11E-octadecenoyl)-rac-glycerol                        36441.00            \n",
              "11-deoxy-PGE2                                             6070.00            \n",
              "                                                        Cognitive.Status.AD.9 ⋯\n",
              "10_12_15-octadecatrienoicacid                           323314.5000           ⋯\n",
              "(10E)-19-fluorovitaminD3/(10E)-19-fluorocholecalciferol   3578.0000           ⋯\n",
              "10-hydroxy-2E_8E-Decadiene-4_6-diynoicacid               10477.5000           ⋯\n",
              "10-hydroxy-2E_8E-Decadiene-4_6-diynoicacid+1.2059581      8040.0000           ⋯\n",
              "1-(11E-octadecenoyl)-rac-glycerol                        30257.0000           ⋯\n",
              "11-deoxy-PGE2                                             -950.9693           ⋯\n",
              "                                                        Cognitive.Status.MCI.5\n",
              "10_12_15-octadecatrienoicacid                           234945.50             \n",
              "(10E)-19-fluorovitaminD3/(10E)-19-fluorocholecalciferol  15633.00             \n",
              "10-hydroxy-2E_8E-Decadiene-4_6-diynoicacid               11834.38             \n",
              "10-hydroxy-2E_8E-Decadiene-4_6-diynoicacid+1.2059581      9739.50             \n",
              "1-(11E-octadecenoyl)-rac-glycerol                        24845.50             \n",
              "11-deoxy-PGE2                                             2678.00             \n",
              "                                                        Cognitive.Status.MCI.6\n",
              "10_12_15-octadecatrienoicacid                           282963.000            \n",
              "(10E)-19-fluorovitaminD3/(10E)-19-fluorocholecalciferol   8281.066            \n",
              "10-hydroxy-2E_8E-Decadiene-4_6-diynoicacid               10156.000            \n",
              "10-hydroxy-2E_8E-Decadiene-4_6-diynoicacid+1.2059581      8989.000            \n",
              "1-(11E-octadecenoyl)-rac-glycerol                        22902.500            \n",
              "11-deoxy-PGE2                                             8305.901            \n",
              "                                                        Cognitive.Status.MCI.7\n",
              "10_12_15-octadecatrienoicacid                           114699.5              \n",
              "(10E)-19-fluorovitaminD3/(10E)-19-fluorocholecalciferol   3952.0              \n",
              "10-hydroxy-2E_8E-Decadiene-4_6-diynoicacid               11654.9              \n",
              "10-hydroxy-2E_8E-Decadiene-4_6-diynoicacid+1.2059581     20410.8              \n",
              "1-(11E-octadecenoyl)-rac-glycerol                        44658.0              \n",
              "11-deoxy-PGE2                                             6284.0              \n",
              "                                                        Cognitive.Status.MCI.8\n",
              "10_12_15-octadecatrienoicacid                           138607.00             \n",
              "(10E)-19-fluorovitaminD3/(10E)-19-fluorocholecalciferol   6362.00             \n",
              "10-hydroxy-2E_8E-Decadiene-4_6-diynoicacid               13776.69             \n",
              "10-hydroxy-2E_8E-Decadiene-4_6-diynoicacid+1.2059581     13212.00             \n",
              "1-(11E-octadecenoyl)-rac-glycerol                        21881.00             \n",
              "11-deoxy-PGE2                                             7134.50             \n",
              "                                                        Cognitive.Status.MCI.9\n",
              "10_12_15-octadecatrienoicacid                           188056.500            \n",
              "(10E)-19-fluorovitaminD3/(10E)-19-fluorocholecalciferol   3007.000            \n",
              "10-hydroxy-2E_8E-Decadiene-4_6-diynoicacid               11079.415            \n",
              "10-hydroxy-2E_8E-Decadiene-4_6-diynoicacid+1.2059581    110780.500            \n",
              "1-(11E-octadecenoyl)-rac-glycerol                        61938.000            \n",
              "11-deoxy-PGE2                                             6345.668            \n",
              "                                                        Cognitive.Status.MCI.10\n",
              "10_12_15-octadecatrienoicacid                           280496.5               \n",
              "(10E)-19-fluorovitaminD3/(10E)-19-fluorocholecalciferol   1708.0               \n",
              "10-hydroxy-2E_8E-Decadiene-4_6-diynoicacid                3699.0               \n",
              "10-hydroxy-2E_8E-Decadiene-4_6-diynoicacid+1.2059581     17847.3               \n",
              "1-(11E-octadecenoyl)-rac-glycerol                        20874.0               \n",
              "11-deoxy-PGE2                                             4782.5               \n",
              "                                                        Cognitive.Status.MCI.11\n",
              "10_12_15-octadecatrienoicacid                           103736.500             \n",
              "(10E)-19-fluorovitaminD3/(10E)-19-fluorocholecalciferol   1448.409             \n",
              "10-hydroxy-2E_8E-Decadiene-4_6-diynoicacid                3659.500             \n",
              "10-hydroxy-2E_8E-Decadiene-4_6-diynoicacid+1.2059581     12965.634             \n",
              "1-(11E-octadecenoyl)-rac-glycerol                        33359.000             \n",
              "11-deoxy-PGE2                                             1598.564             \n",
              "                                                        Cognitive.Status.MCI.12\n",
              "10_12_15-octadecatrienoicacid                           494963.50              \n",
              "(10E)-19-fluorovitaminD3/(10E)-19-fluorocholecalciferol   1878.00              \n",
              "10-hydroxy-2E_8E-Decadiene-4_6-diynoicacid               11022.33              \n",
              "10-hydroxy-2E_8E-Decadiene-4_6-diynoicacid+1.2059581     19658.00              \n",
              "1-(11E-octadecenoyl)-rac-glycerol                        35420.00              \n",
              "11-deoxy-PGE2                                            12463.00              \n",
              "                                                        Cognitive.Status.MCI.13\n",
              "10_12_15-octadecatrienoicacid                           304309.500             \n",
              "(10E)-19-fluorovitaminD3/(10E)-19-fluorocholecalciferol   7097.815             \n",
              "10-hydroxy-2E_8E-Decadiene-4_6-diynoicacid               50218.000             \n",
              "10-hydroxy-2E_8E-Decadiene-4_6-diynoicacid+1.2059581      8971.000             \n",
              "1-(11E-octadecenoyl)-rac-glycerol                        27661.500             \n",
              "11-deoxy-PGE2                                             5701.000             \n",
              "                                                        Cognitive.Status.MCI.14\n",
              "10_12_15-octadecatrienoicacid                           199646.500             \n",
              "(10E)-19-fluorovitaminD3/(10E)-19-fluorocholecalciferol   3747.452             \n",
              "10-hydroxy-2E_8E-Decadiene-4_6-diynoicacid               22681.500             \n",
              "10-hydroxy-2E_8E-Decadiene-4_6-diynoicacid+1.2059581     16433.653             \n",
              "1-(11E-octadecenoyl)-rac-glycerol                        18861.500             \n",
              "11-deoxy-PGE2                                             9697.000             "
            ]
          },
          "metadata": {}
        }
      ]
    },
    {
      "cell_type": "code",
      "source": [
        "ALZ_csf_imputed <- processing_step_impute(ALZ_CSF)\n",
        "ALZ_csf_normalized <- processing_step_normalize(ALZ_csf_imputed)\n",
        "ALZ_csf_scaled <- processing_step_scale(ALZ_csf_normalized)"
      ],
      "metadata": {
        "colab": {
          "base_uri": "https://localhost:8080/"
        },
        "id": "ey5wTNv1xsYZ",
        "outputId": "cefd2a76-9f55-4b19-f085-205beddad41d"
      },
      "execution_count": null,
      "outputs": [
        {
          "output_type": "stream",
          "name": "stderr",
          "text": [
            "Warning message in MAI(Input_File2, MCAR_algorithm = c(\"Multi_nsKNN\"), MNAR_algorithm = c(\"nsKNN\"), :\n",
            "“The smallest data set MAI has been tested on was a 50x50 matrix.\n",
            "            Accuracy can not be guaranteed for smaller data sets.”\n",
            "Estimating pattern of missingness\n",
            "\n",
            "Imposing missingness\n",
            "\n",
            "Generating features\n",
            "\n",
            "Training\n",
            "\n",
            "Predicting\n",
            "\n",
            "Imputing\n",
            "\n",
            "Warning message in lapply(X = x, FUN = .Generic, ...):\n",
            "“NaNs produced”\n",
            "Warning message in lapply(X = x, FUN = .Generic, ...):\n",
            "“NaNs produced”\n",
            "Warning message in lapply(X = x, FUN = .Generic, ...):\n",
            "“NaNs produced”\n",
            "Warning message in lapply(X = x, FUN = .Generic, ...):\n",
            "“NaNs produced”\n",
            "Warning message in lapply(X = x, FUN = .Generic, ...):\n",
            "“NaNs produced”\n",
            "Warning message in lapply(X = x, FUN = .Generic, ...):\n",
            "“NaNs produced”\n",
            "Warning message in lapply(X = x, FUN = .Generic, ...):\n",
            "“NaNs produced”\n",
            "Warning message in lapply(X = x, FUN = .Generic, ...):\n",
            "“NaNs produced”\n",
            "Warning message in lapply(X = x, FUN = .Generic, ...):\n",
            "“NaNs produced”\n",
            "Warning message in lapply(X = x, FUN = .Generic, ...):\n",
            "“NaNs produced”\n",
            "Warning message in lapply(X = x, FUN = .Generic, ...):\n",
            "“NaNs produced”\n",
            "Warning message in lapply(X = x, FUN = .Generic, ...):\n",
            "“NaNs produced”\n",
            "Warning message in lapply(X = x, FUN = .Generic, ...):\n",
            "“NaNs produced”\n",
            "Warning message in lapply(X = x, FUN = .Generic, ...):\n",
            "“NaNs produced”\n",
            "Warning message in lapply(X = x, FUN = .Generic, ...):\n",
            "“NaNs produced”\n",
            "Warning message in lapply(X = x, FUN = .Generic, ...):\n",
            "“NaNs produced”\n",
            "Warning message in lapply(X = x, FUN = .Generic, ...):\n",
            "“NaNs produced”\n",
            "Warning message in lapply(X = x, FUN = .Generic, ...):\n",
            "“NaNs produced”\n",
            "Warning message in lapply(X = x, FUN = .Generic, ...):\n",
            "“NaNs produced”\n",
            "Warning message in lapply(X = x, FUN = .Generic, ...):\n",
            "“NaNs produced”\n"
          ]
        }
      ]
    },
    {
      "cell_type": "code",
      "source": [
        "#no missing values to impute\n",
        "trauma_human_imputed <- trauma_human\n",
        "trauma_human_normalized <- processing_step_normalize(trauma_human_imputed)\n",
        "trauma_human_scaled <- processing_step_scale(trauma_human_normalized)"
      ],
      "metadata": {
        "id": "ziy9v-e-x_lb"
      },
      "execution_count": null,
      "outputs": []
    },
    {
      "cell_type": "code",
      "source": [
        "#no missing values to impute\n",
        "trauma_rat_imputed <- trauma_rat\n",
        "trauma_rat_normalized <- processing_step_normalize(trauma_rat_imputed)\n",
        "trauma_rat_scaled <- processing_step_scale(trauma_rat_normalized)"
      ],
      "metadata": {
        "id": "O-69dqetyQa7"
      },
      "execution_count": null,
      "outputs": []
    },
    {
      "cell_type": "code",
      "source": [
        "outlier_checker(ALZ_plasma_normalized, \"ALZ_plasma\")\n",
        "outlier_checker(ALZ_csf_normalized, \"ALZ_csf\")\n",
        "outlier_checker(trauma_human_normalized, \"trauma_human\")\n",
        "outlier_checker(trauma_rat_normalized, \"trauma_rat\")"
      ],
      "metadata": {
        "colab": {
          "base_uri": "https://localhost:8080/",
          "height": 86
        },
        "id": "5D5LCx9vGc6Y",
        "outputId": "da861991-42bb-43b1-d9c6-43f0d4c81890"
      },
      "execution_count": null,
      "outputs": [
        {
          "output_type": "stream",
          "name": "stdout",
          "text": [
            "[1] \"ALZ_plasma  outlier list\"\n"
          ]
        },
        {
          "output_type": "display_data",
          "data": {
            "text/html": [],
            "text/markdown": "",
            "text/latex": "",
            "text/plain": [
              "integer(0)"
            ]
          },
          "metadata": {}
        },
        {
          "output_type": "stream",
          "name": "stdout",
          "text": [
            "[1] \"ALZ_csf  outlier list\"\n"
          ]
        },
        {
          "output_type": "display_data",
          "data": {
            "text/html": [],
            "text/markdown": "",
            "text/latex": "",
            "text/plain": [
              "integer(0)"
            ]
          },
          "metadata": {}
        },
        {
          "output_type": "stream",
          "name": "stdout",
          "text": [
            "[1] \"trauma_human  outlier list\"\n"
          ]
        },
        {
          "output_type": "display_data",
          "data": {
            "text/html": [],
            "text/markdown": "",
            "text/latex": "",
            "text/plain": [
              "integer(0)"
            ]
          },
          "metadata": {}
        },
        {
          "output_type": "stream",
          "name": "stdout",
          "text": [
            "[1] \"trauma_rat  outlier list\"\n"
          ]
        },
        {
          "output_type": "display_data",
          "data": {
            "text/html": [],
            "text/markdown": "",
            "text/latex": "",
            "text/plain": [
              "integer(0)"
            ]
          },
          "metadata": {}
        }
      ]
    },
    {
      "cell_type": "code",
      "source": [
        "graph_normalizeVSscale(ALZ_plasma_normalized, ALZ_plasma, \"ALZ_plasma\")\n",
        "graph_normalizeVSscale(ALZ_csf_normalized, ALZ_csf_scaled, \"ALZ_csf\")\n",
        "graph_normalizeVSscale(trauma_human_normalized, trauma_human_scaled, \"trauma_human\")\n",
        "graph_normalizeVSscale(trauma_rat_normalized, trauma_rat_scaled, \"trauma_rat\")"
      ],
      "metadata": {
        "colab": {
          "base_uri": "https://localhost:8080/",
          "height": 86
        },
        "id": "3K2dPF-EnXsM",
        "outputId": "c949fa12-9149-47b8-92c1-318a65f474b3"
      },
      "execution_count": null,
      "outputs": [
        {
          "output_type": "display_data",
          "data": {
            "text/html": [
              "<strong>png:</strong> 2"
            ],
            "text/markdown": "**png:** 2",
            "text/latex": "\\textbf{png:} 2",
            "text/plain": [
              "png \n",
              "  2 "
            ]
          },
          "metadata": {}
        },
        {
          "output_type": "display_data",
          "data": {
            "text/html": [
              "<strong>png:</strong> 2"
            ],
            "text/markdown": "**png:** 2",
            "text/latex": "\\textbf{png:} 2",
            "text/plain": [
              "png \n",
              "  2 "
            ]
          },
          "metadata": {}
        },
        {
          "output_type": "display_data",
          "data": {
            "text/html": [
              "<strong>png:</strong> 2"
            ],
            "text/markdown": "**png:** 2",
            "text/latex": "\\textbf{png:} 2",
            "text/plain": [
              "png \n",
              "  2 "
            ]
          },
          "metadata": {}
        },
        {
          "output_type": "display_data",
          "data": {
            "text/html": [
              "<strong>png:</strong> 2"
            ],
            "text/markdown": "**png:** 2",
            "text/latex": "\\textbf{png:} 2",
            "text/plain": [
              "png \n",
              "  2 "
            ]
          },
          "metadata": {}
        }
      ]
    },
    {
      "cell_type": "code",
      "source": [
        "# save processed verisons of data frames\n",
        "write.csv(ALZ_plasma_normalized, \"ALZ_plasma_processed.csv\", row.names=TRUE)\n",
        "write.csv(ALZ_csf_normalized, \"ALZ_csf_processed.csv\", row.names=TRUE)\n",
        "write.csv(trauma_human_normalized, \"trauma_human_processed.csv\", row.names=TRUE)\n",
        "write.csv(trauma_rat_normalized, \"trauma_rat_processed.csv\", row.names=TRUE)\n"
      ],
      "metadata": {
        "id": "KMbj9oCagYvw"
      },
      "execution_count": null,
      "outputs": []
    },
    {
      "cell_type": "code",
      "source": [
        "files.download(\"ALZ_plasma_processed.csv\")\n",
        "files.download(\"ALZ_csf_processed.csv\")\n",
        "files.download(\"trauma_human_processed.csv\")\n",
        "files.download(\"trauma_rat_processed.csv\")"
      ],
      "metadata": {
        "id": "DRhvEdTzh3HP"
      },
      "execution_count": null,
      "outputs": []
    },
    {
      "cell_type": "markdown",
      "source": [
        "## References\n",
        "\n",
        "Dekermanjian, J., Shaddox, E., N, D., y, Ghosh, D., & Kechris, K. (2022). MAI: Mechanism-Aware Imputation (1.2.0) [Computer software]. Bioconductor version: Release (3.15). https://doi.org/10.18129/B9.bioc.MAI\n",
        "\n",
        "Duca, A. L. (2020, December 30). Data Preprocessing with scikit-learn—Missing Values. Medium. https://towardsdatascience.com/data-preprocessing-with-scikit-learn-missing-values-8dff2c266db\n",
        "\n",
        "How to Remove Outliers in R | R-bloggers. (n.d.). Retrieved July 4, 2022, from https://www.r-bloggers.com/2021/09/how-to-remove-outliers-in-r-3/\n",
        "\n",
        "Lee, J. Y., & Styczynski, M. P. (2018). NS-kNN: A modified k-nearest neighbors approach for imputing metabolomics data. Metabolomics, 14(12), 153. https://doi.org/10.1007/s11306-018-1451-8\n",
        "\n",
        "Team, T. A. (n.d.). How, When, and Why Should You Normalize / Standardize / Rescale… – Towards AI. Retrieved July 3, 2022, from https://towardsai.net/p/data-science/how-when-and-why-should-you-normalize-standardize-rescale-your-data-3f083def38ff, https://towardsai.net/p/data-science/how-when-and-why-should-you-normalize-standardize-rescale-your-data-3f083def38ff\n",
        "\n",
        "van den Berg, R. A., Hoefsloot, H. C., Westerhuis, J. A., Smilde, A. K., & van der Werf, M. J. (2006). Centering, scaling, and transformations: Improving the biological information content of metabolomics data. BMC Genomics, 7, 142. https://doi.org/10.1186/1471-2164-7-142\n",
        "\n",
        "Wall, K. (2021, July 2). Access Google Drive Using Google Colab Running an R Kernel. Medium. https://towardsdatascience.com/access-google-drive-using-google-colab-running-an-r-kernel-3736db7835\n",
        "\n"
      ],
      "metadata": {
        "id": "-oXy5qVeMxnx"
      }
    }
  ]
}