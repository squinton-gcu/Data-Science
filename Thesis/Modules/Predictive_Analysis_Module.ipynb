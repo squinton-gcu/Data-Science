{
  "nbformat": 4,
  "nbformat_minor": 0,
  "metadata": {
    "colab": {
      "provenance": [],
      "authorship_tag": "ABX9TyPFwlo7/uhYyUAT5alU6vr4",
      "include_colab_link": true
    },
    "kernelspec": {
      "name": "python3",
      "display_name": "Python 3"
    },
    "language_info": {
      "name": "python"
    }
  },
  "cells": [
    {
      "cell_type": "markdown",
      "metadata": {
        "id": "view-in-github",
        "colab_type": "text"
      },
      "source": [
        "<a href=\"https://colab.research.google.com/github/squinton-gcu/Data-Science/blob/main/Thesis/Modules/Predictive_Analysis_Module.ipynb\" target=\"_parent\"><img src=\"https://colab.research.google.com/assets/colab-badge.svg\" alt=\"Open In Colab\"/></a>"
      ]
    },
    {
      "cell_type": "markdown",
      "source": [
        "## Predictive Analysis Module\n",
        "This module creates looks at the top features from the human trauma list and looks into determining a logistic prediction the ALZ dataset"
      ],
      "metadata": {
        "id": "YTVAEySgrmx7"
      }
    },
    {
      "cell_type": "code",
      "execution_count": null,
      "metadata": {
        "id": "Owv8R7rTWDkl"
      },
      "outputs": [],
      "source": [
        "import numpy as np\n",
        "import pandas as pd\n",
        "import matplotlib.pyplot as plt\n",
        "from sklearn.model_selection import train_test_split\n",
        "from sklearn.linear_model import LogisticRegression\n",
        "from sklearn.metrics import confusion_matrix, ConfusionMatrixDisplay\n",
        "from sklearn.metrics import f1_score\n",
        "from sklearn.metrics import accuracy_score\n",
        "from sklearn.metrics import precision_score\n",
        "from sklearn.metrics import recall_score"
      ]
    },
    {
      "cell_type": "code",
      "source": [
        "from google.colab import drive\n",
        "drive.mount('/content/drive')"
      ],
      "metadata": {
        "colab": {
          "base_uri": "https://localhost:8080/"
        },
        "id": "nYymID_MWKnR",
        "outputId": "c98ccc3e-265d-411a-ad02-d381dec02868"
      },
      "execution_count": null,
      "outputs": [
        {
          "output_type": "stream",
          "name": "stdout",
          "text": [
            "Mounted at /content/drive\n"
          ]
        }
      ]
    },
    {
      "cell_type": "code",
      "source": [
        "ALZ_plasma_p = pd.read_csv(\"/content/drive/MyDrive/Thesis/Processed/ALZ_plasma_processed.csv\", index_col=0).transpose()\n",
        "ALZ_csf_p = pd.read_csv(\"/content/drive/MyDrive/Thesis/Processed/ALZ_csf_processed.csv\", index_col=0).transpose()\n",
        "trauma_human_p = pd.read_csv(\"/content/drive/MyDrive/Thesis/Processed/trauma_human_processed.csv\", index_col=0).transpose()\n",
        "\n",
        "sort_stress_top_all_plasma_cor = pd.read_csv(\"/content/drive/MyDrive/Thesis/Processed/Selected_Features/sort_stress_top_all_plasma_cor.csv\", index_col=0)\n",
        "sort_stress_top_top_plasma_cor =  pd.read_csv(\"/content/drive/MyDrive/Thesis/Processed/Selected_Features/sort_stress_top_top_plasma_cor.csv\", index_col=0)\n",
        "sort_stress_top_all_csf_cor =  pd.read_csv(\"/content/drive/MyDrive/Thesis/Processed/Selected_Features/TopStressAllCSF.csv\", index_col=0)\n",
        "sort_stress_top_top_csf_cor =  pd.read_csv(\"/content/drive/MyDrive/Thesis/Processed/Selected_Features/sort_stress_top_top_csf_cor.csv\", index_col=0)"
      ],
      "metadata": {
        "id": "Sq6L9_YUWVgF"
      },
      "execution_count": null,
      "outputs": []
    },
    {
      "cell_type": "code",
      "source": [
        "def get_test_train(dataframe):\n",
        "  \"\"\"\n",
        "  Split data into test train set\n",
        "  \"\"\"\n",
        "  train,test = train_test_split(dataframe, test_size=0.4)\n",
        "  y_train_headers = train.index\n",
        "  Y_train_num = []\n",
        "  for i in y_train_headers:\n",
        "    if i != None and \"AD\" in i:\n",
        "      Y_train_num.append(1)\n",
        "    else:\n",
        "      Y_train_num.append(0)\n",
        "\n",
        "  y_test_headers = test.index\n",
        "  Y_test_num = []\n",
        "  for i in y_test_headers:\n",
        "    if i != None and \"AD\" in i:\n",
        "      Y_test_num.append(1)\n",
        "    else:\n",
        "      Y_test_num.append(0)\n",
        "  return train, test, Y_train_num, Y_test_num"
      ],
      "metadata": {
        "id": "8VmP3HE-eNxG"
      },
      "execution_count": null,
      "outputs": []
    },
    {
      "cell_type": "code",
      "source": [
        "def get_preds(X_train, X_test, Y_train, Y_test, metab):\n",
        "  \"\"\"\n",
        "  This function will create the logistic regression predictive model and\n",
        "  get the metrics. It will also create a confusion matrix\n",
        "  \"\"\"\n",
        "  train_set = np.array(X_train[metab]).reshape(-1,1)\n",
        "  test_set = np.array(X_test[metab]).reshape(-1,1)\n",
        "  LogModel = LogisticRegression().fit(train_set, Y_train)\n",
        "  y_pred = LogModel.predict(test_set)\n",
        "\n",
        "  f1_ex = f1_score(Y_test, y_pred)\n",
        "  accuracy = accuracy_score(Y_test, y_pred)\n",
        "  prec_ex = precision_score(Y_test, y_pred)\n",
        "  recall_ex = recall_score(Y_test, y_pred)\n",
        "\n",
        "  cm = confusion_matrix(Y_test, y_pred)\n",
        "  matrix_plot = ConfusionMatrixDisplay(confusion_matrix=cm)\n",
        "  return f1_ex, accuracy, prec_ex, recall_ex, matrix_plot"
      ],
      "metadata": {
        "id": "Y3NuiAVBdb3z"
      },
      "execution_count": null,
      "outputs": []
    },
    {
      "cell_type": "code",
      "source": [
        "plasma_trainX, plasma_testX, plasma_trainY, plasma_testY = get_test_train(ALZ_plasma_p)\n",
        "csf_trainX, csf_testX, csf_trainY, csf_testY = get_test_train(ALZ_csf_p)\n"
      ],
      "metadata": {
        "id": "5u_wx0esedRe"
      },
      "execution_count": null,
      "outputs": []
    },
    {
      "cell_type": "code",
      "source": [
        "sort_stress_top_top_plasma_cor.index[0]"
      ],
      "metadata": {
        "id": "0p9ctWb5fsQT",
        "colab": {
          "base_uri": "https://localhost:8080/",
          "height": 36
        },
        "outputId": "f98ec2ab-ec61-449d-d894-24619ec476e9"
      },
      "execution_count": null,
      "outputs": [
        {
          "output_type": "execute_result",
          "data": {
            "text/plain": [
              "'Propionylglycine methyl ester'"
            ],
            "application/vnd.google.colaboratory.intrinsic+json": {
              "type": "string"
            }
          },
          "metadata": {},
          "execution_count": 7
        }
      ]
    },
    {
      "cell_type": "code",
      "source": [
        "f1, acc, prec, recall, matrix = get_preds(plasma_trainX, plasma_testX, plasma_trainY, plasma_testY, sort_stress_top_all_plasma_cor.index[0])"
      ],
      "metadata": {
        "id": "2iDHrn2egHna"
      },
      "execution_count": null,
      "outputs": []
    },
    {
      "cell_type": "code",
      "source": [
        "sort_stress_top_all_plasma_cor.head()\n"
      ],
      "metadata": {
        "colab": {
          "base_uri": "https://localhost:8080/",
          "height": 206
        },
        "id": "g6naCA4XN19U",
        "outputId": "45042d25-5780-4569-b802-c7948a63dd18"
      },
      "execution_count": null,
      "outputs": [
        {
          "output_type": "execute_result",
          "data": {
            "text/plain": [
              "                                        pvalues  standard error      RMSE  \\\n",
              "Propionylglycinemethylester            0.065484        0.775096  0.433224   \n",
              "2-Methylbutyrylglycine+6.5558777       0.065506        0.354389  0.466580   \n",
              "2-Methylbutyrylglycine                 0.065693        0.477201  0.520616   \n",
              "Dimethylglycine+2.8044205              0.069230        0.816419  0.453713   \n",
              "Propionylglycinemethylester+6.2598743  0.072163        0.463442  0.448880   \n",
              "\n",
              "                                       Spearman Corr  \n",
              "Propionylglycinemethylester                 0.342962  \n",
              "2-Methylbutyrylglycine+6.5558777            0.403485  \n",
              "2-Methylbutyrylglycine                      0.322788  \n",
              "Dimethylglycine+2.8044205                   0.342962  \n",
              "Propionylglycinemethylester+6.2598743       0.383311  "
            ],
            "text/html": [
              "\n",
              "  <div id=\"df-2cc4ebff-f210-47d8-8d1d-af5c8585a916\">\n",
              "    <div class=\"colab-df-container\">\n",
              "      <div>\n",
              "<style scoped>\n",
              "    .dataframe tbody tr th:only-of-type {\n",
              "        vertical-align: middle;\n",
              "    }\n",
              "\n",
              "    .dataframe tbody tr th {\n",
              "        vertical-align: top;\n",
              "    }\n",
              "\n",
              "    .dataframe thead th {\n",
              "        text-align: right;\n",
              "    }\n",
              "</style>\n",
              "<table border=\"1\" class=\"dataframe\">\n",
              "  <thead>\n",
              "    <tr style=\"text-align: right;\">\n",
              "      <th></th>\n",
              "      <th>pvalues</th>\n",
              "      <th>standard error</th>\n",
              "      <th>RMSE</th>\n",
              "      <th>Spearman Corr</th>\n",
              "    </tr>\n",
              "  </thead>\n",
              "  <tbody>\n",
              "    <tr>\n",
              "      <th>Propionylglycinemethylester</th>\n",
              "      <td>0.065484</td>\n",
              "      <td>0.775096</td>\n",
              "      <td>0.433224</td>\n",
              "      <td>0.342962</td>\n",
              "    </tr>\n",
              "    <tr>\n",
              "      <th>2-Methylbutyrylglycine+6.5558777</th>\n",
              "      <td>0.065506</td>\n",
              "      <td>0.354389</td>\n",
              "      <td>0.466580</td>\n",
              "      <td>0.403485</td>\n",
              "    </tr>\n",
              "    <tr>\n",
              "      <th>2-Methylbutyrylglycine</th>\n",
              "      <td>0.065693</td>\n",
              "      <td>0.477201</td>\n",
              "      <td>0.520616</td>\n",
              "      <td>0.322788</td>\n",
              "    </tr>\n",
              "    <tr>\n",
              "      <th>Dimethylglycine+2.8044205</th>\n",
              "      <td>0.069230</td>\n",
              "      <td>0.816419</td>\n",
              "      <td>0.453713</td>\n",
              "      <td>0.342962</td>\n",
              "    </tr>\n",
              "    <tr>\n",
              "      <th>Propionylglycinemethylester+6.2598743</th>\n",
              "      <td>0.072163</td>\n",
              "      <td>0.463442</td>\n",
              "      <td>0.448880</td>\n",
              "      <td>0.383311</td>\n",
              "    </tr>\n",
              "  </tbody>\n",
              "</table>\n",
              "</div>\n",
              "      <button class=\"colab-df-convert\" onclick=\"convertToInteractive('df-2cc4ebff-f210-47d8-8d1d-af5c8585a916')\"\n",
              "              title=\"Convert this dataframe to an interactive table.\"\n",
              "              style=\"display:none;\">\n",
              "        \n",
              "  <svg xmlns=\"http://www.w3.org/2000/svg\" height=\"24px\"viewBox=\"0 0 24 24\"\n",
              "       width=\"24px\">\n",
              "    <path d=\"M0 0h24v24H0V0z\" fill=\"none\"/>\n",
              "    <path d=\"M18.56 5.44l.94 2.06.94-2.06 2.06-.94-2.06-.94-.94-2.06-.94 2.06-2.06.94zm-11 1L8.5 8.5l.94-2.06 2.06-.94-2.06-.94L8.5 2.5l-.94 2.06-2.06.94zm10 10l.94 2.06.94-2.06 2.06-.94-2.06-.94-.94-2.06-.94 2.06-2.06.94z\"/><path d=\"M17.41 7.96l-1.37-1.37c-.4-.4-.92-.59-1.43-.59-.52 0-1.04.2-1.43.59L10.3 9.45l-7.72 7.72c-.78.78-.78 2.05 0 2.83L4 21.41c.39.39.9.59 1.41.59.51 0 1.02-.2 1.41-.59l7.78-7.78 2.81-2.81c.8-.78.8-2.07 0-2.86zM5.41 20L4 18.59l7.72-7.72 1.47 1.35L5.41 20z\"/>\n",
              "  </svg>\n",
              "      </button>\n",
              "      \n",
              "  <style>\n",
              "    .colab-df-container {\n",
              "      display:flex;\n",
              "      flex-wrap:wrap;\n",
              "      gap: 12px;\n",
              "    }\n",
              "\n",
              "    .colab-df-convert {\n",
              "      background-color: #E8F0FE;\n",
              "      border: none;\n",
              "      border-radius: 50%;\n",
              "      cursor: pointer;\n",
              "      display: none;\n",
              "      fill: #1967D2;\n",
              "      height: 32px;\n",
              "      padding: 0 0 0 0;\n",
              "      width: 32px;\n",
              "    }\n",
              "\n",
              "    .colab-df-convert:hover {\n",
              "      background-color: #E2EBFA;\n",
              "      box-shadow: 0px 1px 2px rgba(60, 64, 67, 0.3), 0px 1px 3px 1px rgba(60, 64, 67, 0.15);\n",
              "      fill: #174EA6;\n",
              "    }\n",
              "\n",
              "    [theme=dark] .colab-df-convert {\n",
              "      background-color: #3B4455;\n",
              "      fill: #D2E3FC;\n",
              "    }\n",
              "\n",
              "    [theme=dark] .colab-df-convert:hover {\n",
              "      background-color: #434B5C;\n",
              "      box-shadow: 0px 1px 3px 1px rgba(0, 0, 0, 0.15);\n",
              "      filter: drop-shadow(0px 1px 2px rgba(0, 0, 0, 0.3));\n",
              "      fill: #FFFFFF;\n",
              "    }\n",
              "  </style>\n",
              "\n",
              "      <script>\n",
              "        const buttonEl =\n",
              "          document.querySelector('#df-2cc4ebff-f210-47d8-8d1d-af5c8585a916 button.colab-df-convert');\n",
              "        buttonEl.style.display =\n",
              "          google.colab.kernel.accessAllowed ? 'block' : 'none';\n",
              "\n",
              "        async function convertToInteractive(key) {\n",
              "          const element = document.querySelector('#df-2cc4ebff-f210-47d8-8d1d-af5c8585a916');\n",
              "          const dataTable =\n",
              "            await google.colab.kernel.invokeFunction('convertToInteractive',\n",
              "                                                     [key], {});\n",
              "          if (!dataTable) return;\n",
              "\n",
              "          const docLinkHtml = 'Like what you see? Visit the ' +\n",
              "            '<a target=\"_blank\" href=https://colab.research.google.com/notebooks/data_table.ipynb>data table notebook</a>'\n",
              "            + ' to learn more about interactive tables.';\n",
              "          element.innerHTML = '';\n",
              "          dataTable['output_type'] = 'display_data';\n",
              "          await google.colab.output.renderOutput(dataTable, element);\n",
              "          const docLink = document.createElement('div');\n",
              "          docLink.innerHTML = docLinkHtml;\n",
              "          element.appendChild(docLink);\n",
              "        }\n",
              "      </script>\n",
              "    </div>\n",
              "  </div>\n",
              "  "
            ]
          },
          "metadata": {},
          "execution_count": 9
        }
      ]
    },
    {
      "cell_type": "code",
      "source": [
        "stress_plasma1 = pd.DataFrame()\n",
        "matrix_list = []\n",
        "sample = []\n",
        "for metabolite in range(len(sort_stress_top_all_plasma_cor)):\n",
        "  f1, acc, prec, recall, matrix = get_preds(plasma_trainX, plasma_testX, plasma_trainY, plasma_testY, sort_stress_top_all_plasma_cor.index[metabolite])\n",
        "  metric_list = [f1, acc, prec, recall]\n",
        "  stress_plasma1[sort_stress_top_all_plasma_cor.index[metabolite]] = metric_list\n",
        "  matrix_list.append(matrix)\n",
        "  sample.append(sort_stress_top_all_plasma_cor.index[metabolite])\n",
        "\n",
        "Matrix_sampleList = pd.DataFrame({\"sample\": sample, \"Matrix\": matrix_list})\n",
        "stress_plasma1.index = ['f1', 'acc', 'prec', 'recall']\n",
        "stress_plasma1 = stress_plasma1.transpose().sort_values(by=['acc'],ascending=False)\n",
        "\n",
        "counter=0\n",
        "while counter < len(stress_plasma1) :\n",
        "  test = \"/content/drive/MyDrive/Thesis/Processed/Selected_Features/Matrix_Plasma_ALL\"+ str(counter) +\".png\"\n",
        "  Matrix_sampleList[Matrix_sampleList[\"sample\"] == stress_plasma1.index[counter]].iloc[0][\"Matrix\"].plot()\n",
        "  plt.savefig(test)\n",
        "  if counter == 2:\n",
        "    break\n",
        "  else:\n",
        "    counter += 1"
      ],
      "metadata": {
        "id": "wwzSf9xFh34l",
        "colab": {
          "base_uri": "https://localhost:8080/",
          "height": 1000
        },
        "outputId": "ca63767a-7a37-4bd9-85f3-0f48ac3e2cc0"
      },
      "execution_count": null,
      "outputs": [
        {
          "output_type": "stream",
          "name": "stderr",
          "text": [
            "/usr/local/lib/python3.7/dist-packages/sklearn/metrics/_classification.py:1318: UndefinedMetricWarning: Precision is ill-defined and being set to 0.0 due to no predicted samples. Use `zero_division` parameter to control this behavior.\n",
            "  _warn_prf(average, modifier, msg_start, len(result))\n",
            "/usr/local/lib/python3.7/dist-packages/sklearn/metrics/_classification.py:1318: UndefinedMetricWarning: Precision is ill-defined and being set to 0.0 due to no predicted samples. Use `zero_division` parameter to control this behavior.\n",
            "  _warn_prf(average, modifier, msg_start, len(result))\n",
            "/usr/local/lib/python3.7/dist-packages/sklearn/metrics/_classification.py:1318: UndefinedMetricWarning: Precision is ill-defined and being set to 0.0 due to no predicted samples. Use `zero_division` parameter to control this behavior.\n",
            "  _warn_prf(average, modifier, msg_start, len(result))\n",
            "/usr/local/lib/python3.7/dist-packages/sklearn/metrics/_classification.py:1318: UndefinedMetricWarning: Precision is ill-defined and being set to 0.0 due to no predicted samples. Use `zero_division` parameter to control this behavior.\n",
            "  _warn_prf(average, modifier, msg_start, len(result))\n",
            "/usr/local/lib/python3.7/dist-packages/sklearn/metrics/_classification.py:1318: UndefinedMetricWarning: Precision is ill-defined and being set to 0.0 due to no predicted samples. Use `zero_division` parameter to control this behavior.\n",
            "  _warn_prf(average, modifier, msg_start, len(result))\n",
            "/usr/local/lib/python3.7/dist-packages/sklearn/metrics/_classification.py:1318: UndefinedMetricWarning: Precision is ill-defined and being set to 0.0 due to no predicted samples. Use `zero_division` parameter to control this behavior.\n",
            "  _warn_prf(average, modifier, msg_start, len(result))\n",
            "/usr/local/lib/python3.7/dist-packages/sklearn/metrics/_classification.py:1318: UndefinedMetricWarning: Precision is ill-defined and being set to 0.0 due to no predicted samples. Use `zero_division` parameter to control this behavior.\n",
            "  _warn_prf(average, modifier, msg_start, len(result))\n",
            "/usr/local/lib/python3.7/dist-packages/sklearn/metrics/_classification.py:1318: UndefinedMetricWarning: Precision is ill-defined and being set to 0.0 due to no predicted samples. Use `zero_division` parameter to control this behavior.\n",
            "  _warn_prf(average, modifier, msg_start, len(result))\n",
            "/usr/local/lib/python3.7/dist-packages/sklearn/metrics/_classification.py:1318: UndefinedMetricWarning: Precision is ill-defined and being set to 0.0 due to no predicted samples. Use `zero_division` parameter to control this behavior.\n",
            "  _warn_prf(average, modifier, msg_start, len(result))\n",
            "/usr/local/lib/python3.7/dist-packages/sklearn/metrics/_classification.py:1318: UndefinedMetricWarning: Precision is ill-defined and being set to 0.0 due to no predicted samples. Use `zero_division` parameter to control this behavior.\n",
            "  _warn_prf(average, modifier, msg_start, len(result))\n",
            "/usr/local/lib/python3.7/dist-packages/sklearn/metrics/_classification.py:1318: UndefinedMetricWarning: Precision is ill-defined and being set to 0.0 due to no predicted samples. Use `zero_division` parameter to control this behavior.\n",
            "  _warn_prf(average, modifier, msg_start, len(result))\n",
            "/usr/local/lib/python3.7/dist-packages/sklearn/metrics/_classification.py:1318: UndefinedMetricWarning: Precision is ill-defined and being set to 0.0 due to no predicted samples. Use `zero_division` parameter to control this behavior.\n",
            "  _warn_prf(average, modifier, msg_start, len(result))\n",
            "/usr/local/lib/python3.7/dist-packages/sklearn/metrics/_classification.py:1318: UndefinedMetricWarning: Precision is ill-defined and being set to 0.0 due to no predicted samples. Use `zero_division` parameter to control this behavior.\n",
            "  _warn_prf(average, modifier, msg_start, len(result))\n",
            "/usr/local/lib/python3.7/dist-packages/sklearn/metrics/_classification.py:1318: UndefinedMetricWarning: Precision is ill-defined and being set to 0.0 due to no predicted samples. Use `zero_division` parameter to control this behavior.\n",
            "  _warn_prf(average, modifier, msg_start, len(result))\n",
            "/usr/local/lib/python3.7/dist-packages/sklearn/metrics/_classification.py:1318: UndefinedMetricWarning: Precision is ill-defined and being set to 0.0 due to no predicted samples. Use `zero_division` parameter to control this behavior.\n",
            "  _warn_prf(average, modifier, msg_start, len(result))\n",
            "/usr/local/lib/python3.7/dist-packages/sklearn/metrics/_classification.py:1318: UndefinedMetricWarning: Precision is ill-defined and being set to 0.0 due to no predicted samples. Use `zero_division` parameter to control this behavior.\n",
            "  _warn_prf(average, modifier, msg_start, len(result))\n",
            "/usr/local/lib/python3.7/dist-packages/sklearn/metrics/_classification.py:1318: UndefinedMetricWarning: Precision is ill-defined and being set to 0.0 due to no predicted samples. Use `zero_division` parameter to control this behavior.\n",
            "  _warn_prf(average, modifier, msg_start, len(result))\n",
            "/usr/local/lib/python3.7/dist-packages/sklearn/metrics/_classification.py:1318: UndefinedMetricWarning: Precision is ill-defined and being set to 0.0 due to no predicted samples. Use `zero_division` parameter to control this behavior.\n",
            "  _warn_prf(average, modifier, msg_start, len(result))\n",
            "/usr/local/lib/python3.7/dist-packages/sklearn/metrics/_classification.py:1318: UndefinedMetricWarning: Precision is ill-defined and being set to 0.0 due to no predicted samples. Use `zero_division` parameter to control this behavior.\n",
            "  _warn_prf(average, modifier, msg_start, len(result))\n",
            "/usr/local/lib/python3.7/dist-packages/sklearn/metrics/_classification.py:1318: UndefinedMetricWarning: Precision is ill-defined and being set to 0.0 due to no predicted samples. Use `zero_division` parameter to control this behavior.\n",
            "  _warn_prf(average, modifier, msg_start, len(result))\n",
            "/usr/local/lib/python3.7/dist-packages/sklearn/metrics/_classification.py:1318: UndefinedMetricWarning: Precision is ill-defined and being set to 0.0 due to no predicted samples. Use `zero_division` parameter to control this behavior.\n",
            "  _warn_prf(average, modifier, msg_start, len(result))\n",
            "/usr/local/lib/python3.7/dist-packages/sklearn/metrics/_classification.py:1318: UndefinedMetricWarning: Precision is ill-defined and being set to 0.0 due to no predicted samples. Use `zero_division` parameter to control this behavior.\n",
            "  _warn_prf(average, modifier, msg_start, len(result))\n"
          ]
        },
        {
          "output_type": "display_data",
          "data": {
            "text/plain": [
              "<Figure size 432x288 with 2 Axes>"
            ],
            "image/png": "[encoded data removed]"
          },
          "metadata": {
            "needs_background": "light"
          }
        },
        {
          "output_type": "display_data",
          "data": {
            "text/plain": [
              "<Figure size 432x288 with 2 Axes>"
            ],
            "image/png": "[encoded data removed]"
          },
          "metadata": {
            "needs_background": "light"
          }
        },
        {
          "output_type": "display_data",
          "data": {
            "text/plain": [
              "<Figure size 432x288 with 2 Axes>"
            ],
            "image/png": "[encoded data removed]"
          },
          "metadata": {
            "needs_background": "light"
          }
        }
      ]
    },
    {
      "cell_type": "code",
      "source": [
        "Matrix_sampleList[Matrix_sampleList[\"sample\"] == stress_plasma1.index[0]].iloc[0][\"Matrix\"].plot()\n",
        "stress_plasma1.iloc[0]"
      ],
      "metadata": {
        "colab": {
          "base_uri": "https://localhost:8080/",
          "height": 366
        },
        "id": "LfJWN7zf8oCc",
        "outputId": "76aa8b21-6dfb-40a6-f709-2fa829d9ca55"
      },
      "execution_count": null,
      "outputs": [
        {
          "output_type": "execute_result",
          "data": {
            "text/plain": [
              "f1        0.750000\n",
              "acc       0.888889\n",
              "prec      0.750000\n",
              "recall    0.750000\n",
              "Name: Propionylglycinemethylester, dtype: float64"
            ]
          },
          "metadata": {},
          "execution_count": 13
        },
        {
          "output_type": "display_data",
          "data": {
            "text/plain": [
              "<Figure size 432x288 with 2 Axes>"
            ],
            "image/png": "[encoded data removed]"
          },
          "metadata": {
            "needs_background": "light"
          }
        }
      ]
    },
    {
      "cell_type": "code",
      "source": [
        "stress_plasma2 = pd.DataFrame()\n",
        "matrix_list = []\n",
        "sample=[]\n",
        "for metabolite in range(len(sort_stress_top_top_plasma_cor)):\n",
        "  f1, acc, prec, recall, matrix = get_preds(plasma_trainX, plasma_testX, plasma_trainY, plasma_testY, sort_stress_top_top_plasma_cor.index[metabolite])\n",
        "  metric_list = [f1, acc, prec, recall]\n",
        "  stress_plasma2[sort_stress_top_top_plasma_cor.index[metabolite]] = metric_list\n",
        "  matrix_list.append(matrix)\n",
        "  sample.append(sort_stress_top_top_plasma_cor.index[metabolite])\n",
        "\n",
        "Matrix_sampleList = pd.DataFrame({\"sample\": sample, \"Matrix\": matrix_list})\n",
        "\n",
        "stress_plasma2.index = ['f1', 'acc', 'prec', 'recall']\n",
        "stress_plasma2 = stress_plasma2.transpose().sort_values(by=['acc'],ascending=False)\n",
        "\n",
        "counter=0\n",
        "while counter < len(stress_plasma2) :\n",
        "  test = \"/content/drive/MyDrive/Thesis/Processed/Selected_Features/Matrix_Plasma_TOP\"+ str(counter) +\".png\"\n",
        "  Matrix_sampleList[Matrix_sampleList[\"sample\"] == stress_plasma2.index[counter]].iloc[0][\"Matrix\"].plot()\n",
        "  plt.savefig(test)\n",
        "  if counter == 2:\n",
        "    break\n",
        "  else:\n",
        "    counter += 1"
      ],
      "metadata": {
        "id": "EV-tsedqkPlc",
        "colab": {
          "base_uri": "https://localhost:8080/",
          "height": 279
        },
        "outputId": "82077f88-da97-4a1b-b44a-84934ec6ad0f"
      },
      "execution_count": null,
      "outputs": [
        {
          "output_type": "display_data",
          "data": {
            "text/plain": [
              "<Figure size 432x288 with 2 Axes>"
            ],
            "image/png": "[encoded data removed]"
          },
          "metadata": {
            "needs_background": "light"
          }
        }
      ]
    },
    {
      "cell_type": "code",
      "source": [
        "stress_csf1 = pd.DataFrame()\n",
        "matrix_list = []\n",
        "sample=[]\n",
        "for metabolite in range(len(sort_stress_top_all_csf_cor)):\n",
        "  f1, acc, prec, recall, matrix = get_preds(csf_trainX, csf_testX, csf_trainY, csf_testY, sort_stress_top_all_csf_cor.index[metabolite])\n",
        "  metric_list = [f1, acc, prec, recall]\n",
        "  stress_csf1[sort_stress_top_all_csf_cor.index[metabolite]] = metric_list\n",
        "  matrix_list.append(matrix)\n",
        "  sample.append(sort_stress_top_all_csf_cor.index[metabolite])\n",
        "\n",
        "Matrix_sampleList = pd.DataFrame({\"sample\": sample, \"Matrix\": matrix_list})\n",
        "stress_csf1.index = ['f1', 'acc', 'prec', 'recall']\n",
        "stress_csf1 = stress_csf1.transpose().sort_values(by=['acc'],ascending=False)\n",
        "\n",
        "counter=0\n",
        "while counter < len(stress_csf1) :\n",
        "  test = \"/content/drive/MyDrive/Thesis/Processed/Selected_Features/Matrix_CSF_ALL\"+ str(counter) +\".png\"\n",
        "  Matrix_sampleList[Matrix_sampleList[\"sample\"] == stress_csf1.index[counter]].iloc[0][\"Matrix\"].plot()\n",
        "  plt.savefig(test)\n",
        "  if counter == 2:\n",
        "    break\n",
        "  else:\n",
        "    counter += 1\n"
      ],
      "metadata": {
        "id": "gioCcJ4bk8-A",
        "colab": {
          "base_uri": "https://localhost:8080/",
          "height": 1000
        },
        "outputId": "e9279539-a15c-4053-e7a2-399b789bba8e"
      },
      "execution_count": null,
      "outputs": [
        {
          "output_type": "stream",
          "name": "stderr",
          "text": [
            "/usr/local/lib/python3.7/dist-packages/sklearn/metrics/_classification.py:1318: UndefinedMetricWarning: Precision is ill-defined and being set to 0.0 due to no predicted samples. Use `zero_division` parameter to control this behavior.\n",
            "  _warn_prf(average, modifier, msg_start, len(result))\n",
            "/usr/local/lib/python3.7/dist-packages/sklearn/metrics/_classification.py:1318: UndefinedMetricWarning: Precision is ill-defined and being set to 0.0 due to no predicted samples. Use `zero_division` parameter to control this behavior.\n",
            "  _warn_prf(average, modifier, msg_start, len(result))\n",
            "/usr/local/lib/python3.7/dist-packages/sklearn/metrics/_classification.py:1318: UndefinedMetricWarning: Precision is ill-defined and being set to 0.0 due to no predicted samples. Use `zero_division` parameter to control this behavior.\n",
            "  _warn_prf(average, modifier, msg_start, len(result))\n",
            "/usr/local/lib/python3.7/dist-packages/sklearn/metrics/_classification.py:1318: UndefinedMetricWarning: Precision is ill-defined and being set to 0.0 due to no predicted samples. Use `zero_division` parameter to control this behavior.\n",
            "  _warn_prf(average, modifier, msg_start, len(result))\n",
            "/usr/local/lib/python3.7/dist-packages/sklearn/metrics/_classification.py:1318: UndefinedMetricWarning: Precision is ill-defined and being set to 0.0 due to no predicted samples. Use `zero_division` parameter to control this behavior.\n",
            "  _warn_prf(average, modifier, msg_start, len(result))\n",
            "/usr/local/lib/python3.7/dist-packages/sklearn/metrics/_classification.py:1318: UndefinedMetricWarning: Precision is ill-defined and being set to 0.0 due to no predicted samples. Use `zero_division` parameter to control this behavior.\n",
            "  _warn_prf(average, modifier, msg_start, len(result))\n",
            "/usr/local/lib/python3.7/dist-packages/sklearn/metrics/_classification.py:1318: UndefinedMetricWarning: Precision is ill-defined and being set to 0.0 due to no predicted samples. Use `zero_division` parameter to control this behavior.\n",
            "  _warn_prf(average, modifier, msg_start, len(result))\n",
            "/usr/local/lib/python3.7/dist-packages/sklearn/metrics/_classification.py:1318: UndefinedMetricWarning: Precision is ill-defined and being set to 0.0 due to no predicted samples. Use `zero_division` parameter to control this behavior.\n",
            "  _warn_prf(average, modifier, msg_start, len(result))\n",
            "/usr/local/lib/python3.7/dist-packages/sklearn/metrics/_classification.py:1318: UndefinedMetricWarning: Precision is ill-defined and being set to 0.0 due to no predicted samples. Use `zero_division` parameter to control this behavior.\n",
            "  _warn_prf(average, modifier, msg_start, len(result))\n",
            "/usr/local/lib/python3.7/dist-packages/sklearn/metrics/_classification.py:1318: UndefinedMetricWarning: Precision is ill-defined and being set to 0.0 due to no predicted samples. Use `zero_division` parameter to control this behavior.\n",
            "  _warn_prf(average, modifier, msg_start, len(result))\n",
            "/usr/local/lib/python3.7/dist-packages/sklearn/metrics/_classification.py:1318: UndefinedMetricWarning: Precision is ill-defined and being set to 0.0 due to no predicted samples. Use `zero_division` parameter to control this behavior.\n",
            "  _warn_prf(average, modifier, msg_start, len(result))\n",
            "/usr/local/lib/python3.7/dist-packages/sklearn/metrics/_classification.py:1318: UndefinedMetricWarning: Precision is ill-defined and being set to 0.0 due to no predicted samples. Use `zero_division` parameter to control this behavior.\n",
            "  _warn_prf(average, modifier, msg_start, len(result))\n",
            "/usr/local/lib/python3.7/dist-packages/sklearn/metrics/_classification.py:1318: UndefinedMetricWarning: Precision is ill-defined and being set to 0.0 due to no predicted samples. Use `zero_division` parameter to control this behavior.\n",
            "  _warn_prf(average, modifier, msg_start, len(result))\n",
            "/usr/local/lib/python3.7/dist-packages/sklearn/metrics/_classification.py:1318: UndefinedMetricWarning: Precision is ill-defined and being set to 0.0 due to no predicted samples. Use `zero_division` parameter to control this behavior.\n",
            "  _warn_prf(average, modifier, msg_start, len(result))\n",
            "/usr/local/lib/python3.7/dist-packages/sklearn/metrics/_classification.py:1318: UndefinedMetricWarning: Precision is ill-defined and being set to 0.0 due to no predicted samples. Use `zero_division` parameter to control this behavior.\n",
            "  _warn_prf(average, modifier, msg_start, len(result))\n",
            "/usr/local/lib/python3.7/dist-packages/sklearn/metrics/_classification.py:1318: UndefinedMetricWarning: Precision is ill-defined and being set to 0.0 due to no predicted samples. Use `zero_division` parameter to control this behavior.\n",
            "  _warn_prf(average, modifier, msg_start, len(result))\n",
            "/usr/local/lib/python3.7/dist-packages/sklearn/metrics/_classification.py:1318: UndefinedMetricWarning: Precision is ill-defined and being set to 0.0 due to no predicted samples. Use `zero_division` parameter to control this behavior.\n",
            "  _warn_prf(average, modifier, msg_start, len(result))\n",
            "/usr/local/lib/python3.7/dist-packages/sklearn/metrics/_classification.py:1318: UndefinedMetricWarning: Precision is ill-defined and being set to 0.0 due to no predicted samples. Use `zero_division` parameter to control this behavior.\n",
            "  _warn_prf(average, modifier, msg_start, len(result))\n",
            "/usr/local/lib/python3.7/dist-packages/sklearn/metrics/_classification.py:1318: UndefinedMetricWarning: Precision is ill-defined and being set to 0.0 due to no predicted samples. Use `zero_division` parameter to control this behavior.\n",
            "  _warn_prf(average, modifier, msg_start, len(result))\n",
            "/usr/local/lib/python3.7/dist-packages/sklearn/metrics/_classification.py:1318: UndefinedMetricWarning: Precision is ill-defined and being set to 0.0 due to no predicted samples. Use `zero_division` parameter to control this behavior.\n",
            "  _warn_prf(average, modifier, msg_start, len(result))\n",
            "/usr/local/lib/python3.7/dist-packages/sklearn/metrics/_classification.py:1318: UndefinedMetricWarning: Precision is ill-defined and being set to 0.0 due to no predicted samples. Use `zero_division` parameter to control this behavior.\n",
            "  _warn_prf(average, modifier, msg_start, len(result))\n",
            "/usr/local/lib/python3.7/dist-packages/sklearn/metrics/_classification.py:1318: UndefinedMetricWarning: Precision is ill-defined and being set to 0.0 due to no predicted samples. Use `zero_division` parameter to control this behavior.\n",
            "  _warn_prf(average, modifier, msg_start, len(result))\n",
            "/usr/local/lib/python3.7/dist-packages/sklearn/metrics/_classification.py:1318: UndefinedMetricWarning: Precision is ill-defined and being set to 0.0 due to no predicted samples. Use `zero_division` parameter to control this behavior.\n",
            "  _warn_prf(average, modifier, msg_start, len(result))\n",
            "/usr/local/lib/python3.7/dist-packages/sklearn/metrics/_classification.py:1318: UndefinedMetricWarning: Precision is ill-defined and being set to 0.0 due to no predicted samples. Use `zero_division` parameter to control this behavior.\n",
            "  _warn_prf(average, modifier, msg_start, len(result))\n",
            "/usr/local/lib/python3.7/dist-packages/sklearn/metrics/_classification.py:1318: UndefinedMetricWarning: Precision is ill-defined and being set to 0.0 due to no predicted samples. Use `zero_division` parameter to control this behavior.\n",
            "  _warn_prf(average, modifier, msg_start, len(result))\n",
            "/usr/local/lib/python3.7/dist-packages/sklearn/metrics/_classification.py:1318: UndefinedMetricWarning: Precision is ill-defined and being set to 0.0 due to no predicted samples. Use `zero_division` parameter to control this behavior.\n",
            "  _warn_prf(average, modifier, msg_start, len(result))\n",
            "/usr/local/lib/python3.7/dist-packages/sklearn/metrics/_classification.py:1318: UndefinedMetricWarning: Precision is ill-defined and being set to 0.0 due to no predicted samples. Use `zero_division` parameter to control this behavior.\n",
            "  _warn_prf(average, modifier, msg_start, len(result))\n",
            "/usr/local/lib/python3.7/dist-packages/sklearn/metrics/_classification.py:1318: UndefinedMetricWarning: Precision is ill-defined and being set to 0.0 due to no predicted samples. Use `zero_division` parameter to control this behavior.\n",
            "  _warn_prf(average, modifier, msg_start, len(result))\n",
            "/usr/local/lib/python3.7/dist-packages/sklearn/metrics/_classification.py:1318: UndefinedMetricWarning: Precision is ill-defined and being set to 0.0 due to no predicted samples. Use `zero_division` parameter to control this behavior.\n",
            "  _warn_prf(average, modifier, msg_start, len(result))\n"
          ]
        },
        {
          "output_type": "display_data",
          "data": {
            "text/plain": [
              "<Figure size 432x288 with 2 Axes>"
            ],
            "image/png": "[encoded data removed]"
          },
          "metadata": {
            "needs_background": "light"
          }
        },
        {
          "output_type": "display_data",
          "data": {
            "text/plain": [
              "<Figure size 432x288 with 2 Axes>"
            ],
            "image/png": "[encoded data removed]"
          },
          "metadata": {
            "needs_background": "light"
          }
        },
        {
          "output_type": "display_data",
          "data": {
            "text/plain": [
              "<Figure size 432x288 with 2 Axes>"
            ],
            "image/png": "[encoded data removed]"
          },
          "metadata": {
            "needs_background": "light"
          }
        }
      ]
    },
    {
      "cell_type": "code",
      "source": [
        "stress_csf2 = pd.DataFrame()\n",
        "matrix_list = []\n",
        "for metabolite in range(len(sort_stress_top_top_csf_cor)):\n",
        "  f1, acc, prec, recall, matrix = get_preds(csf_trainX, csf_testX, csf_trainY, csf_testY, sort_stress_top_top_csf_cor.index[metabolite])\n",
        "  metric_list = [f1, acc, prec, recall]\n",
        "  stress_csf2[sort_stress_top_top_csf_cor.index[metabolite]] = metric_list\n",
        "  matrix_list.append(matrix)\n",
        "\n",
        "stress_csf2.index = ['f1', 'acc', 'prec', 'recall']\n",
        "stress_csf2 = stress_csf2.transpose().sort_values(by=['acc'], ascending=False)\n",
        "\n",
        "counter=0\n",
        "while counter < len(stress_csf2) :\n",
        "  test = \"/content/drive/MyDrive/Thesis/Processed/Selected_Features/Matrix_CSF_TOP\"+ str(counter) +\".png\"\n",
        "  Matrix_sampleList[Matrix_sampleList[\"sample\"] == stress_csf2.index[counter]].iloc[0][\"Matrix\"].plot()\n",
        "  plt.savefig(test)\n",
        "  if counter == 2:\n",
        "    break\n",
        "  else:\n",
        "    counter += 1"
      ],
      "metadata": {
        "id": "_9sn_Ng6ni8u"
      },
      "execution_count": null,
      "outputs": []
    },
    {
      "cell_type": "code",
      "source": [
        "Matrix_sampleList[Matrix_sampleList[\"sample\"] == stress_csf1.index[22]].iloc[0][\"Matrix\"].plot()"
      ],
      "metadata": {
        "colab": {
          "base_uri": "https://localhost:8080/",
          "height": 300
        },
        "id": "meIZlV05xeA6",
        "outputId": "034f9b34-79b7-4ac7-96bc-74e9f870cd8a"
      },
      "execution_count": null,
      "outputs": [
        {
          "output_type": "execute_result",
          "data": {
            "text/plain": [
              "<sklearn.metrics._plot.confusion_matrix.ConfusionMatrixDisplay at 0x7fb8b0268050>"
            ]
          },
          "metadata": {},
          "execution_count": 83
        },
        {
          "output_type": "display_data",
          "data": {
            "text/plain": [
              "<Figure size 432x288 with 2 Axes>"
            ],
            "image/png": "[encoded data removed]"
          },
          "metadata": {
            "needs_background": "light"
          }
        }
      ]
    },
    {
      "cell_type": "code",
      "source": [
        "stress_plasma1.to_csv(\"/content/drive/MyDrive/Thesis/Processed/Selected_Features/stress_top_plasma_all_pred.csv\")\n",
        "stress_plasma2.to_csv(\"/content/drive/MyDrive/Thesis/Processed/Selected_Features/stress_top_plasma_top_pred.csv\")\n",
        "stress_csf1.to_csv(\"/content/drive/MyDrive/Thesis/Processed/Selected_Features/stress_top_csf_all_pred.csv\")\n",
        "stress_csf2.to_csv(\"/content/drive/MyDrive/Thesis/Processed/Selected_Features/stress_top_csf_top_pred.csv\")"
      ],
      "metadata": {
        "id": "2Ag2ribdn2Jo"
      },
      "execution_count": null,
      "outputs": []
    },
    {
      "cell_type": "code",
      "source": [
        "stress_plasma1"
      ],
      "metadata": {
        "id": "1Xhh1GTkBdGD",
        "outputId": "5e958d33-a66c-4e2e-edab-f522b4c21c63",
        "colab": {
          "base_uri": "https://localhost:8080/",
          "height": 1000
        }
      },
      "execution_count": null,
      "outputs": [
        {
          "output_type": "execute_result",
          "data": {
            "text/plain": [
              "                                                          f1       acc  \\\n",
              "Propionylglycinemethylester                         0.750000  0.888889   \n",
              "Propionylglycine methyl ester + 6.2598743           0.400000  0.833333   \n",
              "Diethanolamine + 5.8253593                          0.400000  0.833333   \n",
              "Propionylglycine methyl ester                       0.571429  0.833333   \n",
              "1-O-(1Z-hexadecenyl)-2-(4Z,7Z,10Z,13Z,16Z,19Z-d...  0.400000  0.833333   \n",
              "Propionylglycinemethylester+6.2598743               0.400000  0.833333   \n",
              "Dimethylglycine+2.8044205                           0.400000  0.833333   \n",
              "1-Methylinosine                                     0.571429  0.833333   \n",
              "2-Methylbutyrylglycine+3.1958613                    0.000000  0.777778   \n",
              "Dimethylglycine                                     0.000000  0.777778   \n",
              "N-arachidonoyl D-serine                             0.000000  0.777778   \n",
              "Diethanolamine+6.6559505                            0.000000  0.777778   \n",
              "Dimethylglycine+6.4713974                           0.000000  0.777778   \n",
              "1-heneicosanoyl-2-(4Z_7Z_10Z_13Z_16Z_19Z-docosa...  0.333333  0.777778   \n",
              "Diethanolamine + 5.649868                           0.000000  0.777778   \n",
              "Dimethylglycine + 6.4713974                         0.000000  0.777778   \n",
              "Capryloylglycine                                    0.000000  0.777778   \n",
              "Diethanolamine+5.527126                             0.000000  0.777778   \n",
              "2-Methylbutyrylglycine+2.0774822                    0.000000  0.777778   \n",
              "Dimethylglycine + 4.069634                          0.000000  0.777778   \n",
              "2-Methylbutyrylglycine + 2.0774822                  0.000000  0.777778   \n",
              "2-Methylbutyrylglycine + 3.1958613                  0.000000  0.777778   \n",
              "Diethanolamine+5.649868                             0.000000  0.777778   \n",
              "Diethanolamine                                      0.333333  0.777778   \n",
              "Dimethylglycine+4.069634                            0.000000  0.777778   \n",
              "N-arachidonoylD-serine                              0.000000  0.777778   \n",
              "Diethanolamine + 5.527126                           0.000000  0.777778   \n",
              "1-heneicosanoyl-2-(4Z,7Z,10Z,13Z,16Z,19Z-docosa...  0.000000  0.777778   \n",
              "1-heptadecanoyl, 2-(5Z,8Z,11Z,14Z-eicosatetraen...  0.000000  0.777778   \n",
              "Dimethylglycine + 2.8044205                         0.000000  0.777778   \n",
              "1-O-(1Z-hexadecenyl)-2-(4Z_7Z_10Z_13Z_16Z_19Z-d...  0.333333  0.777778   \n",
              "2-Methylbutyrylglycine + 6.5558777                  0.500000  0.777778   \n",
              "2-Methylbutyrylglycine                              0.000000  0.777778   \n",
              "1-heptadecanoyl_2-(5Z_8Z_11Z_14Z-eicosatetraeno...  0.000000  0.777778   \n",
              "Diethanolamine+5.8253593                            0.000000  0.722222   \n",
              "Dimethylglycine + 2.050125                          0.000000  0.722222   \n",
              "Diethanolamine + 6.525427                           0.000000  0.722222   \n",
              "2-Methylbutyrylglycine+6.5558777                    0.444444  0.722222   \n",
              "Homoserine                                          0.000000  0.722222   \n",
              "Dimethylglycine+2.050125                            0.000000  0.722222   \n",
              "Diethanolamine + 6.6559505                          0.000000  0.666667   \n",
              "1-(8-[3]-ladderane-octanoyl)-2-(8-[3]-ladderane...  0.250000  0.666667   \n",
              "L-4-Hydroxy-3-methoxy-a-methylphenylalanine         0.250000  0.666667   \n",
              "Dimethylglycine + 6.2130203                         0.000000  0.611111   \n",
              "Diethanolamine+6.525427                             0.222222  0.611111   \n",
              "Diethanolamine + 6.332912                           0.000000  0.611111   \n",
              "Propionylglycine methyl ester + 3.163646            0.333333  0.555556   \n",
              "Dimethylglycine+6.2130203                           0.000000  0.555556   \n",
              "Propionylglycinemethylester+3.163646                0.333333  0.555556   \n",
              "Diethanolamine+6.332912                             0.000000  0.500000   \n",
              "\n",
              "                                                        prec  recall  \n",
              "Propionylglycinemethylester                         0.750000    0.75  \n",
              "Propionylglycine methyl ester + 6.2598743           1.000000    0.25  \n",
              "Diethanolamine + 5.8253593                          1.000000    0.25  \n",
              "Propionylglycine methyl ester                       0.666667    0.50  \n",
              "1-O-(1Z-hexadecenyl)-2-(4Z,7Z,10Z,13Z,16Z,19Z-d...  1.000000    0.25  \n",
              "Propionylglycinemethylester+6.2598743               1.000000    0.25  \n",
              "Dimethylglycine+2.8044205                           1.000000    0.25  \n",
              "1-Methylinosine                                     0.666667    0.50  \n",
              "2-Methylbutyrylglycine+3.1958613                    0.000000    0.00  \n",
              "Dimethylglycine                                     0.000000    0.00  \n",
              "N-arachidonoyl D-serine                             0.000000    0.00  \n",
              "Diethanolamine+6.6559505                            0.000000    0.00  \n",
              "Dimethylglycine+6.4713974                           0.000000    0.00  \n",
              "1-heneicosanoyl-2-(4Z_7Z_10Z_13Z_16Z_19Z-docosa...  0.500000    0.25  \n",
              "Diethanolamine + 5.649868                           0.000000    0.00  \n",
              "Dimethylglycine + 6.4713974                         0.000000    0.00  \n",
              "Capryloylglycine                                    0.000000    0.00  \n",
              "Diethanolamine+5.527126                             0.000000    0.00  \n",
              "2-Methylbutyrylglycine+2.0774822                    0.000000    0.00  \n",
              "Dimethylglycine + 4.069634                          0.000000    0.00  \n",
              "2-Methylbutyrylglycine + 2.0774822                  0.000000    0.00  \n",
              "2-Methylbutyrylglycine + 3.1958613                  0.000000    0.00  \n",
              "Diethanolamine+5.649868                             0.000000    0.00  \n",
              "Diethanolamine                                      0.500000    0.25  \n",
              "Dimethylglycine+4.069634                            0.000000    0.00  \n",
              "N-arachidonoylD-serine                              0.000000    0.00  \n",
              "Diethanolamine + 5.527126                           0.000000    0.00  \n",
              "1-heneicosanoyl-2-(4Z,7Z,10Z,13Z,16Z,19Z-docosa...  0.000000    0.00  \n",
              "1-heptadecanoyl, 2-(5Z,8Z,11Z,14Z-eicosatetraen...  0.000000    0.00  \n",
              "Dimethylglycine + 2.8044205                         0.000000    0.00  \n",
              "1-O-(1Z-hexadecenyl)-2-(4Z_7Z_10Z_13Z_16Z_19Z-d...  0.500000    0.25  \n",
              "2-Methylbutyrylglycine + 6.5558777                  0.500000    0.50  \n",
              "2-Methylbutyrylglycine                              0.000000    0.00  \n",
              "1-heptadecanoyl_2-(5Z_8Z_11Z_14Z-eicosatetraeno...  0.000000    0.00  \n",
              "Diethanolamine+5.8253593                            0.000000    0.00  \n",
              "Dimethylglycine + 2.050125                          0.000000    0.00  \n",
              "Diethanolamine + 6.525427                           0.000000    0.00  \n",
              "2-Methylbutyrylglycine+6.5558777                    0.400000    0.50  \n",
              "Homoserine                                          0.000000    0.00  \n",
              "Dimethylglycine+2.050125                            0.000000    0.00  \n",
              "Diethanolamine + 6.6559505                          0.000000    0.00  \n",
              "1-(8-[3]-ladderane-octanoyl)-2-(8-[3]-ladderane...  0.250000    0.25  \n",
              "L-4-Hydroxy-3-methoxy-a-methylphenylalanine         0.250000    0.25  \n",
              "Dimethylglycine + 6.2130203                         0.000000    0.00  \n",
              "Diethanolamine+6.525427                             0.200000    0.25  \n",
              "Diethanolamine + 6.332912                           0.000000    0.00  \n",
              "Propionylglycine methyl ester + 3.163646            0.250000    0.50  \n",
              "Dimethylglycine+6.2130203                           0.000000    0.00  \n",
              "Propionylglycinemethylester+3.163646                0.250000    0.50  \n",
              "Diethanolamine+6.332912                             0.000000    0.00  "
            ],
            "text/html": [
              "\n",
              "  <div id=\"df-d5fbff10-ec9c-4837-8f87-965f74bd2438\">\n",
              "    <div class=\"colab-df-container\">\n",
              "      <div>\n",
              "<style scoped>\n",
              "    .dataframe tbody tr th:only-of-type {\n",
              "        vertical-align: middle;\n",
              "    }\n",
              "\n",
              "    .dataframe tbody tr th {\n",
              "        vertical-align: top;\n",
              "    }\n",
              "\n",
              "    .dataframe thead th {\n",
              "        text-align: right;\n",
              "    }\n",
              "</style>\n",
              "<table border=\"1\" class=\"dataframe\">\n",
              "  <thead>\n",
              "    <tr style=\"text-align: right;\">\n",
              "      <th></th>\n",
              "      <th>f1</th>\n",
              "      <th>acc</th>\n",
              "      <th>prec</th>\n",
              "      <th>recall</th>\n",
              "    </tr>\n",
              "  </thead>\n",
              "  <tbody>\n",
              "    <tr>\n",
              "      <th>Propionylglycinemethylester</th>\n",
              "      <td>0.750000</td>\n",
              "      <td>0.888889</td>\n",
              "      <td>0.750000</td>\n",
              "      <td>0.75</td>\n",
              "    </tr>\n",
              "    <tr>\n",
              "      <th>Propionylglycine methyl ester + 6.2598743</th>\n",
              "      <td>0.400000</td>\n",
              "      <td>0.833333</td>\n",
              "      <td>1.000000</td>\n",
              "      <td>0.25</td>\n",
              "    </tr>\n",
              "    <tr>\n",
              "      <th>Diethanolamine + 5.8253593</th>\n",
              "      <td>0.400000</td>\n",
              "      <td>0.833333</td>\n",
              "      <td>1.000000</td>\n",
              "      <td>0.25</td>\n",
              "    </tr>\n",
              "    <tr>\n",
              "      <th>Propionylglycine methyl ester</th>\n",
              "      <td>0.571429</td>\n",
              "      <td>0.833333</td>\n",
              "      <td>0.666667</td>\n",
              "      <td>0.50</td>\n",
              "    </tr>\n",
              "    <tr>\n",
              "      <th>1-O-(1Z-hexadecenyl)-2-(4Z,7Z,10Z,13Z,16Z,19Z-docosahexaenoyl)-sn-glycero-3-phosphoethanolamine</th>\n",
              "      <td>0.400000</td>\n",
              "      <td>0.833333</td>\n",
              "      <td>1.000000</td>\n",
              "      <td>0.25</td>\n",
              "    </tr>\n",
              "    <tr>\n",
              "      <th>Propionylglycinemethylester+6.2598743</th>\n",
              "      <td>0.400000</td>\n",
              "      <td>0.833333</td>\n",
              "      <td>1.000000</td>\n",
              "      <td>0.25</td>\n",
              "    </tr>\n",
              "    <tr>\n",
              "      <th>Dimethylglycine+2.8044205</th>\n",
              "      <td>0.400000</td>\n",
              "      <td>0.833333</td>\n",
              "      <td>1.000000</td>\n",
              "      <td>0.25</td>\n",
              "    </tr>\n",
              "    <tr>\n",
              "      <th>1-Methylinosine</th>\n",
              "      <td>0.571429</td>\n",
              "      <td>0.833333</td>\n",
              "      <td>0.666667</td>\n",
              "      <td>0.50</td>\n",
              "    </tr>\n",
              "    <tr>\n",
              "      <th>2-Methylbutyrylglycine+3.1958613</th>\n",
              "      <td>0.000000</td>\n",
              "      <td>0.777778</td>\n",
              "      <td>0.000000</td>\n",
              "      <td>0.00</td>\n",
              "    </tr>\n",
              "    <tr>\n",
              "      <th>Dimethylglycine</th>\n",
              "      <td>0.000000</td>\n",
              "      <td>0.777778</td>\n",
              "      <td>0.000000</td>\n",
              "      <td>0.00</td>\n",
              "    </tr>\n",
              "    <tr>\n",
              "      <th>N-arachidonoyl D-serine</th>\n",
              "      <td>0.000000</td>\n",
              "      <td>0.777778</td>\n",
              "      <td>0.000000</td>\n",
              "      <td>0.00</td>\n",
              "    </tr>\n",
              "    <tr>\n",
              "      <th>Diethanolamine+6.6559505</th>\n",
              "      <td>0.000000</td>\n",
              "      <td>0.777778</td>\n",
              "      <td>0.000000</td>\n",
              "      <td>0.00</td>\n",
              "    </tr>\n",
              "    <tr>\n",
              "      <th>Dimethylglycine+6.4713974</th>\n",
              "      <td>0.000000</td>\n",
              "      <td>0.777778</td>\n",
              "      <td>0.000000</td>\n",
              "      <td>0.00</td>\n",
              "    </tr>\n",
              "    <tr>\n",
              "      <th>1-heneicosanoyl-2-(4Z_7Z_10Z_13Z_16Z_19Z-docosahexaenoyl)-sn-glycero-3-phosphoethanolamine</th>\n",
              "      <td>0.333333</td>\n",
              "      <td>0.777778</td>\n",
              "      <td>0.500000</td>\n",
              "      <td>0.25</td>\n",
              "    </tr>\n",
              "    <tr>\n",
              "      <th>Diethanolamine + 5.649868</th>\n",
              "      <td>0.000000</td>\n",
              "      <td>0.777778</td>\n",
              "      <td>0.000000</td>\n",
              "      <td>0.00</td>\n",
              "    </tr>\n",
              "    <tr>\n",
              "      <th>Dimethylglycine + 6.4713974</th>\n",
              "      <td>0.000000</td>\n",
              "      <td>0.777778</td>\n",
              "      <td>0.000000</td>\n",
              "      <td>0.00</td>\n",
              "    </tr>\n",
              "    <tr>\n",
              "      <th>Capryloylglycine</th>\n",
              "      <td>0.000000</td>\n",
              "      <td>0.777778</td>\n",
              "      <td>0.000000</td>\n",
              "      <td>0.00</td>\n",
              "    </tr>\n",
              "    <tr>\n",
              "      <th>Diethanolamine+5.527126</th>\n",
              "      <td>0.000000</td>\n",
              "      <td>0.777778</td>\n",
              "      <td>0.000000</td>\n",
              "      <td>0.00</td>\n",
              "    </tr>\n",
              "    <tr>\n",
              "      <th>2-Methylbutyrylglycine+2.0774822</th>\n",
              "      <td>0.000000</td>\n",
              "      <td>0.777778</td>\n",
              "      <td>0.000000</td>\n",
              "      <td>0.00</td>\n",
              "    </tr>\n",
              "    <tr>\n",
              "      <th>Dimethylglycine + 4.069634</th>\n",
              "      <td>0.000000</td>\n",
              "      <td>0.777778</td>\n",
              "      <td>0.000000</td>\n",
              "      <td>0.00</td>\n",
              "    </tr>\n",
              "    <tr>\n",
              "      <th>2-Methylbutyrylglycine + 2.0774822</th>\n",
              "      <td>0.000000</td>\n",
              "      <td>0.777778</td>\n",
              "      <td>0.000000</td>\n",
              "      <td>0.00</td>\n",
              "    </tr>\n",
              "    <tr>\n",
              "      <th>2-Methylbutyrylglycine + 3.1958613</th>\n",
              "      <td>0.000000</td>\n",
              "      <td>0.777778</td>\n",
              "      <td>0.000000</td>\n",
              "      <td>0.00</td>\n",
              "    </tr>\n",
              "    <tr>\n",
              "      <th>Diethanolamine+5.649868</th>\n",
              "      <td>0.000000</td>\n",
              "      <td>0.777778</td>\n",
              "      <td>0.000000</td>\n",
              "      <td>0.00</td>\n",
              "    </tr>\n",
              "    <tr>\n",
              "      <th>Diethanolamine</th>\n",
              "      <td>0.333333</td>\n",
              "      <td>0.777778</td>\n",
              "      <td>0.500000</td>\n",
              "      <td>0.25</td>\n",
              "    </tr>\n",
              "    <tr>\n",
              "      <th>Dimethylglycine+4.069634</th>\n",
              "      <td>0.000000</td>\n",
              "      <td>0.777778</td>\n",
              "      <td>0.000000</td>\n",
              "      <td>0.00</td>\n",
              "    </tr>\n",
              "    <tr>\n",
              "      <th>N-arachidonoylD-serine</th>\n",
              "      <td>0.000000</td>\n",
              "      <td>0.777778</td>\n",
              "      <td>0.000000</td>\n",
              "      <td>0.00</td>\n",
              "    </tr>\n",
              "    <tr>\n",
              "      <th>Diethanolamine + 5.527126</th>\n",
              "      <td>0.000000</td>\n",
              "      <td>0.777778</td>\n",
              "      <td>0.000000</td>\n",
              "      <td>0.00</td>\n",
              "    </tr>\n",
              "    <tr>\n",
              "      <th>1-heneicosanoyl-2-(4Z,7Z,10Z,13Z,16Z,19Z-docosahexaenoyl)-sn-glycero-3-phosphoethanolamine</th>\n",
              "      <td>0.000000</td>\n",
              "      <td>0.777778</td>\n",
              "      <td>0.000000</td>\n",
              "      <td>0.00</td>\n",
              "    </tr>\n",
              "    <tr>\n",
              "      <th>1-heptadecanoyl, 2-(5Z,8Z,11Z,14Z-eicosatetraenoyl)-sn-glycero-3-phosphoethanolamine</th>\n",
              "      <td>0.000000</td>\n",
              "      <td>0.777778</td>\n",
              "      <td>0.000000</td>\n",
              "      <td>0.00</td>\n",
              "    </tr>\n",
              "    <tr>\n",
              "      <th>Dimethylglycine + 2.8044205</th>\n",
              "      <td>0.000000</td>\n",
              "      <td>0.777778</td>\n",
              "      <td>0.000000</td>\n",
              "      <td>0.00</td>\n",
              "    </tr>\n",
              "    <tr>\n",
              "      <th>1-O-(1Z-hexadecenyl)-2-(4Z_7Z_10Z_13Z_16Z_19Z-docosahexaenoyl)-sn-glycero-3-phosphoethanolamine</th>\n",
              "      <td>0.333333</td>\n",
              "      <td>0.777778</td>\n",
              "      <td>0.500000</td>\n",
              "      <td>0.25</td>\n",
              "    </tr>\n",
              "    <tr>\n",
              "      <th>2-Methylbutyrylglycine + 6.5558777</th>\n",
              "      <td>0.500000</td>\n",
              "      <td>0.777778</td>\n",
              "      <td>0.500000</td>\n",
              "      <td>0.50</td>\n",
              "    </tr>\n",
              "    <tr>\n",
              "      <th>2-Methylbutyrylglycine</th>\n",
              "      <td>0.000000</td>\n",
              "      <td>0.777778</td>\n",
              "      <td>0.000000</td>\n",
              "      <td>0.00</td>\n",
              "    </tr>\n",
              "    <tr>\n",
              "      <th>1-heptadecanoyl_2-(5Z_8Z_11Z_14Z-eicosatetraenoyl)-sn-glycero-3-phosphoethanolamine</th>\n",
              "      <td>0.000000</td>\n",
              "      <td>0.777778</td>\n",
              "      <td>0.000000</td>\n",
              "      <td>0.00</td>\n",
              "    </tr>\n",
              "    <tr>\n",
              "      <th>Diethanolamine+5.8253593</th>\n",
              "      <td>0.000000</td>\n",
              "      <td>0.722222</td>\n",
              "      <td>0.000000</td>\n",
              "      <td>0.00</td>\n",
              "    </tr>\n",
              "    <tr>\n",
              "      <th>Dimethylglycine + 2.050125</th>\n",
              "      <td>0.000000</td>\n",
              "      <td>0.722222</td>\n",
              "      <td>0.000000</td>\n",
              "      <td>0.00</td>\n",
              "    </tr>\n",
              "    <tr>\n",
              "      <th>Diethanolamine + 6.525427</th>\n",
              "      <td>0.000000</td>\n",
              "      <td>0.722222</td>\n",
              "      <td>0.000000</td>\n",
              "      <td>0.00</td>\n",
              "    </tr>\n",
              "    <tr>\n",
              "      <th>2-Methylbutyrylglycine+6.5558777</th>\n",
              "      <td>0.444444</td>\n",
              "      <td>0.722222</td>\n",
              "      <td>0.400000</td>\n",
              "      <td>0.50</td>\n",
              "    </tr>\n",
              "    <tr>\n",
              "      <th>Homoserine</th>\n",
              "      <td>0.000000</td>\n",
              "      <td>0.722222</td>\n",
              "      <td>0.000000</td>\n",
              "      <td>0.00</td>\n",
              "    </tr>\n",
              "    <tr>\n",
              "      <th>Dimethylglycine+2.050125</th>\n",
              "      <td>0.000000</td>\n",
              "      <td>0.722222</td>\n",
              "      <td>0.000000</td>\n",
              "      <td>0.00</td>\n",
              "    </tr>\n",
              "    <tr>\n",
              "      <th>Diethanolamine + 6.6559505</th>\n",
              "      <td>0.000000</td>\n",
              "      <td>0.666667</td>\n",
              "      <td>0.000000</td>\n",
              "      <td>0.00</td>\n",
              "    </tr>\n",
              "    <tr>\n",
              "      <th>1-(8-[3]-ladderane-octanoyl)-2-(8-[3]-ladderane-octanyl)-sn-glycerophosphoethanolamine</th>\n",
              "      <td>0.250000</td>\n",
              "      <td>0.666667</td>\n",
              "      <td>0.250000</td>\n",
              "      <td>0.25</td>\n",
              "    </tr>\n",
              "    <tr>\n",
              "      <th>L-4-Hydroxy-3-methoxy-a-methylphenylalanine</th>\n",
              "      <td>0.250000</td>\n",
              "      <td>0.666667</td>\n",
              "      <td>0.250000</td>\n",
              "      <td>0.25</td>\n",
              "    </tr>\n",
              "    <tr>\n",
              "      <th>Dimethylglycine + 6.2130203</th>\n",
              "      <td>0.000000</td>\n",
              "      <td>0.611111</td>\n",
              "      <td>0.000000</td>\n",
              "      <td>0.00</td>\n",
              "    </tr>\n",
              "    <tr>\n",
              "      <th>Diethanolamine+6.525427</th>\n",
              "      <td>0.222222</td>\n",
              "      <td>0.611111</td>\n",
              "      <td>0.200000</td>\n",
              "      <td>0.25</td>\n",
              "    </tr>\n",
              "    <tr>\n",
              "      <th>Diethanolamine + 6.332912</th>\n",
              "      <td>0.000000</td>\n",
              "      <td>0.611111</td>\n",
              "      <td>0.000000</td>\n",
              "      <td>0.00</td>\n",
              "    </tr>\n",
              "    <tr>\n",
              "      <th>Propionylglycine methyl ester + 3.163646</th>\n",
              "      <td>0.333333</td>\n",
              "      <td>0.555556</td>\n",
              "      <td>0.250000</td>\n",
              "      <td>0.50</td>\n",
              "    </tr>\n",
              "    <tr>\n",
              "      <th>Dimethylglycine+6.2130203</th>\n",
              "      <td>0.000000</td>\n",
              "      <td>0.555556</td>\n",
              "      <td>0.000000</td>\n",
              "      <td>0.00</td>\n",
              "    </tr>\n",
              "    <tr>\n",
              "      <th>Propionylglycinemethylester+3.163646</th>\n",
              "      <td>0.333333</td>\n",
              "      <td>0.555556</td>\n",
              "      <td>0.250000</td>\n",
              "      <td>0.50</td>\n",
              "    </tr>\n",
              "    <tr>\n",
              "      <th>Diethanolamine+6.332912</th>\n",
              "      <td>0.000000</td>\n",
              "      <td>0.500000</td>\n",
              "      <td>0.000000</td>\n",
              "      <td>0.00</td>\n",
              "    </tr>\n",
              "  </tbody>\n",
              "</table>\n",
              "</div>\n",
              "      <button class=\"colab-df-convert\" onclick=\"convertToInteractive('df-d5fbff10-ec9c-4837-8f87-965f74bd2438')\"\n",
              "              title=\"Convert this dataframe to an interactive table.\"\n",
              "              style=\"display:none;\">\n",
              "        \n",
              "  <svg xmlns=\"http://www.w3.org/2000/svg\" height=\"24px\"viewBox=\"0 0 24 24\"\n",
              "       width=\"24px\">\n",
              "    <path d=\"M0 0h24v24H0V0z\" fill=\"none\"/>\n",
              "    <path d=\"M18.56 5.44l.94 2.06.94-2.06 2.06-.94-2.06-.94-.94-2.06-.94 2.06-2.06.94zm-11 1L8.5 8.5l.94-2.06 2.06-.94-2.06-.94L8.5 2.5l-.94 2.06-2.06.94zm10 10l.94 2.06.94-2.06 2.06-.94-2.06-.94-.94-2.06-.94 2.06-2.06.94z\"/><path d=\"M17.41 7.96l-1.37-1.37c-.4-.4-.92-.59-1.43-.59-.52 0-1.04.2-1.43.59L10.3 9.45l-7.72 7.72c-.78.78-.78 2.05 0 2.83L4 21.41c.39.39.9.59 1.41.59.51 0 1.02-.2 1.41-.59l7.78-7.78 2.81-2.81c.8-.78.8-2.07 0-2.86zM5.41 20L4 18.59l7.72-7.72 1.47 1.35L5.41 20z\"/>\n",
              "  </svg>\n",
              "      </button>\n",
              "      \n",
              "  <style>\n",
              "    .colab-df-container {\n",
              "      display:flex;\n",
              "      flex-wrap:wrap;\n",
              "      gap: 12px;\n",
              "    }\n",
              "\n",
              "    .colab-df-convert {\n",
              "      background-color: #E8F0FE;\n",
              "      border: none;\n",
              "      border-radius: 50%;\n",
              "      cursor: pointer;\n",
              "      display: none;\n",
              "      fill: #1967D2;\n",
              "      height: 32px;\n",
              "      padding: 0 0 0 0;\n",
              "      width: 32px;\n",
              "    }\n",
              "\n",
              "    .colab-df-convert:hover {\n",
              "      background-color: #E2EBFA;\n",
              "      box-shadow: 0px 1px 2px rgba(60, 64, 67, 0.3), 0px 1px 3px 1px rgba(60, 64, 67, 0.15);\n",
              "      fill: #174EA6;\n",
              "    }\n",
              "\n",
              "    [theme=dark] .colab-df-convert {\n",
              "      background-color: #3B4455;\n",
              "      fill: #D2E3FC;\n",
              "    }\n",
              "\n",
              "    [theme=dark] .colab-df-convert:hover {\n",
              "      background-color: #434B5C;\n",
              "      box-shadow: 0px 1px 3px 1px rgba(0, 0, 0, 0.15);\n",
              "      filter: drop-shadow(0px 1px 2px rgba(0, 0, 0, 0.3));\n",
              "      fill: #FFFFFF;\n",
              "    }\n",
              "  </style>\n",
              "\n",
              "      <script>\n",
              "        const buttonEl =\n",
              "          document.querySelector('#df-d5fbff10-ec9c-4837-8f87-965f74bd2438 button.colab-df-convert');\n",
              "        buttonEl.style.display =\n",
              "          google.colab.kernel.accessAllowed ? 'block' : 'none';\n",
              "\n",
              "        async function convertToInteractive(key) {\n",
              "          const element = document.querySelector('#df-d5fbff10-ec9c-4837-8f87-965f74bd2438');\n",
              "          const dataTable =\n",
              "            await google.colab.kernel.invokeFunction('convertToInteractive',\n",
              "                                                     [key], {});\n",
              "          if (!dataTable) return;\n",
              "\n",
              "          const docLinkHtml = 'Like what you see? Visit the ' +\n",
              "            '<a target=\"_blank\" href=https://colab.research.google.com/notebooks/data_table.ipynb>data table notebook</a>'\n",
              "            + ' to learn more about interactive tables.';\n",
              "          element.innerHTML = '';\n",
              "          dataTable['output_type'] = 'display_data';\n",
              "          await google.colab.output.renderOutput(dataTable, element);\n",
              "          const docLink = document.createElement('div');\n",
              "          docLink.innerHTML = docLinkHtml;\n",
              "          element.appendChild(docLink);\n",
              "        }\n",
              "      </script>\n",
              "    </div>\n",
              "  </div>\n",
              "  "
            ]
          },
          "metadata": {},
          "execution_count": 14
        }
      ]
    },
    {
      "cell_type": "markdown",
      "source": [
        "## References\n",
        "Harris, C. R., Millman, K. J., van der Walt, S. J., Gommers, R., Virtanen, P., Cournapeau, D., Wieser, E., Taylor, J., Berg, S., Smith, N. J., Kern, R., Picus, M., Hoyer, S., van Kerkwijk, M. H., Brett, M., Haldane, A., del Río, J. F., Wiebe, M., Peterson, P., … Oliphant, T. E. (2020). Array programming with NumPy. Nature, 585(7825), 357–362. https://doi.org/10.1038/s41586-020-2649-2\n",
        "\n",
        "Hunter, J. D. (2007). Matplotlib: A 2D Graphics Environment. Computing in Science & Engineering, 9(3), 90–95. https://doi.org/10.1109/MCSE.2007.55\n",
        "\n",
        "Joshi, S. (2020, May 1). Save Plots as an Image File Without Displaying in Matplotlib. Delft Stack. https://www.delftstack.com/howto/matplotlib/how-to-save-plots-as-an-image-file-without-displaying-in-matplotlib/\n",
        "\n",
        "Larose, C., & Larose, D. (2019). Data Science Using Python and R. John Wiley & Sons, Inc.\n",
        "\n",
        "Pedregosa, F., Varoquaux, G., Gramfort, A., Michel, V., Thirion, B., Grisel, O., Blondel, M., Prettenhofer, P., Weiss, R., Dubourg, V., Vanderplas, J., Passos, A., Cournapeau, D., Brucher, M., Perrot, M., & Duchesnay, E. (2011). \n",
        "\n",
        "Scikit-learn: Machine Learning in Python. Journal of Machine Learning Research, 12, 2825–2830.\n",
        "\n",
        "Reback, J., Jbrockmendel, McKinney, W., Van Den Bossche, J., Augspurger, T., Roeschke, M., Hawkins, S., Cloud, P., Gfyoung, Sinhrks, Hoefler, P., Klein, A., Terji Petersen, Tratner, J., She, C., Ayd, W., Naveh, S., JHM Darbyshire, Garcia, M., … Battiston, P. (2022). pandas-dev/pandas: Pandas 1.4.2 (v1.4.2). Zenodo. https://doi.org/10.5281/ZENODO.3509134\n",
        "\n",
        "Wu, S. (2021, June 5). What are the best metrics to evaluate your regression model? Medium. https://towardsdatascience.com/what-are-the-best-metrics-to-evaluate-your-regression-model-418ca481755b\n",
        "\n"
      ],
      "metadata": {
        "id": "XvJXGtAVduR8"
      }
    },
    {
      "cell_type": "code",
      "source": [],
      "metadata": {
        "id": "ZvNzh9U7Ea3n"
      },
      "execution_count": null,
      "outputs": []
    }
  ]
}