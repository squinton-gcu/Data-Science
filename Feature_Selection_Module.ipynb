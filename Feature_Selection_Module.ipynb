{
  "nbformat": 4,
  "nbformat_minor": 0,
  "metadata": {
    "colab": {
      "name": "Feature_Selection_Module.ipynb",
      "provenance": [],
      "authorship_tag": "ABX9TyPUIMS9DTFJ9+7A21IuQFKR",
      "include_colab_link": true
    },
    "kernelspec": {
      "name": "python3",
      "display_name": "Python 3"
    },
    "language_info": {
      "name": "python"
    }
  },
  "cells": [
    {
      "cell_type": "markdown",
      "metadata": {
        "id": "view-in-github",
        "colab_type": "text"
      },
      "source": [
        "<a href=\"https://colab.research.google.com/github/squinton-gcu/Data-Science/blob/main/Feature_Selection_Module.ipynb\" target=\"_parent\"><img src=\"https://colab.research.google.com/assets/colab-badge.svg\" alt=\"Open In Colab\"/></a>"
      ]
    },
    {
      "cell_type": "markdown",
      "source": [
        "## Feature Selection Module\n",
        "This module use random forest and the selection from model from sklearn to help select the top 100 features from each data frame. Then, a student's t-test is applied to help select features that are significant. "
      ],
      "metadata": {
        "id": "yvpagFhIUzPd"
      }
    },
    {
      "cell_type": "code",
      "execution_count": 91,
      "metadata": {
        "id": "tkdlkxcPiaQl"
      },
      "outputs": [],
      "source": [
        "import numpy as np\n",
        "import pandas as pd\n",
        "from scipy.stats import ttest_ind\n",
        "from sklearn.ensemble import RandomForestClassifier\n",
        "from sklearn.feature_selection import SelectFromModel\n",
        "from sklearn.metrics import accuracy_score\n",
        "from sklearn.model_selection import train_test_split"
      ]
    },
    {
      "cell_type": "code",
      "source": [
        "#import file\n",
        "from google.colab import drive\n",
        "drive.mount('/content/drive')"
      ],
      "metadata": {
        "id": "SAs5qVmFihX6",
        "colab": {
          "base_uri": "https://localhost:8080/"
        },
        "outputId": "37ee4118-291a-4aaa-b8f4-3f3ee9fed9f9"
      },
      "execution_count": 92,
      "outputs": [
        {
          "output_type": "stream",
          "name": "stdout",
          "text": [
            "Drive already mounted at /content/drive; to attempt to forcibly remount, call drive.mount(\"/content/drive\", force_remount=True).\n"
          ]
        }
      ]
    },
    {
      "cell_type": "code",
      "source": [
        "#import data\n",
        "ALZ_plasma_p = pd.read_csv(\"/content/drive/MyDrive/Thesis/Processed/ALZ_plasma_processed.csv\", index_col=0)\n",
        "ALZ_csf_p = pd.read_csv(\"/content/drive/MyDrive/Thesis/Processed/ALZ_csf_processed.csv\", index_col=0)\n",
        "trauma_rat_p = pd.read_csv(\"/content/drive/MyDrive/Thesis/Processed/trauma_rat_processed.csv\", index_col=0)\n",
        "trauma_human_p = pd.read_csv(\"/content/drive/MyDrive/Thesis/Processed/trauma_human_processed.csv\", index_col=0)"
      ],
      "metadata": {
        "id": "8spcrmOY1RvD"
      },
      "execution_count": 93,
      "outputs": []
    },
    {
      "cell_type": "code",
      "source": [
        "def ALZ_selection(dataframe, cutBy, other, num_features=None):\n",
        "  \"\"\"\n",
        "  This is the main function of this module. It does a few different features.\n",
        "  1. It will split the data frame into a test train for the RF\n",
        "  2. It will convert the samples to binary ex. AZ vs Normal\n",
        "  3. It will runn the random forest classifier with n_est of 1000 trees and \n",
        "  random statue of 42 to be consistent.\n",
        "  4. The select from model will pull the top features that the user gives\n",
        "  5. It compares the accuracy\n",
        "  6. It then applies the student's t-test and selects the most significant \n",
        "  features. \n",
        "  User gives 4 values\n",
        "  the processed dataframe, the two different binary variables to cut from,\n",
        "  the max number of features from the selection model\n",
        "  \"\"\"\n",
        "  dataframe_t = dataframe.transpose()\n",
        "  train,test = train_test_split(dataframe_t, test_size=0.2)\n",
        "  #create y\n",
        "  y_train_headers = train.index\n",
        "  Y_train = []\n",
        "  Y_train_num = []\n",
        "  for i in y_train_headers:\n",
        "    if i != None and cutBy in i:\n",
        "      Y_train.append(cutBy)\n",
        "      Y_train_num.append(1)\n",
        "    else:\n",
        "      Y_train.append(other)\n",
        "      Y_train_num.append(0)\n",
        "\n",
        "  y_test_headers = test.index\n",
        "  Y_test = []\n",
        "  Y_test_num = []\n",
        "  for i in y_test_headers:\n",
        "    if i != None and cutBy in i:\n",
        "      Y_test.append(cutBy)\n",
        "      Y_test_num.append(1)\n",
        "    else:\n",
        "      Y_test.append(other)\n",
        "      Y_test_num.append(0)\n",
        "\n",
        "  RF = RandomForestClassifier(n_estimators = 1000, random_state=42)\n",
        "  RF.fit(train, Y_train_num)\n",
        "  SRF = SelectFromModel(RF, max_features = num_features)\n",
        "  SRF.fit(train, Y_train_num)\n",
        "\n",
        "  X_import_train = SRF.transform(train)\n",
        "  X_import_test = SRF.transform(test)\n",
        "\n",
        "  selected_feat = train.columns[(SRF.get_support())]\n",
        "  number_features = len(selected_feat)\n",
        "\n",
        "  RF_import = RandomForestClassifier(n_estimators = 1000, random_state=42)\n",
        "  RF_import.fit(X_import_train, Y_train_num)\n",
        "  pred = RF.predict(test)\n",
        "  RF_accuracy = accuracy_score(Y_test_num, pred)\n",
        "\n",
        "  y_important_pred = RF_import.predict(X_import_test)\n",
        "  SEL_accuracy = accuracy_score(Y_test_num, y_important_pred)\n",
        "\n",
        "  dataframe_t\n",
        "  dataframe_t_subset = pd.DataFrame()\n",
        "  for i in selected_feat:\n",
        "    dataframe_t_subset[i] = (dataframe_t[[i]])\n",
        "    dataframe_t_subset_headers = dataframe_t_subset.index\n",
        "\n",
        "  dataframe_t_subset_group = []\n",
        "  for i in dataframe_t_subset_headers:\n",
        "    if i != None and cutBy in i:\n",
        "      dataframe_t_subset_group.append(cutBy)\n",
        "    else:\n",
        "      dataframe_t_subset_group.append(other)\n",
        "\n",
        "  dataframe_t_subset[\"group\"] = dataframe_t_subset_group\n",
        "  group1 = dataframe_t_subset[dataframe_t_subset['group'] == cutBy]\n",
        "  group2 = dataframe_t_subset[dataframe_t_subset['group'] == other]\n",
        "\n",
        "  dataframe_ttest = pd.DataFrame()\n",
        "  for col in group1.iloc[:,:-1].columns:\n",
        "    tscore = ttest_ind(group1[col], group2[col])[0]\n",
        "    pscore = ttest_ind(group1[col], group2[col])[1]\n",
        "    dataframe_ttest[col] = [tscore, pscore]\n",
        "  \n",
        "  dataframe_ttest_t = dataframe_ttest.transpose()\n",
        "  dataframe_ttest_t = dataframe_ttest_t[dataframe_ttest_t[1] < 0.05]\n",
        "  dataframe_ttest_t.columns = [\"t-score\", \"p-value\"]\n",
        "  number_features = len(dataframe_ttest_t)\n",
        "\n",
        "  return(dataframe_ttest_t, number_features, RF_accuracy, SEL_accuracy)"
      ],
      "metadata": {
        "id": "SH5uzYax4tV5"
      },
      "execution_count": 94,
      "outputs": []
    },
    {
      "cell_type": "code",
      "source": [
        "# run for ALZ datasets\n",
        "ALZ_plasma_features, ALZ_plasma_number_feat, ALZ_plasma_RF_accuracy, ALZ_plasma_SEL_accuracy = ALZ_selection(ALZ_plasma_p, \"AD\", \"N\", 100)\n",
        "ALZ_csf_features, ALZ_csf_number_feat, ALZ_csf_RF_accuracy, ALZ_csf_SEL_accuracy = ALZ_selection(ALZ_csf_p, \"AD\", \"N\", 100)"
      ],
      "metadata": {
        "colab": {
          "base_uri": "https://localhost:8080/"
        },
        "id": "imdGs_O74ebG",
        "outputId": "66549132-34ef-48a0-93a7-b450d6fc3b92"
      },
      "execution_count": 95,
      "outputs": [
        {
          "output_type": "stream",
          "name": "stderr",
          "text": [
            "/usr/local/lib/python3.7/dist-packages/ipykernel_launcher.py:73: PerformanceWarning: DataFrame is highly fragmented.  This is usually the result of calling `frame.insert` many times, which has poor performance.  Consider joining all columns at once using pd.concat(axis=1) instead.  To get a de-fragmented frame, use `newframe = frame.copy()`\n",
            "/usr/local/lib/python3.7/dist-packages/ipykernel_launcher.py:73: PerformanceWarning: DataFrame is highly fragmented.  This is usually the result of calling `frame.insert` many times, which has poor performance.  Consider joining all columns at once using pd.concat(axis=1) instead.  To get a de-fragmented frame, use `newframe = frame.copy()`\n"
          ]
        }
      ]
    },
    {
      "cell_type": "code",
      "source": [
        "print(\"plasma features: \", ALZ_plasma_number_feat, \"plasma no select accuracy: \", ALZ_plasma_RF_accuracy, \"plasma select accuracy: \", ALZ_plasma_SEL_accuracy)\n",
        "print(\"csf features: \", ALZ_csf_number_feat, \"csf no select accuracy: \", ALZ_csf_RF_accuracy, \"csf select accuracy: \", ALZ_csf_SEL_accuracy)"
      ],
      "metadata": {
        "colab": {
          "base_uri": "https://localhost:8080/"
        },
        "id": "p9WiX-r86eDm",
        "outputId": "0ce5ff6a-36c2-43f7-9da0-5fed32d39db8"
      },
      "execution_count": 96,
      "outputs": [
        {
          "output_type": "stream",
          "name": "stdout",
          "text": [
            "plasma features:  47 plasma no select accuracy:  0.6666666666666666 plasma select accuracy:  0.6666666666666666\n",
            "csf features:  27 csf no select accuracy:  0.7777777777777778 csf select accuracy:  0.7777777777777778\n"
          ]
        }
      ]
    },
    {
      "cell_type": "code",
      "source": [
        "#run trauma datasets\n",
        "trauma_rat_p2 = trauma_rat_p.filter(regex='aline')\n",
        "trauma_rat_features, trauma_rat_number_feats, trauma_rat_RF_accuracy, trauma_rat_SEL_accuracy = ALZ_selection(trauma_rat_p2, \"CMUS\", \"N\", 10)\n",
        "print(\"rat features: \", trauma_rat_number_feats, \"rat no select accuracy: \", trauma_rat_RF_accuracy, \"rat select accuracy: \", trauma_rat_SEL_accuracy)"
      ],
      "metadata": {
        "colab": {
          "base_uri": "https://localhost:8080/"
        },
        "id": "1Cwepa3oDplZ",
        "outputId": "10026949-1521-40e5-a486-1cebf1b1c404"
      },
      "execution_count": 97,
      "outputs": [
        {
          "output_type": "stream",
          "name": "stdout",
          "text": [
            "rat features:  0 rat no select accuracy:  1.0 rat select accuracy:  1.0\n"
          ]
        }
      ]
    },
    {
      "cell_type": "code",
      "source": [
        "trauma_human_features, trauma_human_number_feats, trauma_human_RF_accuracy, trauma_human_SEL_accuracy = ALZ_selection(trauma_human_p, \"Trauma\", \"N\", 100)\n",
        "print(\"human features: \", trauma_human_number_feats, \"human no select accuracy: \", trauma_human_RF_accuracy, \"human select accuracy: \", trauma_human_SEL_accuracy)"
      ],
      "metadata": {
        "colab": {
          "base_uri": "https://localhost:8080/"
        },
        "id": "QsoMNYOO18b_",
        "outputId": "86b29cf0-7098-49af-b74c-61b0e4b6e3b9"
      },
      "execution_count": 98,
      "outputs": [
        {
          "output_type": "stream",
          "name": "stdout",
          "text": [
            "human features:  33 human no select accuracy:  1.0 human select accuracy:  1.0\n"
          ]
        }
      ]
    },
    {
      "cell_type": "code",
      "source": [
        "#cut samples\n",
        "def final_cutter(original, features):\n",
        "  \"\"\"\n",
        "  This function will take the original processed dataframe and subset it for\n",
        "  the selected features of each dataset.\n",
        "  \"\"\"\n",
        "  final_cut = pd.DataFrame()\n",
        "  originalt = original.transpose()\n",
        "  for i in features.index:\n",
        "    final_cut[i] = (originalt[[i]])\n",
        "  \n",
        "  return(final_cut)"
      ],
      "metadata": {
        "id": "4W8QcuFSGyru"
      },
      "execution_count": 99,
      "outputs": []
    },
    {
      "cell_type": "code",
      "source": [
        "ALZ_plasma_f_selected = final_cutter(ALZ_plasma_p, ALZ_plasma_features)\n",
        "ALZ_csf_f_selected = final_cutter(ALZ_csf_p, ALZ_csf_features)\n",
        "trauma_human_f_selected = final_cutter(trauma_human_p, trauma_human_features)\n",
        "trauma_rat_f_selected = final_cutter(trauma_rat_p, trauma_rat_features)"
      ],
      "metadata": {
        "id": "PPouiuPnRCwx"
      },
      "execution_count": 100,
      "outputs": []
    },
    {
      "cell_type": "code",
      "source": [
        "#save p-values\n",
        "ALZ_plasma_features.to_csv(\"/content/drive/MyDrive/Thesis/Processed/Selected_Features/ALZ_plasma_tp-scores.csv\")\n",
        "ALZ_csf_features.to_csv(\"/content/drive/MyDrive/Thesis/Processed/Selected_Features/ALZ_csf_tp-scores.csv\")\n",
        "trauma_human_features.to_csv(\"/content/drive/MyDrive/Thesis/Processed/Selected_Features/trauma_human_tp-scores.csv\")\n",
        "trauma_rat_features.to_csv(\"/content/drive/MyDrive/Thesis/Processed/Selected_Features/trauma_rat_tp-scores.csv\")\n",
        "\n",
        "#save subsets\n",
        "ALZ_plasma_f_selected.to_csv(\"/content/drive/MyDrive/Thesis/Processed/Selected_Features/ALZ_plasma_selected_features.csv\")\n",
        "ALZ_csf_f_selected.to_csv(\"/content/drive/MyDrive/Thesis/Processed/Selected_Features/ALZ_csf_selected_features.csv\")\n",
        "trauma_human_f_selected.to_csv(\"/content/drive/MyDrive/Thesis/Processed/Selected_Features/trauma_human_selected_features.csv\")\n",
        "trauma_rat_f_selected.to_csv(\"/content/drive/MyDrive/Thesis/Processed/Selected_Features/trauma_rat_selected_features.csv\")"
      ],
      "metadata": {
        "id": "UdeM3fiJRDsB"
      },
      "execution_count": 101,
      "outputs": []
    },
    {
      "cell_type": "markdown",
      "source": [
        "## References\n",
        "\n",
        "Acharjee, A., Larkman, J., Xu, Y., Cardoso, V. R., & Gkoutos, G. V. (2020). A random forest based biomarker discovery and power analysis framework for diagnostics research. BMC Medical Genomics, 13(1), 178. https://doi.org/10.1186/s12920-020-00826-6\n",
        "\n",
        "Dubey, A. (n.d.). Feature Selection Using Random forest | by Akash Dubey | Towards Data Science. Retrieved July 8, 2022, from https://towardsdatascience.com/feature-selection-using-random-forest-26d7b747597f\n",
        "\n",
        "Feature Selection Using Random Forest. (2017, December 20). https://chrisalbon.com/code/machine_learning/trees_and_forests/feature_selection_using_random_forest/\n",
        "\n",
        "Grissa, D., Pétéra, M., Brandolini, M., Napoli, A., Comte, B., & Pujos-Guillot, E. (2016). Feature Selection Methods for Early Predictive Biomarker Discovery Using Untargeted Metabolomic Data. Frontiers in Molecular Biosciences, 3. https://doi.org/10.3389/fmolb.2016.00030\n",
        "\n",
        "Mishra, P., Singh, U., Pandey, C., Mishra, P., & Pandey, G. (2019). Application of student’s t-test, analysis of variance, and covariance. Annals of Cardiac Anaesthesia, 22(4), 407. https://doi.org/10.4103/aca.ACA_94_19\n",
        "\n",
        "Pedregosa, F., Varoquaux, G., Gramfort, A., Michel, V., Thirion, B., Grisel, O., Blondel, M., Prettenhofer, P., Weiss, R., Dubourg, V., Vanderplas, J., Passos, A., Cournapeau, D., Brucher, M., Perrot, M., & Duchesnay, E. (2011). Scikit-learn: Machine Learning in Python. Journal of Machine Learning Research, 12, 2825–2830.\n",
        "\n",
        "Reback, J., Jbrockmendel, McKinney, W., Van Den Bossche, J., Augspurger, T., Roeschke, M., Hawkins, S., Cloud, P., Gfyoung, Sinhrks, Hoefler, P., Klein, A., Terji Petersen, Tratner, J., She, C., Ayd, W., Naveh, S., JHM Darbyshire, Garcia, M., … Battiston, P. (2022). pandas-dev/pandas: Pandas 1.4.2 (v1.4.2) [Computer software]. Zenodo. https://doi.org/10.5281/ZENODO.3509134\n",
        "\n",
        "Rossum, G. van, & Drake, F. L. (2010). The Python language reference (Release 3.0.1 [Repr.]). Python Software Foundation.\n",
        "\n"
      ],
      "metadata": {
        "id": "cFOwCYsCb7cd"
      }
    },
    {
      "cell_type": "code",
      "source": [
        ""
      ],
      "metadata": {
        "id": "mbLBALcCcDkf"
      },
      "execution_count": null,
      "outputs": []
    }
  ]
}