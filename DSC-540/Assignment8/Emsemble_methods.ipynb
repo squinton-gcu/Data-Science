{
  "nbformat": 4,
  "nbformat_minor": 0,
  "metadata": {
    "colab": {
      "name": "Emsemble_methods.ipynb",
      "provenance": []
    },
    "kernelspec": {
      "name": "python3",
      "display_name": "Python 3"
    },
    "language_info": {
      "name": "python"
    }
  },
  "cells": [
    {
      "cell_type": "code",
      "execution_count": 1,
      "metadata": {
        "colab": {
          "base_uri": "https://localhost:8080/"
        },
        "id": "g3T43FjHdftg",
        "outputId": "cb26e7be-12ba-4a52-c467-24c8be3a335f"
      },
      "outputs": [
        {
          "output_type": "stream",
          "name": "stdout",
          "text": [
            "Mounted at /content/gdrive\n"
          ]
        }
      ],
      "source": [
        "from google.colab import drive\n",
        "drive.mount('/content/gdrive')"
      ]
    },
    {
      "cell_type": "code",
      "source": [
        "# programmer - Sophia Quinton\n",
        "# date - 12-22-21\n",
        "# class - DSC -540\n",
        "# assignment - Assignment 8\n",
        "\n",
        "#acquire data\n",
        "#(Pedregosa et. al., 2011) (Harris et. al., 2020)\n",
        "import pandas as pd\n",
        "import numpy as np"
      ],
      "metadata": {
        "id": "gfEsSKo9eP1z"
      },
      "execution_count": 2,
      "outputs": []
    },
    {
      "cell_type": "code",
      "source": [
        "def normalize(column):\n",
        "  # (Slave, 2018) (cat, 2015)\n",
        "  x = column.replace(np.nan, 0)\n",
        "  x = np.asarray(x, dtype=np.float64)\n",
        "  x -= np.mean(x)\n",
        "  x/=np.std(x)\n",
        "  return x"
      ],
      "metadata": {
        "id": "-Gvwx4YpgmQq"
      },
      "execution_count": 3,
      "outputs": []
    },
    {
      "cell_type": "code",
      "source": [
        "features = pd.read_csv(\"/content/gdrive/MyDrive/data/feature_extract.csv\", sep=\",\", index_col=0)\n",
        "features2 = features.iloc[: , :-1]\n",
        "# (Varun, nd)\n"
      ],
      "metadata": {
        "id": "kZZrkhT7ec1x"
      },
      "execution_count": 4,
      "outputs": []
    },
    {
      "cell_type": "code",
      "source": [
        "new_frame = pd.DataFrame()\n",
        "for column in features2:\n",
        "  normalized_column = normalize(features2[column])\n",
        "  new_frame = pd.concat([new_frame, pd.DataFrame(normalized_column)], axis = 1)"
      ],
      "metadata": {
        "id": "3mC0X3c2hEQD"
      },
      "execution_count": 5,
      "outputs": []
    },
    {
      "cell_type": "code",
      "source": [
        "new_frame.columns = ['meanx', 'meany', 'meanz', 'standardx', 'standardy',\n",
        "       'standardz', 'minimumx', 'minimumy', 'minimumz', 'maximumx', 'maximumy',\n",
        "       'maximumz', 'variancex', 'variancey', 'variancez', 'medianx', 'mediany',\n",
        "       'medianz', 'skewnessx', 'skewnessy', 'skewnessz', 'percent_25x',\n",
        "       'percent_25y', 'percent_25z', 'percent_75x', 'percent_75y',\n",
        "       'percent_75z', 'kurtosisx', 'kurtosisy', 'kurtosisz', 'spectralE_x',\n",
        "       'spectralE_y', 'spectralE_z', 'zero_crossx', 'zero_crossy',\n",
        "       'zero_crossz', 'dominant_freqx', 'dominant_freqy', 'dominant_freqz',\n",
        "       'corxy', 'corxz', 'coryz']"
      ],
      "metadata": {
        "id": "4QOPaXAAtz7w"
      },
      "execution_count": 6,
      "outputs": []
    },
    {
      "cell_type": "code",
      "source": [
        "#classic\n",
        "from sklearn.model_selection import train_test_split\n",
        "y = features[\"activity\"]\n",
        "X = new_frame[[\"minimumx\", \"minimumy\", \"minimumz\", \"maximumy\", \"maximumz\", \"meanx\",\n",
        "  \"variancez\", \"standardx\", \"standardy\", \"standardz\", \"medianx\", \"percent_25x\", \n",
        "  \"percent_75x\", \"percent_25z\", \"zero_crossx\", \"zero_crossz\", \"dominant_freqx\"]]\n",
        "X_train, X_test, y_train, y_test = train_test_split(X, y, test_size=0.2, random_state=25)\n",
        "X_train.reset_index(level=0, inplace=True)\n",
        "X_test.reset_index(level=0, inplace=True)\n",
        "y_train.reset_index(drop = True, inplace=True)\n",
        "\n"
      ],
      "metadata": {
        "id": "7ROKU881ks_W"
      },
      "execution_count": 7,
      "outputs": []
    },
    {
      "cell_type": "code",
      "source": [
        "#bagging decision (Brownlee, 2021)\n",
        "#(Pedregosa et. al., 2011)\n",
        "from sklearn.ensemble import BaggingClassifier\n",
        "bagging_decision = BaggingClassifier()\n",
        "bagging_model = bagging_decision.fit(X_train, y_train)\n",
        "ypred = bagging_model.predict(X_test)"
      ],
      "metadata": {
        "id": "QThDsc7lriwo"
      },
      "execution_count": 16,
      "outputs": []
    },
    {
      "cell_type": "code",
      "source": [
        "#random forest\n",
        "#(Pedregosa et. al., 2011)\n",
        "total_features = np.sqrt(16)\n",
        "\n",
        "from sklearn.ensemble import RandomForestClassifier\n",
        "rfytrain = np.ravel(y_train)\n",
        "rf1 = RandomForestClassifier(n_estimators = 20, criterion=\"gini\", max_features = \"sqrt\").fit(X_train,rfytrain)\n",
        "rfpred1 = rf1.predict(X_test)"
      ],
      "metadata": {
        "id": "Tds0W4hF2r-G"
      },
      "execution_count": 17,
      "outputs": []
    },
    {
      "cell_type": "code",
      "source": [
        "\n",
        "#boosting tree\n",
        "from sklearn.ensemble import AdaBoostClassifier\n",
        "Ada_class = AdaBoostClassifier(n_estimators=100)\n",
        "Ada_model = Ada_class.fit(X_train, y_train)\n",
        "y_predAda = Ada_model.predict(X_test)\n"
      ],
      "metadata": {
        "id": "dpdVVJILGUgk"
      },
      "execution_count": 18,
      "outputs": []
    },
    {
      "cell_type": "code",
      "source": [
        "#(Pedregosa et. al., 2011)\n",
        "from sklearn.ensemble import VotingClassifier\n",
        "Voting_method = VotingClassifier(estimators=[('bag', bagging_decision), ('forest', rf1), ('boost', Ada_class)],\n",
        "                                 voting='hard')\n",
        "voting_model = Voting_method.fit(X_train, y_train)\n",
        "y_pred_vote = voting_model.predict(X_test)\n"
      ],
      "metadata": {
        "id": "Fhee5Ddbxc6U"
      },
      "execution_count": 20,
      "outputs": []
    },
    {
      "cell_type": "code",
      "source": [
        "## binary decision tree\n",
        "from sklearn import tree\n",
        "BDT_class = tree.DecisionTreeClassifier(max_depth = 20)\n",
        "BDT_model = BDT_class.fit(X_train, y_train)\n",
        "BDT_pred = BDT_model.predict(X_test)"
      ],
      "metadata": {
        "id": "eUqKbmLh9uPp"
      },
      "execution_count": 30,
      "outputs": []
    },
    {
      "cell_type": "code",
      "source": [
        "# k nearest neighbor\n",
        "from sklearn.neighbors import KNeighborsClassifier\n",
        "Kmeans_model = KNeighborsClassifier(n_neighbors=7)\n",
        "model_k = Kmeans_model.fit(X_train, y_train)\n",
        "label = model_k.predict(X_test)"
      ],
      "metadata": {
        "id": "6o6mD1550LzW"
      },
      "execution_count": 68,
      "outputs": []
    },
    {
      "cell_type": "code",
      "source": [
        "# SVM\n",
        "from sklearn import svm\n",
        "SVM_class = svm.SVC()\n",
        "SVM_model = SVM_class.fit(X_train, y_train)\n",
        "SVM_pred = SVM_model.predict(X_test)"
      ],
      "metadata": {
        "id": "TyTBY0nE5Q9b"
      },
      "execution_count": 69,
      "outputs": []
    },
    {
      "cell_type": "code",
      "source": [
        "from sklearn.neural_network import MLPClassifier\n",
        "nn_class = MLPClassifier(solver='lbfgs', alpha=1e-5, hidden_layer_sizes=(5,2), max_iter=1000)\n",
        "nn_model = nn_class.fit(X_train, y_train)\n",
        "nn_pred = nn_model.predict(X_test)"
      ],
      "metadata": {
        "id": "X7CZhNXd7fT_"
      },
      "execution_count": 70,
      "outputs": []
    },
    {
      "cell_type": "code",
      "source": [
        "##WMV for custom\n",
        "Voting_method2 = VotingClassifier(estimators=[('BDT', BDT_model), ('KNN', Kmeans_model), ('SVM', SVM_model), (\"ANN\", nn_model)],\n",
        "                                 voting='hard')\n",
        "voting_model2 = Voting_method2.fit(X_train, y_train)\n",
        "y_pred_vote2 = voting_model2.predict(X_test)\n"
      ],
      "metadata": {
        "id": "PTLh0lRb8ZA7"
      },
      "execution_count": 71,
      "outputs": []
    },
    {
      "cell_type": "code",
      "source": [
        "from sklearn.metrics import f1_score\n",
        "bag_score = f1_score(y_test, ypred, average=None)\n",
        "rf_score = f1_score(y_test, rfpred1, average=None)\n",
        "boost_score = f1_score(y_test, y_predAda, average=None)\n",
        "\n",
        "BDT_score = f1_score(y_test, BDT_pred, average=None)\n",
        "KNN_score = f1_score(y_test, label, average=None)\n",
        "SVM_score = f1_score(y_test, SVM_pred, average=None)\n",
        "ANN_score = f1_score(y_test, nn_pred, average=None)\n",
        "\n",
        "WVM = f1_score(y_test, y_pred_vote, average=None)\n",
        "WVM2 = f1_score(y_test, y_pred_vote2, average=None)\n"
      ],
      "metadata": {
        "id": "XdAL04OVDTwz"
      },
      "execution_count": 79,
      "outputs": []
    },
    {
      "cell_type": "code",
      "source": [
        "single_standard = pd.concat([pd.DataFrame(bag_score), pd.DataFrame(rf_score), pd.DataFrame(boost_score)], axis=1)\n",
        "single_standard.columns = [\"bagging\", \"random forest\", \"boost tree\"]\n",
        "single_standard.to_csv(\"/content/gdrive/MyDrive/data/single_standards.csv\", header=True)"
      ],
      "metadata": {
        "id": "gjcrRaiCSQUA"
      },
      "execution_count": 83,
      "outputs": []
    },
    {
      "cell_type": "code",
      "source": [
        "single_custom = pd.concat([pd.DataFrame(BDT_score), pd.DataFrame(KNN_score),\n",
        "                           pd.DataFrame(SVM_score), pd.DataFrame(ANN_score)], axis=1)\n",
        "single_custom.columns = [\"BDT\", \"KNN\", \"SVM\", \"ANN\"]\n",
        "single_custom.to_csv(\"/content/gdrive/MyDrive/data/single_customs.csv\", header=True)"
      ],
      "metadata": {
        "id": "N0pVwci6UuXP"
      },
      "execution_count": 84,
      "outputs": []
    },
    {
      "cell_type": "code",
      "source": [
        "WVM_frame = pd.concat([pd.DataFrame(WVM), pd.DataFrame(WVM2)], axis=1)\n",
        "WVM_frame.columns = [\"WVM - Standard\", \"WVM - Custom\"]\n",
        "WVM_frame.to_csv(\"/content/gdrive/MyDrive/data/WVM.csv\", header=True)"
      ],
      "metadata": {
        "id": "4IjTflwQWE6A"
      },
      "execution_count": 85,
      "outputs": []
    },
    {
      "cell_type": "code",
      "source": [
        ""
      ],
      "metadata": {
        "id": "2FrQNlPOXuri"
      },
      "execution_count": null,
      "outputs": []
    }
  ]
}