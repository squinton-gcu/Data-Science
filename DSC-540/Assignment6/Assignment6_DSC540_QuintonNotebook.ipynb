{
 "cells": [
  {
   "cell_type": "code",
   "execution_count": 1,
   "id": "63538846",
   "metadata": {},
   "outputs": [],
   "source": [
    "# programmer - Sophia Quinton\n",
    "# date - 12-7-21\n",
    "# class - DSC -540\n",
    "# assignment - Assignment 6\n",
    "\n",
    "\n",
    "import numpy as np\n",
    "import skfuzzy as fuzz\n",
    "import matplotlib.pyplot as plt\n",
    "from skfuzzy import control as ctrl\n"
   ]
  },
  {
   "cell_type": "code",
   "execution_count": 117,
   "id": "8ca9d459",
   "metadata": {},
   "outputs": [],
   "source": [
    "#generate data\n",
    "x1 = np.linspace(-10, 11, 10)\n",
    "x1_List = x1.tolist()\n",
    "middle_1 = np.sinc(x1_List).tolist().index(max(np.sinc(x1_List)))\n",
    "middle_1 = x1_List[middle_1]\n",
    " "
   ]
  },
  {
   "cell_type": "code",
   "execution_count": 118,
   "id": "9e2fa42e",
   "metadata": {},
   "outputs": [],
   "source": [
    "x2 = np.linspace(-10, 11, 10)\n",
    "x2_List = x2.tolist()\n",
    "middle_2 = np.sinc(x2_List).tolist().index(max(np.sinc(x2_List)))\n",
    "middle_2 = x2_List[middle_2]"
   ]
  },
  {
   "cell_type": "code",
   "execution_count": 119,
   "id": "a2a42c27",
   "metadata": {},
   "outputs": [
    {
     "data": {
      "image/png": "[encoded data removed]",
      "text/plain": [
       "<Figure size 432x288 with 1 Axes>"
      ]
     },
     "metadata": {
      "needs_background": "light"
     },
     "output_type": "display_data"
    }
   ],
   "source": [
    "#(Warner et. al., 2019)\n",
    "membership1 = fuzz.membership.trimf(x1, [-10, middle_1, 10])\n",
    "plt.plot(x1, membership1)\n",
    "plt.show()\n"
   ]
  },
  {
   "cell_type": "code",
   "execution_count": 120,
   "id": "6ec7dc2d",
   "metadata": {},
   "outputs": [
    {
     "data": {
      "image/png": "[encoded data removed]",
      "text/plain": [
       "<Figure size 432x288 with 1 Axes>"
      ]
     },
     "metadata": {
      "needs_background": "light"
     },
     "output_type": "display_data"
    }
   ],
   "source": [
    "membership2 = fuzz.membership.trimf(x2, [-10, middle_2, 10])\n",
    "plt.plot(x2, membership2)\n",
    "plt.show()"
   ]
  },
  {
   "cell_type": "code",
   "execution_count": 121,
   "id": "aa81c7ed",
   "metadata": {},
   "outputs": [],
   "source": [
    "#If input 1 = x and input 2 = y, then output is sinc function\n",
    "def sinc_2d(input1, input2):\n",
    "    result = (np.sin(input1) * np.sin(input2))/(input1*input2)\n",
    "    return result"
   ]
  },
  {
   "cell_type": "code",
   "execution_count": 122,
   "id": "1e4d011f",
   "metadata": {},
   "outputs": [
    {
     "data": {
      "text/plain": [
       "-0.08601982019984428"
      ]
     },
     "execution_count": 122,
     "metadata": {},
     "output_type": "execute_result"
    }
   ],
   "source": [
    "##let input 1 be 2 and let input 3 be 4 (Topperly, 2021)\n",
    "in1 = membership1[1]\n",
    "in2 = membership2[3]\n",
    "w_value = min(in1, in2)\n",
    "y1 = sinc_2d(2, 4)\n",
    "defuzz = (w_value * y1) / w_value\n",
    "defuzz"
   ]
  },
  {
   "cell_type": "code",
   "execution_count": 125,
   "id": "709abb08",
   "metadata": {},
   "outputs": [],
   "source": [
    " ##problem 2\n",
    "def non_linear(x1, x2, x3):\n",
    "    result = (1 + (x1**0.5) + (x2**-1) + (x3**-1.5))**2\n",
    "    return result\n",
    "    \n",
    "x_1_train = np.random.uniform(1,7, 10)\n",
    "x_2_train = np.random.uniform(1,7, 10)\n",
    "x_3_train = np.random.uniform(1,7, 10)\n",
    "\n",
    "x_1_test = np.random.uniform(1.5, 5.6, 10)\n",
    "x_2_test = np.random.uniform(1.5, 5.6, 10)\n",
    "x_3_test = np.random.uniform(1.5, 5.6, 10)\n",
    "\n",
    "y_train = non_linear(x_1_train, x_2_train, x_3_train)\n",
    "y_test = non_linear(x_1_test, x_2_test, x_3_test)"
   ]
  },
  {
   "cell_type": "code",
   "execution_count": 126,
   "id": "2eec51d0",
   "metadata": {},
   "outputs": [],
   "source": [
    "##to create the model I used the pyFUME package \n",
    "##(Fuchs et. al., 2020)\n",
    "import pandas as pd\n",
    "from pyfume import *\n",
    "y_train = pd.DataFrame(y_train)\n",
    "y_train.columns = [\"train\"]\n",
    "x_train = pd.concat([pd.DataFrame(x_1_train), pd.DataFrame(x_2_train), pd.DataFrame(x_3_train)], axis=1)\n",
    "x_train.columns = [\"x1\", \"x2\", \"x3\"]\n",
    "x_train = x_train.to_numpy()\n",
    "y_train1 = y_train.to_numpy()\n",
    "y_train = y_train1.flatten()\n",
    "\n",
    "y_test = pd.DataFrame(y_test)\n",
    "y_test.columns = [\"test\"]\n",
    "x_test = pd.concat([pd.DataFrame(x_1_test), pd.DataFrame(x_2_test), pd.DataFrame(x_3_test)], axis=1)\n",
    "x_test.columns = [\"x1\", \"x2\", \"x3\"]\n",
    "x_test = x_test.to_numpy()\n",
    "y_test1 = y_test.to_numpy()\n",
    "y_test = y_test1.flatten()\n"
   ]
  },
  {
   "cell_type": "code",
   "execution_count": 147,
   "id": "efb44459",
   "metadata": {},
   "outputs": [
    {
     "name": "stdout",
     "output_type": "stream",
     "text": [
      "Evaluating feature sub set including: ['x1']\n",
      "The selected features have a MAE of: 2.891443512863539\n",
      "The following features were selected: ['x1']\n"
     ]
    }
   ],
   "source": [
    "variable_names = [\"x1\", \"x2\", \"x3\"]\n",
    "fs=FeatureSelector(dataX=x_train, dataY=y_train, nr_clus=3, variable_names=variable_names)\n",
    "selected_feature_indices, variable_names=fs.wrapper()"
   ]
  },
  {
   "cell_type": "code",
   "execution_count": 148,
   "id": "5be737a2",
   "metadata": {},
   "outputs": [],
   "source": [
    "x_train = x_train[:, selected_feature_indices]\n",
    "x_test = x_test[:, selected_feature_indices]"
   ]
  },
  {
   "cell_type": "code",
   "execution_count": 149,
   "id": "ca70e36c",
   "metadata": {},
   "outputs": [],
   "source": [
    "cl = Clusterer(x_train=x_train, y_train=y_train, nr_clus=2)\n",
    "cluster_centers, partition_matrix, _ = cl.cluster(method=\"fcm\")"
   ]
  },
  {
   "cell_type": "code",
   "execution_count": 150,
   "id": "bbc32279",
   "metadata": {},
   "outputs": [
    {
     "data": {
      "text/plain": [
       "[('gauss', array([5.64535237, 1.69097102])),\n",
       " ('gauss', array([1.8217247 , 1.88210544]))]"
      ]
     },
     "execution_count": 150,
     "metadata": {},
     "output_type": "execute_result"
    }
   ],
   "source": [
    "ae = AntecedentEstimator(x_train=x_train, partition_matrix=partition_matrix)\n",
    "antecedent_parameters = ae.determineMF()\n",
    "antecedent_parameters"
   ]
  },
  {
   "cell_type": "code",
   "execution_count": 151,
   "id": "3da82956",
   "metadata": {},
   "outputs": [
    {
     "data": {
      "text/plain": [
       "array([[0.6238679 ],\n",
       "       [0.04887931],\n",
       "       [0.09728148],\n",
       "       [0.30778416],\n",
       "       [0.99660205],\n",
       "       [0.47984493],\n",
       "       [0.99365175],\n",
       "       [0.73026199],\n",
       "       [0.04304566],\n",
       "       [0.90427704]])"
      ]
     },
     "execution_count": 151,
     "metadata": {},
     "output_type": "execute_result"
    }
   ],
   "source": [
    "fsc=FireStrengthCalculator(antecedent_parameters=antecedent_parameters, nr_clus=1, variable_names=variable_names)\n",
    "firing_strengths = fsc.calculate_fire_strength(data=x_train)\n",
    "firing_strengths"
   ]
  },
  {
   "cell_type": "code",
   "execution_count": 152,
   "id": "f8c1f4da",
   "metadata": {},
   "outputs": [
    {
     "data": {
      "text/plain": [
       "array([[1.3532604 , 7.54786515]])"
      ]
     },
     "execution_count": 152,
     "metadata": {},
     "output_type": "execute_result"
    }
   ],
   "source": [
    "ce = EstimateConsequentParameters.ConsequentEstimator(x_train=x_train, y_train=y_train, firing_strengths=firing_strengths)\n",
    "consequent_parameters = ce.suglms()\n",
    "consequent_parameters"
   ]
  },
  {
   "cell_type": "code",
   "execution_count": 153,
   "id": "658f48e9",
   "metadata": {},
   "outputs": [
    {
     "name": "stdout",
     "output_type": "stream",
     "text": [
      " * Detected 1 rules / clusters\n",
      " * Code saved to file Simpful_code.py\n",
      " * Detected Sugeno model type\n"
     ]
    }
   ],
   "source": [
    "simpbuilder = SugenoFISBuilder(antecedent_sets=antecedent_parameters, consequent_parameters=consequent_parameters, variable_names=variable_names)\n",
    "model = simpbuilder.get_model()"
   ]
  },
  {
   "cell_type": "code",
   "execution_count": 154,
   "id": "ef06dcdf",
   "metadata": {},
   "outputs": [
    {
     "data": {
      "text/plain": [
       "1.546448108027078"
      ]
     },
     "execution_count": 154,
     "metadata": {},
     "output_type": "execute_result"
    }
   ],
   "source": [
    "\n",
    "test=SugenoFISTester(model=model, test_data=x_test, variable_names=variable_names, golden_standard=y_test)\n",
    "MSE = test.calculate_MSE()\n",
    "MSE"
   ]
  },
  {
   "cell_type": "code",
   "execution_count": null,
   "id": "4f25087a",
   "metadata": {},
   "outputs": [],
   "source": []
  }
 ],
 "metadata": {
  "kernelspec": {
   "display_name": "Python 3 (ipykernel)",
   "language": "python",
   "name": "python3"
  },
  "language_info": {
   "codemirror_mode": {
    "name": "ipython",
    "version": 3
   },
   "file_extension": ".py",
   "mimetype": "text/x-python",
   "name": "python",
   "nbconvert_exporter": "python",
   "pygments_lexer": "ipython3",
   "version": "3.9.7"
  }
 },
 "nbformat": 4,
 "nbformat_minor": 5
}
