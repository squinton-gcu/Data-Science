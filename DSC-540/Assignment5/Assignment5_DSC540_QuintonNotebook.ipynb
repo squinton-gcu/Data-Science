{
 "cells": [
  {
   "cell_type": "code",
   "execution_count": 1,
   "id": "bb4bf63c",
   "metadata": {},
   "outputs": [],
   "source": [
    "# programmer - Sophia Quinton\n",
    "# date - 12-1-21\n",
    "# class - DSC -540\n",
    "# assignment - Assignment 5\n",
    "\n",
    "#libraries\n",
    "import pandas as pd\n",
    "import numpy as np\n",
    "import statsmodels.tools.tools as stattools\n",
    "from tabulate import tabulate\n",
    "from sklearn.tree import DecisionTreeClassifier, export_graphviz\n",
    "import graphviz\n",
    "from sklearn.ensemble import RandomForestClassifier"
   ]
  },
  {
   "cell_type": "code",
   "execution_count": 2,
   "id": "5fd570ec",
   "metadata": {},
   "outputs": [],
   "source": [
    "#convert table\n",
    "Temperature = ['hot', 'hot', 'hot', 'mild', 'cool', 'cool', 'cool', 'mild', 'cool', 'mild', 'mild', 'mild', 'hot', 'mild']\n",
    "Wind = ['weak', 'strong', 'weak', 'weak', 'weak', 'strong', 'strong', 'weak', 'weak', 'weak', 'strong', 'strong', 'weak', 'strong']\n",
    "Traffic = ['long', 'long', 'long', 'long', 'short', 'short', 'short', 'long', 'short', 'short', 'short', 'long', 'short', 'long']\n",
    "Driving = ['no', 'no', 'yes', 'yes', 'yes', 'no', 'yes', 'no', 'yes', 'yes', 'yes', 'yes', 'yes', 'no']\n"
   ]
  },
  {
   "cell_type": "code",
   "execution_count": 3,
   "id": "f295675a",
   "metadata": {},
   "outputs": [],
   "source": [
    "table_driving = pd.DataFrame({'Temperature_X1': Temperature,\n",
    "                    'Wind_X2': Wind,\n",
    "                    'Traffic-Jam_X3': Traffic,\n",
    "                    'Car_Driving_y': Driving})\n",
    "\n"
   ]
  },
  {
   "cell_type": "code",
   "execution_count": 4,
   "id": "e90a9303",
   "metadata": {},
   "outputs": [
    {
     "data": {
      "text/html": [
       "<div>\n",
       "<style scoped>\n",
       "    .dataframe tbody tr th:only-of-type {\n",
       "        vertical-align: middle;\n",
       "    }\n",
       "\n",
       "    .dataframe tbody tr th {\n",
       "        vertical-align: top;\n",
       "    }\n",
       "\n",
       "    .dataframe thead th {\n",
       "        text-align: right;\n",
       "    }\n",
       "</style>\n",
       "<table border=\"1\" class=\"dataframe\">\n",
       "  <thead>\n",
       "    <tr style=\"text-align: right;\">\n",
       "      <th></th>\n",
       "      <th>Temperature_X1</th>\n",
       "      <th>Wind_X2</th>\n",
       "      <th>Traffic-Jam_X3</th>\n",
       "      <th>Car_Driving_y</th>\n",
       "    </tr>\n",
       "  </thead>\n",
       "  <tbody>\n",
       "    <tr>\n",
       "      <th>0</th>\n",
       "      <td>hot</td>\n",
       "      <td>weak</td>\n",
       "      <td>long</td>\n",
       "      <td>no</td>\n",
       "    </tr>\n",
       "    <tr>\n",
       "      <th>1</th>\n",
       "      <td>hot</td>\n",
       "      <td>strong</td>\n",
       "      <td>long</td>\n",
       "      <td>no</td>\n",
       "    </tr>\n",
       "    <tr>\n",
       "      <th>2</th>\n",
       "      <td>hot</td>\n",
       "      <td>weak</td>\n",
       "      <td>long</td>\n",
       "      <td>yes</td>\n",
       "    </tr>\n",
       "    <tr>\n",
       "      <th>3</th>\n",
       "      <td>mild</td>\n",
       "      <td>weak</td>\n",
       "      <td>long</td>\n",
       "      <td>yes</td>\n",
       "    </tr>\n",
       "    <tr>\n",
       "      <th>4</th>\n",
       "      <td>cool</td>\n",
       "      <td>weak</td>\n",
       "      <td>short</td>\n",
       "      <td>yes</td>\n",
       "    </tr>\n",
       "  </tbody>\n",
       "</table>\n",
       "</div>"
      ],
      "text/plain": [
       "  Temperature_X1 Wind_X2 Traffic-Jam_X3 Car_Driving_y\n",
       "0            hot    weak           long            no\n",
       "1            hot  strong           long            no\n",
       "2            hot    weak           long           yes\n",
       "3           mild    weak           long           yes\n",
       "4           cool    weak          short           yes"
      ]
     },
     "execution_count": 4,
     "metadata": {},
     "output_type": "execute_result"
    }
   ],
   "source": [
    "table_driving.head()"
   ]
  },
  {
   "cell_type": "code",
   "execution_count": 5,
   "id": "6c2eebcf",
   "metadata": {},
   "outputs": [
    {
     "name": "stdout",
     "output_type": "stream",
     "text": [
      "The information gain for temperature is:  0.08893660698832373\n"
     ]
    }
   ],
   "source": [
    "#calculate information gain (AskPython, nd)\n",
    "##temperature\n",
    "H_temp_hot = -1 * ((2/4) * np.log2((2/4)) + (2/4) * np.log2((2/4)))\n",
    "H_temp_mild = -1 * ((4/6) * np.log2((4/6)) + (2/6) * np.log2((2/6)))\n",
    "H_temp_cool = -1 * ((3/4) * np.log2((3/4)) + (1/4) * np.log2((1/4)))\n",
    "Net_Entropy = (4/14) * H_temp_hot + (6/14) * H_temp_mild + (4/14) * H_temp_cool\n",
    "Total_Reduction = 1-Net_Entropy\n",
    "print(\"The information gain for temperature is: \", Total_Reduction)"
   ]
  },
  {
   "cell_type": "code",
   "execution_count": 6,
   "id": "8fd39770",
   "metadata": {},
   "outputs": [
    {
     "name": "stdout",
     "output_type": "stream",
     "text": [
      "The information gain for wind is:  0.10784107173763835\n"
     ]
    }
   ],
   "source": [
    "##wind\n",
    "H_wind_weak = -1 * ((6/8) * np.log2((6/8)) + (2/8) * np.log2((2/8)))\n",
    "H_wind_strong = -1 * ((3/6) * np.log2((3/6)) + (3/6) * np.log2((3/6)))\n",
    "Net_Entropy_wind = (8/14) * H_wind_weak + (6/14) * H_wind_strong\n",
    "Total_Reduction_Wind = 1 - Net_Entropy_wind\n",
    "print(\"The information gain for wind is: \", Total_Reduction_Wind)"
   ]
  },
  {
   "cell_type": "code",
   "execution_count": 7,
   "id": "5db53f50",
   "metadata": {},
   "outputs": [
    {
     "name": "stdout",
     "output_type": "stream",
     "text": [
      "The information gain for traffic is:  0.21154954269171045\n"
     ]
    }
   ],
   "source": [
    "##traffic\n",
    "H_traffic_long = -1 * ((3/7) * np.log2((3/7)) + (4/7) * np.log2((4/7)))\n",
    "H_traffic_short = -1 * ((6/7) * np.log2((6/7)) + (1/7) * np.log2((1/7)))\n",
    "Net_Entropy_traffic = (7/14) * H_traffic_long + (7/14) * H_traffic_short\n",
    "Total_Reduction_traffic = 1 - Net_Entropy_traffic\n",
    "print(\"The information gain for traffic is: \", Total_Reduction_traffic)"
   ]
  },
  {
   "cell_type": "code",
   "execution_count": 75,
   "id": "abaa8d8e",
   "metadata": {},
   "outputs": [
    {
     "name": "stderr",
     "output_type": "stream",
     "text": [
      "C:\\Users\\sophi\\AppData\\Local\\Programs\\Python\\Python39\\lib\\site-packages\\statsmodels\\tools\\tools.py:158: FutureWarning: categorical is deprecated. Use pandas Categorical to represent categorical data and can get_dummies to construct dummy arrays. It will be removed after release 0.13.\n",
      "  warnings.warn(\n"
     ]
    }
   ],
   "source": [
    "##categorize the dataset (Larose & Larose, 2019)\n",
    "temp_np = np.array(table_driving['Temperature_X1'])\n",
    "(temp_cat, temp_cat_dict) = stattools.categorical(temp_np, drop = True, dictnames = True)\n",
    "temp_cat_pd = pd.DataFrame(temp_cat)\n",
    "X = temp_cat_pd\n",
    "\n",
    "wind_np = np.array(table_driving['Wind_X2'])\n",
    "(wind_cat, wind_cat_dict) = stattools.categorical(wind_np, drop = True, dictnames = True)\n",
    "wind_cat_pd = pd.DataFrame(wind_cat)\n",
    "X = pd.concat((X, wind_cat_pd), axis=1)\n",
    "\n",
    "traffic_np = np.array(table_driving['Traffic-Jam_X3'])\n",
    "(traffic_cat, traffic_cat_dict) = stattools.categorical(traffic_np, drop = True, dictnames = True)\n",
    "traffic_cat_pd = pd.DataFrame(traffic_cat)\n",
    "X = pd.concat((X, traffic_cat_pd), axis=1)\n",
    "\n",
    "X_name = ['hot', 'cold', 'mild', 'weak', 'strong', 'long', 'short']\n",
    "X.columns = X_name\n",
    "\n",
    "drive_np = np.array(table_driving['Car_Driving_y'])\n",
    "(drive_cat, drive_cat_dict) = stattools.categorical(drive_np, drop = True, dictnames = True)\n",
    "drive_cat_pd = pd.DataFrame(drive_cat)\n",
    "Y = drive_cat_pd\n",
    "Y_name = ['F', 'T']\n",
    "Y.columns = ['F', 'T']"
   ]
  },
  {
   "cell_type": "code",
   "execution_count": 19,
   "id": "1036fdad",
   "metadata": {},
   "outputs": [
    {
     "data": {
      "text/plain": [
       "'C:/Users/sophi/OneDrive/Desktop/Graduate Classes/DSC - 540 Machine Learning/Week 5\\\\C5_1.jpg.pdf'"
      ]
     },
     "execution_count": 19,
     "metadata": {},
     "output_type": "execute_result"
    }
   ],
   "source": [
    "##short C5 tree\n",
    "C5_1 = DecisionTreeClassifier(criterion=\"entropy\", splitter=\"best\", max_depth=1).fit(X,Y)\n",
    "export_graphviz(C5_1, out_file = \"C:/Users/sophi/OneDrive/Desktop/Graduate Classes/DSC - 540 Machine Learning/Week 5/C5_1.dot\", feature_names=X_name, class_names=Y_name)\n",
    "\n",
    "###(graphviz, n.d.)\n",
    "with open(\"C:/Users/sophi/OneDrive/Desktop/Graduate Classes/DSC - 540 Machine Learning/Week 5/C5_1.dot\") as f:\n",
    "    dotC5_graph = f.read()\n",
    "gtrainC5 = graphviz.Source(dotC5_graph)\n",
    "gtrainC5\n",
    "\n",
    "gtrainC5.render(\"C:/Users/sophi/OneDrive/Desktop/Graduate Classes/DSC - 540 Machine Learning/Week 5/C5_1.jpg\", view=True)\n"
   ]
  },
  {
   "cell_type": "code",
   "execution_count": 20,
   "id": "617e0b10",
   "metadata": {},
   "outputs": [
    {
     "data": {
      "text/plain": [
       "'C:/Users/sophi/OneDrive/Desktop/Graduate Classes/DSC - 540 Machine Learning/Week 5\\\\C5_2.jpg.pdf'"
      ]
     },
     "execution_count": 20,
     "metadata": {},
     "output_type": "execute_result"
    }
   ],
   "source": [
    "##full C5 tree\n",
    "C5_2 = DecisionTreeClassifier(criterion=\"entropy\").fit(X,Y)\n",
    "export_graphviz(C5_2, out_file = \"C:/Users/sophi/OneDrive/Desktop/Graduate Classes/DSC - 540 Machine Learning/Week 5/C5_2.dot\", feature_names=X_name, class_names=Y_name)\n",
    "\n",
    "###(graphviz, n.d.)\n",
    "with open(\"C:/Users/sophi/OneDrive/Desktop/Graduate Classes/DSC - 540 Machine Learning/Week 5/C5_2.dot\") as f:\n",
    "    dotC5_graph = f.read()\n",
    "gtrainC5 = graphviz.Source(dotC5_graph)\n",
    "gtrainC5\n",
    "\n",
    "gtrainC5.render(\"C:/Users/sophi/OneDrive/Desktop/Graduate Classes/DSC - 540 Machine Learning/Week 5/C5_2.jpg\", view=True)\n"
   ]
  },
  {
   "cell_type": "code",
   "execution_count": 20,
   "id": "f168c6cd",
   "metadata": {},
   "outputs": [
    {
     "data": {
      "text/plain": [
       "DecisionTreeClassifier(criterion='entropy')"
      ]
     },
     "execution_count": 20,
     "metadata": {},
     "output_type": "execute_result"
    }
   ],
   "source": [
    "C5_2"
   ]
  },
  {
   "cell_type": "code",
   "execution_count": 9,
   "id": "7a31d22a",
   "metadata": {},
   "outputs": [
    {
     "name": "stdout",
     "output_type": "stream",
     "text": [
      "Net Entropy for temp:  0.9110633930116763\n",
      "Net Entropy for wind:  0.8921589282623617\n",
      "Net Entropy for traffic:  0.7884504573082896\n"
     ]
    }
   ],
   "source": [
    "#Part 2 Fuzzy decision \n",
    "print(\"Net Entropy for temp: \", Net_Entropy)\n",
    "print(\"Net Entropy for wind: \", Net_Entropy_wind)\n",
    "print(\"Net Entropy for traffic: \", Net_Entropy_traffic)"
   ]
  },
  {
   "cell_type": "code",
   "execution_count": 10,
   "id": "decab64f",
   "metadata": {},
   "outputs": [
    {
     "name": "stdout",
     "output_type": "stream",
     "text": [
      "The information gain for temperature is:  0.08893660698832373\n",
      "The information gain for wind is:  0.10784107173763835\n",
      "The information gain for traffic is:  0.21154954269171045\n"
     ]
    }
   ],
   "source": [
    "print(\"The information gain for temperature is: \", Total_Reduction)\n",
    "print(\"The information gain for wind is: \", Total_Reduction_Wind)\n",
    "print(\"The information gain for traffic is: \", Total_Reduction_traffic)"
   ]
  },
  {
   "cell_type": "code",
   "execution_count": 11,
   "id": "9b247310",
   "metadata": {},
   "outputs": [
    {
     "name": "stdout",
     "output_type": "stream",
     "text": [
      "0.536412500309067\n"
     ]
    }
   ],
   "source": [
    "##create a fuzzy tree by scratch\n",
    "##using the above info gains, the traffic amount has the highest gain: this is the head node\n",
    "##next select sub nodes\n",
    "short_traffic_table = table_driving[table_driving['Traffic-Jam_X3'] == \"short\"]\n",
    "short_traffic_table\n",
    "H_temp_cool = -1 * ((3/4) * np.log2(3/4) + (1/4) * np.log2(1/4))\n",
    "Net_Entropy_temp_2 = (4/7) * H_temp_cool\n",
    "Total_Reduction_temp_2 = 1 - Net_Entropy_temp_2\n",
    "print(Total_Reduction_temp_2)"
   ]
  },
  {
   "cell_type": "code",
   "execution_count": 12,
   "id": "bd5a0735",
   "metadata": {},
   "outputs": [
    {
     "name": "stdout",
     "output_type": "stream",
     "text": [
      "0.606444642548076\n"
     ]
    }
   ],
   "source": [
    "H_wind_strong = -1 * ((2/3) * np.log2(2/3) + (1/3) * np.log2(1/3))\n",
    "Net_Entropy_wind_2 = (3/7) * H_wind_strong\n",
    "Total_Reduction_wind_2 = 1-Net_Entropy_wind_2\n",
    "print(Total_Reduction_wind_2)"
   ]
  },
  {
   "cell_type": "code",
   "execution_count": 13,
   "id": "e20ea1cd",
   "metadata": {},
   "outputs": [
    {
     "name": "stdout",
     "output_type": "stream",
     "text": [
      "0.035016071119504555\n"
     ]
    }
   ],
   "source": [
    "long_traffic_table = table_driving[table_driving['Traffic-Jam_X3'] == \"long\"]\n",
    "long_traffic_table\n",
    "H_temp_hot = -1 * ((1/3) * np.log2(1/3) + (2/3) * np.log2(2/3))\n",
    "H_temp_mild = -1 * ((2/4) * np.log2(2/4) + (2/4) * np.log2(2/4))\n",
    "Net_Entropy_temp_3 = (4/7) * H_temp_mild + (3/7) * H_temp_hot\n",
    "Total_Reduction_temp_3 = 1-Net_Entropy_temp_3\n",
    "print(Total_Reduction_temp_3)"
   ]
  },
  {
   "cell_type": "code",
   "execution_count": 14,
   "id": "0f90014c",
   "metadata": {},
   "outputs": [
    {
     "name": "stdout",
     "output_type": "stream",
     "text": [
      "0.035016071119504555\n"
     ]
    }
   ],
   "source": [
    "h_wind_weak = -1 * ((2/4) * np.log2(2/4) + (2/4) * np.log2(2/4))\n",
    "h_wind_strong = -1 * ((1/3) * np.log2(1/3) + (2/3) * np.log2(2/3))\n",
    "Net_Entropy_wind_3 = (4/7) * h_wind_weak + (3/7) * h_wind_strong\n",
    "Total_Reduction_wind_3 = 1 - Net_Entropy_wind_3\n",
    "print(Total_Reduction_wind_3)"
   ]
  },
  {
   "cell_type": "code",
   "execution_count": 20,
   "id": "baa71636",
   "metadata": {},
   "outputs": [
    {
     "data": {
      "text/html": [
       "<div>\n",
       "<style scoped>\n",
       "    .dataframe tbody tr th:only-of-type {\n",
       "        vertical-align: middle;\n",
       "    }\n",
       "\n",
       "    .dataframe tbody tr th {\n",
       "        vertical-align: top;\n",
       "    }\n",
       "\n",
       "    .dataframe thead th {\n",
       "        text-align: right;\n",
       "    }\n",
       "</style>\n",
       "<table border=\"1\" class=\"dataframe\">\n",
       "  <thead>\n",
       "    <tr style=\"text-align: right;\">\n",
       "      <th></th>\n",
       "      <th>Temperature_X1</th>\n",
       "      <th>Wind_X2</th>\n",
       "      <th>Traffic-Jam_X3</th>\n",
       "      <th>Car_Driving_y</th>\n",
       "    </tr>\n",
       "  </thead>\n",
       "  <tbody>\n",
       "    <tr>\n",
       "      <th>4</th>\n",
       "      <td>cool</td>\n",
       "      <td>weak</td>\n",
       "      <td>short</td>\n",
       "      <td>yes</td>\n",
       "    </tr>\n",
       "    <tr>\n",
       "      <th>5</th>\n",
       "      <td>cool</td>\n",
       "      <td>strong</td>\n",
       "      <td>short</td>\n",
       "      <td>no</td>\n",
       "    </tr>\n",
       "    <tr>\n",
       "      <th>6</th>\n",
       "      <td>cool</td>\n",
       "      <td>strong</td>\n",
       "      <td>short</td>\n",
       "      <td>yes</td>\n",
       "    </tr>\n",
       "    <tr>\n",
       "      <th>8</th>\n",
       "      <td>cool</td>\n",
       "      <td>weak</td>\n",
       "      <td>short</td>\n",
       "      <td>yes</td>\n",
       "    </tr>\n",
       "    <tr>\n",
       "      <th>9</th>\n",
       "      <td>mild</td>\n",
       "      <td>weak</td>\n",
       "      <td>short</td>\n",
       "      <td>yes</td>\n",
       "    </tr>\n",
       "    <tr>\n",
       "      <th>10</th>\n",
       "      <td>mild</td>\n",
       "      <td>strong</td>\n",
       "      <td>short</td>\n",
       "      <td>yes</td>\n",
       "    </tr>\n",
       "    <tr>\n",
       "      <th>12</th>\n",
       "      <td>hot</td>\n",
       "      <td>weak</td>\n",
       "      <td>short</td>\n",
       "      <td>yes</td>\n",
       "    </tr>\n",
       "  </tbody>\n",
       "</table>\n",
       "</div>"
      ],
      "text/plain": [
       "   Temperature_X1 Wind_X2 Traffic-Jam_X3 Car_Driving_y\n",
       "4            cool    weak          short           yes\n",
       "5            cool  strong          short            no\n",
       "6            cool  strong          short           yes\n",
       "8            cool    weak          short           yes\n",
       "9            mild    weak          short           yes\n",
       "10           mild  strong          short           yes\n",
       "12            hot    weak          short           yes"
      ]
     },
     "execution_count": 20,
     "metadata": {},
     "output_type": "execute_result"
    }
   ],
   "source": [
    "short_traffic_table"
   ]
  },
  {
   "cell_type": "code",
   "execution_count": 21,
   "id": "9b6980c8",
   "metadata": {},
   "outputs": [
    {
     "data": {
      "text/html": [
       "<div>\n",
       "<style scoped>\n",
       "    .dataframe tbody tr th:only-of-type {\n",
       "        vertical-align: middle;\n",
       "    }\n",
       "\n",
       "    .dataframe tbody tr th {\n",
       "        vertical-align: top;\n",
       "    }\n",
       "\n",
       "    .dataframe thead th {\n",
       "        text-align: right;\n",
       "    }\n",
       "</style>\n",
       "<table border=\"1\" class=\"dataframe\">\n",
       "  <thead>\n",
       "    <tr style=\"text-align: right;\">\n",
       "      <th></th>\n",
       "      <th>Temperature_X1</th>\n",
       "      <th>Wind_X2</th>\n",
       "      <th>Traffic-Jam_X3</th>\n",
       "      <th>Car_Driving_y</th>\n",
       "    </tr>\n",
       "  </thead>\n",
       "  <tbody>\n",
       "    <tr>\n",
       "      <th>0</th>\n",
       "      <td>hot</td>\n",
       "      <td>weak</td>\n",
       "      <td>long</td>\n",
       "      <td>no</td>\n",
       "    </tr>\n",
       "    <tr>\n",
       "      <th>1</th>\n",
       "      <td>hot</td>\n",
       "      <td>strong</td>\n",
       "      <td>long</td>\n",
       "      <td>no</td>\n",
       "    </tr>\n",
       "    <tr>\n",
       "      <th>2</th>\n",
       "      <td>hot</td>\n",
       "      <td>weak</td>\n",
       "      <td>long</td>\n",
       "      <td>yes</td>\n",
       "    </tr>\n",
       "    <tr>\n",
       "      <th>3</th>\n",
       "      <td>mild</td>\n",
       "      <td>weak</td>\n",
       "      <td>long</td>\n",
       "      <td>yes</td>\n",
       "    </tr>\n",
       "    <tr>\n",
       "      <th>7</th>\n",
       "      <td>mild</td>\n",
       "      <td>weak</td>\n",
       "      <td>long</td>\n",
       "      <td>no</td>\n",
       "    </tr>\n",
       "    <tr>\n",
       "      <th>11</th>\n",
       "      <td>mild</td>\n",
       "      <td>strong</td>\n",
       "      <td>long</td>\n",
       "      <td>yes</td>\n",
       "    </tr>\n",
       "    <tr>\n",
       "      <th>13</th>\n",
       "      <td>mild</td>\n",
       "      <td>strong</td>\n",
       "      <td>long</td>\n",
       "      <td>no</td>\n",
       "    </tr>\n",
       "  </tbody>\n",
       "</table>\n",
       "</div>"
      ],
      "text/plain": [
       "   Temperature_X1 Wind_X2 Traffic-Jam_X3 Car_Driving_y\n",
       "0             hot    weak           long            no\n",
       "1             hot  strong           long            no\n",
       "2             hot    weak           long           yes\n",
       "3            mild    weak           long           yes\n",
       "7            mild    weak           long            no\n",
       "11           mild  strong           long           yes\n",
       "13           mild  strong           long            no"
      ]
     },
     "execution_count": 21,
     "metadata": {},
     "output_type": "execute_result"
    }
   ],
   "source": [
    "long_traffic_table"
   ]
  },
  {
   "cell_type": "code",
   "execution_count": 24,
   "id": "39fda715",
   "metadata": {},
   "outputs": [],
   "source": [
    "#pydot (Carrera, nd)\n",
    "import pydot\n",
    "graph = pydot.Dot('fuzzy_tree', graph_type='graph', bgcolor='yellow')\n",
    "\n",
    "x = pydot.Node(\"First\", label = \"Traffic = short\")\n",
    "graph.add_node(x)\n",
    "x = pydot.Node(\"Second True\", label = \"True; wind weak?\")\n",
    "graph.add_node(x)\n",
    "x = pydot.Node(\"Third True hot\", label = \"True; Temperature hot?\")\n",
    "graph.add_node(x)\n",
    "x = pydot.Node(\"Third True mild\", label = \"True; Temperature mild?\")\n",
    "graph.add_node(x)\n",
    "x = pydot.Node(\"Third True cool\", label = \"True; Temperature cold?\")\n",
    "graph.add_node(x)\n",
    "x = pydot.Node(\"Third False hot\", label = \"False; Temperature hot?\")\n",
    "graph.add_node(x)\n",
    "x = pydot.Node(\"Third False mild\", label = \"False; Temperature mild?\")\n",
    "graph.add_node(x)\n",
    "x = pydot.Node(\"Third False cool\", label = \"False; Temperature cool?\")\n",
    "graph.add_node(x)\n",
    "\n",
    "y = pydot.Node(\"Second False\", label = \"False; wind weak?\")\n",
    "graph.add_node(y)\n",
    "y = pydot.Node(\"F - Third True hot\", label = \"True; Temperature hot?\")\n",
    "graph.add_node(y)\n",
    "y = pydot.Node(\"F - Third True mild\", label = \"True; Temperature mild?\")\n",
    "graph.add_node(y)\n",
    "y = pydot.Node(\"F - Third True cool\", label = \"True; Temperature cold?\")\n",
    "graph.add_node(y)\n",
    "y = pydot.Node(\"F - Third False hot\", label = \"False; Temperature hot?\")\n",
    "graph.add_node(y)\n",
    "y = pydot.Node(\"F - Third False mild\", label = \"False; Temperature mild?\")\n",
    "graph.add_node(y)\n",
    "y = pydot.Node(\"F - Third False cool\", label = \"False; Temperature cool?\")\n",
    "graph.add_node(y)\n",
    "\n",
    "z = pydot.Node(\"Drive Car\", label = \"drive\")\n",
    "graph.add_node(z)\n",
    "z = pydot.Node(\"Dont drive\", label = \"dont drive\")\n",
    "graph.add_node(z)\n",
    "\n",
    "edge = pydot.Edge(\"First\", \"Second True\")\n",
    "graph.add_edge(edge)\n",
    "edge = pydot.Edge(\"First\", \"Second False\")\n",
    "graph.add_edge(edge)\n",
    "\n",
    "edge = pydot.Edge(\"Second True\", \"Third True hot\")\n",
    "graph.add_edge(edge)\n",
    "edge = pydot.Edge(\"Second True\", \"Third True mild\")\n",
    "graph.add_edge(edge)\n",
    "edge = pydot.Edge(\"Second True\", \"Third True cool\")\n",
    "graph.add_edge(edge)\n",
    "edge = pydot.Edge(\"Second True\", \"Third False hot\")\n",
    "graph.add_edge(edge)\n",
    "edge = pydot.Edge(\"Second True\", \"Third False mild\")\n",
    "graph.add_edge(edge)\n",
    "edge = pydot.Edge(\"Second True\", \"Third False cool\")\n",
    "graph.add_edge(edge)\n",
    "\n",
    "edge = pydot.Edge(\"Second False\", \"F - Third True hot\")\n",
    "graph.add_edge(edge)\n",
    "edge = pydot.Edge(\"Second False\", \"F - Third True mild\")\n",
    "graph.add_edge(edge)\n",
    "edge = pydot.Edge(\"Second False\", \"F - Third True cool\")\n",
    "graph.add_edge(edge)\n",
    "edge = pydot.Edge(\"Second False\", \"F - Third False hot\")\n",
    "graph.add_edge(edge)\n",
    "edge = pydot.Edge(\"Second False\", \"F - Third False mild\")\n",
    "graph.add_edge(edge)\n",
    "edge = pydot.Edge(\"Second False\", \"F - Third False cool\")\n",
    "graph.add_edge(edge)\n",
    "\n",
    "edge = pydot.Edge(\"Third True hot\", \"Drive Car\")\n",
    "graph.add_edge(edge)\n",
    "edge = pydot.Edge(\"Third True mild\", \"Drive Car\")\n",
    "graph.add_edge(edge)\n",
    "edge = pydot.Edge(\"Third True cool\", \"Drive Car\")\n",
    "graph.add_edge(edge)\n",
    "edge = pydot.Edge(\"Third False mild\", \"Drive Car\")\n",
    "graph.add_edge(edge)\n",
    "edge = pydot.Edge(\"Third True cool\", \"Drive Car\")\n",
    "graph.add_edge(edge)\n",
    "\n",
    "edge = pydot.Edge(\"F - Third True hot\", \"Drive Car\")\n",
    "graph.add_edge(edge)\n",
    "edge = pydot.Edge(\"F - Third True hot\", \"Dont drive\")\n",
    "graph.add_edge(edge)\n",
    "edge = pydot.Edge(\"F - Third True mild\", \"Drive Car\")\n",
    "graph.add_edge(edge)\n",
    "edge = pydot.Edge(\"F - Third True mild\", \"Dont drive\")\n",
    "graph.add_edge(edge)\n",
    "\n",
    "edge = pydot.Edge(\"F - Third False hot\", \"Dont drive\")\n",
    "graph.add_edge(edge)\n",
    "edge = pydot.Edge(\"F - Third False mild\", \"Drive Car\")\n",
    "graph.add_edge(edge)\n",
    "edge = pydot.Edge(\"F - Third False mild\", \"Dont drive\")\n",
    "graph.add_edge(edge)\n",
    "\n",
    "graph.write_png(\"graph.png\")\n"
   ]
  },
  {
   "cell_type": "code",
   "execution_count": 36,
   "id": "c889dc2b",
   "metadata": {},
   "outputs": [
    {
     "name": "stdout",
     "output_type": "stream",
     "text": [
      "length of train:  11\n",
      "length of test:  3\n"
     ]
    }
   ],
   "source": [
    "#choose root node with decision partial trees\n",
    "##split data\n",
    "from sklearn.model_selection import train_test_split\n",
    "driving_train, driving_test = train_test_split(table_driving, test_size=0.2, random_state=25)\n",
    "driving_train.reset_index(level=0, inplace=True)\n",
    "driving_test.reset_index(level=0, inplace=True)\n",
    "print(\"length of train: \", len(driving_train))\n",
    "print(\"length of test: \", len(driving_test))\n"
   ]
  },
  {
   "cell_type": "code",
   "execution_count": 37,
   "id": "070c84ca",
   "metadata": {},
   "outputs": [
    {
     "data": {
      "text/html": [
       "<div>\n",
       "<style scoped>\n",
       "    .dataframe tbody tr th:only-of-type {\n",
       "        vertical-align: middle;\n",
       "    }\n",
       "\n",
       "    .dataframe tbody tr th {\n",
       "        vertical-align: top;\n",
       "    }\n",
       "\n",
       "    .dataframe thead th {\n",
       "        text-align: right;\n",
       "    }\n",
       "</style>\n",
       "<table border=\"1\" class=\"dataframe\">\n",
       "  <thead>\n",
       "    <tr style=\"text-align: right;\">\n",
       "      <th></th>\n",
       "      <th>index</th>\n",
       "      <th>Temperature_X1</th>\n",
       "      <th>Wind_X2</th>\n",
       "      <th>Traffic-Jam_X3</th>\n",
       "      <th>Car_Driving_y</th>\n",
       "    </tr>\n",
       "  </thead>\n",
       "  <tbody>\n",
       "    <tr>\n",
       "      <th>0</th>\n",
       "      <td>5</td>\n",
       "      <td>cool</td>\n",
       "      <td>strong</td>\n",
       "      <td>short</td>\n",
       "      <td>no</td>\n",
       "    </tr>\n",
       "    <tr>\n",
       "      <th>1</th>\n",
       "      <td>11</td>\n",
       "      <td>mild</td>\n",
       "      <td>strong</td>\n",
       "      <td>long</td>\n",
       "      <td>yes</td>\n",
       "    </tr>\n",
       "    <tr>\n",
       "      <th>2</th>\n",
       "      <td>1</td>\n",
       "      <td>hot</td>\n",
       "      <td>strong</td>\n",
       "      <td>long</td>\n",
       "      <td>no</td>\n",
       "    </tr>\n",
       "    <tr>\n",
       "      <th>3</th>\n",
       "      <td>12</td>\n",
       "      <td>hot</td>\n",
       "      <td>weak</td>\n",
       "      <td>short</td>\n",
       "      <td>yes</td>\n",
       "    </tr>\n",
       "    <tr>\n",
       "      <th>4</th>\n",
       "      <td>13</td>\n",
       "      <td>mild</td>\n",
       "      <td>strong</td>\n",
       "      <td>long</td>\n",
       "      <td>no</td>\n",
       "    </tr>\n",
       "    <tr>\n",
       "      <th>5</th>\n",
       "      <td>8</td>\n",
       "      <td>cool</td>\n",
       "      <td>weak</td>\n",
       "      <td>short</td>\n",
       "      <td>yes</td>\n",
       "    </tr>\n",
       "    <tr>\n",
       "      <th>6</th>\n",
       "      <td>2</td>\n",
       "      <td>hot</td>\n",
       "      <td>weak</td>\n",
       "      <td>long</td>\n",
       "      <td>yes</td>\n",
       "    </tr>\n",
       "    <tr>\n",
       "      <th>7</th>\n",
       "      <td>7</td>\n",
       "      <td>mild</td>\n",
       "      <td>weak</td>\n",
       "      <td>long</td>\n",
       "      <td>no</td>\n",
       "    </tr>\n",
       "    <tr>\n",
       "      <th>8</th>\n",
       "      <td>6</td>\n",
       "      <td>cool</td>\n",
       "      <td>strong</td>\n",
       "      <td>short</td>\n",
       "      <td>yes</td>\n",
       "    </tr>\n",
       "    <tr>\n",
       "      <th>9</th>\n",
       "      <td>10</td>\n",
       "      <td>mild</td>\n",
       "      <td>strong</td>\n",
       "      <td>short</td>\n",
       "      <td>yes</td>\n",
       "    </tr>\n",
       "    <tr>\n",
       "      <th>10</th>\n",
       "      <td>4</td>\n",
       "      <td>cool</td>\n",
       "      <td>weak</td>\n",
       "      <td>short</td>\n",
       "      <td>yes</td>\n",
       "    </tr>\n",
       "  </tbody>\n",
       "</table>\n",
       "</div>"
      ],
      "text/plain": [
       "    index Temperature_X1 Wind_X2 Traffic-Jam_X3 Car_Driving_y\n",
       "0       5           cool  strong          short            no\n",
       "1      11           mild  strong           long           yes\n",
       "2       1            hot  strong           long            no\n",
       "3      12            hot    weak          short           yes\n",
       "4      13           mild  strong           long            no\n",
       "5       8           cool    weak          short           yes\n",
       "6       2            hot    weak           long           yes\n",
       "7       7           mild    weak           long            no\n",
       "8       6           cool  strong          short           yes\n",
       "9      10           mild  strong          short           yes\n",
       "10      4           cool    weak          short           yes"
      ]
     },
     "execution_count": 37,
     "metadata": {},
     "output_type": "execute_result"
    }
   ],
   "source": [
    "driving_train"
   ]
  },
  {
   "cell_type": "code",
   "execution_count": 38,
   "id": "5c06acf8",
   "metadata": {
    "scrolled": true
   },
   "outputs": [
    {
     "data": {
      "text/html": [
       "<div>\n",
       "<style scoped>\n",
       "    .dataframe tbody tr th:only-of-type {\n",
       "        vertical-align: middle;\n",
       "    }\n",
       "\n",
       "    .dataframe tbody tr th {\n",
       "        vertical-align: top;\n",
       "    }\n",
       "\n",
       "    .dataframe thead th {\n",
       "        text-align: right;\n",
       "    }\n",
       "</style>\n",
       "<table border=\"1\" class=\"dataframe\">\n",
       "  <thead>\n",
       "    <tr style=\"text-align: right;\">\n",
       "      <th></th>\n",
       "      <th>index</th>\n",
       "      <th>Temperature_X1</th>\n",
       "      <th>Wind_X2</th>\n",
       "      <th>Traffic-Jam_X3</th>\n",
       "      <th>Car_Driving_y</th>\n",
       "    </tr>\n",
       "  </thead>\n",
       "  <tbody>\n",
       "    <tr>\n",
       "      <th>0</th>\n",
       "      <td>0</td>\n",
       "      <td>hot</td>\n",
       "      <td>weak</td>\n",
       "      <td>long</td>\n",
       "      <td>no</td>\n",
       "    </tr>\n",
       "    <tr>\n",
       "      <th>1</th>\n",
       "      <td>9</td>\n",
       "      <td>mild</td>\n",
       "      <td>weak</td>\n",
       "      <td>short</td>\n",
       "      <td>yes</td>\n",
       "    </tr>\n",
       "    <tr>\n",
       "      <th>2</th>\n",
       "      <td>3</td>\n",
       "      <td>mild</td>\n",
       "      <td>weak</td>\n",
       "      <td>long</td>\n",
       "      <td>yes</td>\n",
       "    </tr>\n",
       "  </tbody>\n",
       "</table>\n",
       "</div>"
      ],
      "text/plain": [
       "   index Temperature_X1 Wind_X2 Traffic-Jam_X3 Car_Driving_y\n",
       "0      0            hot    weak           long            no\n",
       "1      9           mild    weak          short           yes\n",
       "2      3           mild    weak           long           yes"
      ]
     },
     "execution_count": 38,
     "metadata": {},
     "output_type": "execute_result"
    }
   ],
   "source": [
    "driving_test"
   ]
  },
  {
   "cell_type": "code",
   "execution_count": 65,
   "id": "b9d2c03d",
   "metadata": {},
   "outputs": [
    {
     "name": "stderr",
     "output_type": "stream",
     "text": [
      "C:\\Users\\sophi\\AppData\\Local\\Programs\\Python\\Python39\\lib\\site-packages\\statsmodels\\tools\\tools.py:158: FutureWarning: categorical is deprecated. Use pandas Categorical to represent categorical data and can get_dummies to construct dummy arrays. It will be removed after release 0.13.\n",
      "  warnings.warn(\n"
     ]
    }
   ],
   "source": [
    "temp_np = np.array(driving_train['Temperature_X1'])\n",
    "(temp_cat, temp_cat_dict) = stattools.categorical(temp_np, drop = True, dictnames = True)\n",
    "temp_cat_pd = pd.DataFrame(temp_cat)\n",
    "X = temp_cat_pd\n",
    "\n",
    "wind_np = np.array(driving_train['Wind_X2'])\n",
    "(wind_cat, wind_cat_dict) = stattools.categorical(wind_np, drop = True, dictnames = True)\n",
    "wind_cat_pd = pd.DataFrame(wind_cat)\n",
    "X = pd.concat((X, wind_cat_pd), axis=1)\n",
    "\n",
    "traffic_np = np.array(driving_train['Traffic-Jam_X3'])\n",
    "(traffic_cat, traffic_cat_dict) = stattools.categorical(traffic_np, drop = True, dictnames = True)\n",
    "traffic_cat_pd = pd.DataFrame(traffic_cat)\n",
    "X = pd.concat((X, traffic_cat_pd), axis=1)\n",
    "\n",
    "X_name = ['cold', 'hot', 'mild', 'strong', 'weak', 'long', 'short']\n",
    "X.columns = X_name\n",
    "\n",
    "drive_np = np.array(driving_train['Car_Driving_y'])\n",
    "(drive_cat, drive_cat_dict) = stattools.categorical(drive_np, drop = True, dictnames = True)\n",
    "drive_cat_pd = pd.DataFrame(drive_cat)\n",
    "Y = drive_cat_pd\n",
    "Y_name = ['F', 'T']\n",
    "Y.columns = Y_name"
   ]
  },
  {
   "cell_type": "code",
   "execution_count": 67,
   "id": "db4ebd8e",
   "metadata": {},
   "outputs": [
    {
     "name": "stderr",
     "output_type": "stream",
     "text": [
      "C:\\Users\\sophi\\AppData\\Local\\Programs\\Python\\Python39\\lib\\site-packages\\statsmodels\\tools\\tools.py:158: FutureWarning: categorical is deprecated. Use pandas Categorical to represent categorical data and can get_dummies to construct dummy arrays. It will be removed after release 0.13.\n",
      "  warnings.warn(\n"
     ]
    }
   ],
   "source": [
    "cold_test =pd.DataFrame([0,0,0])\n",
    "temp_np_test = np.array(driving_test['Temperature_X1'])\n",
    "(temp_cat_test, temp_cat_dict_test) = stattools.categorical(temp_np_test, drop = True, dictnames = True)\n",
    "temp_cat_pd_test = pd.DataFrame(temp_cat_test)\n",
    "X_test = pd.concat((cold_test, temp_cat_pd_test), axis=1)\n",
    "\n",
    "strong_test = pd.DataFrame([0,0,0])\n",
    "X_test = pd.concat((X_test, strong_test), axis=1)\n",
    "wind_np_test = np.array(driving_test['Wind_X2'])\n",
    "(wind_cat_test, wind_cat_dict_test) = stattools.categorical(wind_np_test, drop = True, dictnames = True)\n",
    "wind_cat_pd_test = pd.DataFrame(wind_cat_test)\n",
    "X_test = pd.concat((X_test, wind_cat_pd_test), axis=1)\n",
    "\n",
    "traffic_np_test = np.array(driving_test['Traffic-Jam_X3'])\n",
    "(traffic_cat_test, traffic_cat_dict_test) = stattools.categorical(traffic_np_test, drop = True, dictnames = True)\n",
    "traffic_cat_pd_test = pd.DataFrame(traffic_cat_test)\n",
    "X_test = pd.concat((X_test, traffic_cat_pd_test), axis=1)\n",
    "\n",
    "X_name = ['cold', 'hot', 'mild', 'strong', 'weak', 'long', 'short']\n",
    "X_test.columns = X_name\n",
    "\n",
    "drive_np_test = np.array(driving_test['Car_Driving_y'])\n",
    "(drive_cat_test, drive_cat_dict_test) = stattools.categorical(drive_np_test, drop = True, dictnames = True)\n",
    "drive_cat_pd_test = pd.DataFrame(drive_cat_test)\n",
    "Y_test = drive_cat_pd_test\n",
    "Y_name = ['F', 'T']\n",
    "Y_test.columns = Y_name"
   ]
  },
  {
   "cell_type": "code",
   "execution_count": 70,
   "id": "70bf4fda",
   "metadata": {},
   "outputs": [
    {
     "name": "stdout",
     "output_type": "stream",
     "text": [
      "accuracy:  0.3333333333333333\n"
     ]
    }
   ],
   "source": [
    "##test train\n",
    "C5_train = DecisionTreeClassifier(criterion=\"entropy\").fit(X,Y)\n",
    "ypred = C5_train.predict(X_test)\n",
    "from sklearn.metrics import accuracy_score\n",
    "accuracy_test = accuracy_score(Y_test, ypred)\n",
    "print(\"accuracy: \", accuracy_test)"
   ]
  },
  {
   "cell_type": "code",
   "execution_count": null,
   "id": "21f064d2",
   "metadata": {},
   "outputs": [],
   "source": []
  }
 ],
 "metadata": {
  "kernelspec": {
   "display_name": "Python 3 (ipykernel)",
   "language": "python",
   "name": "python3"
  },
  "language_info": {
   "codemirror_mode": {
    "name": "ipython",
    "version": 3
   },
   "file_extension": ".py",
   "mimetype": "text/x-python",
   "name": "python",
   "nbconvert_exporter": "python",
   "pygments_lexer": "ipython3",
   "version": "3.9.7"
  }
 },
 "nbformat": 4,
 "nbformat_minor": 5
}
