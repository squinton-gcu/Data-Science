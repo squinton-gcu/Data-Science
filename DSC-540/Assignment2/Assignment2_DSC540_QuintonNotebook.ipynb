{
 "cells": [
  {
   "cell_type": "code",
   "execution_count": 1,
   "id": "7872b52d",
   "metadata": {},
   "outputs": [],
   "source": [
    "# programmer - Sophia Quinton\n",
    "# date - 11-10-21\n",
    "# class - DSC -530\n",
    "# assignment - Assignment 2\n",
    "\n",
    "##libraries\n",
    "import pandas as pd\n",
    "import numpy as np\n",
    "import matplotlib.pyplot as plt\n",
    "import statsmodels.tools.tools as stattools\n",
    "from scipy import stats\n",
    "from sklearn.neighbors import KNeighborsClassifier\n",
    "from kneed import KneeLocator"
   ]
  },
  {
   "cell_type": "code",
   "execution_count": 2,
   "id": "dd8fbd39",
   "metadata": {},
   "outputs": [],
   "source": [
    "##load data (Lecun et. al., 1998) (Laporte, 2016)\n",
    "from mnist import MNIST\n",
    "mndata = MNIST('C:\\\\Users\\\\sophi\\\\OneDrive\\\\Desktop\\\\Graduate Classes\\\\DSC - 540 Machine Learning\\\\Week 2')\n",
    "images, labels = mndata.load_training()\n",
    "images_test, labels_test = mndata.load_testing()\n"
   ]
  },
  {
   "cell_type": "code",
   "execution_count": 3,
   "id": "1ab940f6",
   "metadata": {},
   "outputs": [
    {
     "name": "stdout",
     "output_type": "stream",
     "text": [
      "Example of calculating the euclidean Distance of two elements training set:  2773.149112471235\n",
      "Example of calculating the euclidean Distance of two elements testing set:  2176.560819274297\n",
      "Example of calculating the euclidean Distance of two elements from each:  2509.1213601577742\n"
     ]
    }
   ],
   "source": [
    "#identify the variables in the dataset and define Euclidean distance \n",
    "#between an element in test and training\n",
    "## the labels represent the Y data and the images are the X variables\n",
    "##(Bhalley, 2020) (Brownlee, 2020)\n",
    "from math import sqrt\n",
    "def euclidean_dist(imA, imB):\n",
    "    #based on the pythagorean theorem\n",
    "    distance = 0.0\n",
    "    for i in range(len(imA)-1):\n",
    "        distance += (imA[i] - imB[i]) **2\n",
    "    return sqrt(distance)\n",
    "##calculate the difference between two images example\n",
    "images_array = np.array(images)\n",
    "images_test_array = np.array(images_test)\n",
    "print(\"Example of calculating the euclidean Distance of two elements training set: \", euclidean_dist(images_array[0], images_array[2]))\n",
    "print(\"Example of calculating the euclidean Distance of two elements testing set: \", euclidean_dist(images_test_array[0], images_test_array[2]))\n",
    "print(\"Example of calculating the euclidean Distance of two elements from each: \", euclidean_dist(images_array[5], images_test_array[5]))\n",
    "\n"
   ]
  },
  {
   "cell_type": "code",
   "execution_count": 4,
   "id": "5f102db2",
   "metadata": {},
   "outputs": [],
   "source": [
    "#K-Nearest neighbor calculations (sklearn, n.d.)\n",
    "neigh = KNeighborsClassifier(n_neighbors=10)\n",
    "kModel = neigh.fit(images, labels)"
   ]
  },
  {
   "cell_type": "code",
   "execution_count": 5,
   "id": "4384f111",
   "metadata": {},
   "outputs": [
    {
     "name": "stdout",
     "output_type": "stream",
     "text": [
      "Train to neighbors:  (array([[   0.        , 1561.47238208, 1591.60139482, 1594.71909752,\n",
      "        1596.70942879, 1604.44694521, 1604.887535  , 1605.70918911,\n",
      "        1609.69438093, 1613.70474375]]), array([[    0, 32248,  8728, 18932, 30483, 24149, 42338, 52295, 26251,\n",
      "        50173]], dtype=int64))\n",
      "Test to neighbors:  (array([[321.66286699, 332.46353183, 341.04838366, 367.71456321,\n",
      "        377.33009421, 416.66533333, 429.1340117 , 431.8471952 ,\n",
      "        439.3529333 , 442.75726984]]), array([[58741, 46512, 15224, 47333, 44038, 42531, 39364, 53361, 12578,\n",
      "        27684]], dtype=int64))\n",
      "Test to neighbors:  (array([[321.66286699, 332.46353183, 341.04838366, 367.71456321,\n",
      "        377.33009421, 416.66533333, 429.1340117 , 431.8471952 ,\n",
      "        439.3529333 , 442.75726984]]), array([[58741, 46512, 15224, 47333, 44038, 42531, 39364, 53361, 12578,\n",
      "        27684]], dtype=int64))\n"
     ]
    }
   ],
   "source": [
    "#calculate the distance between the test elements and each of neighbors\n",
    "##test1\n",
    "print(\"Train to neighbors: \", kModel.kneighbors([images_array[0]]))\n",
    "##test2\n",
    "print(\"Test to neighbors: \", kModel.kneighbors([images_test_array[2]]))\n",
    "##test3\n",
    "print(\"Test to neighbors: \", kModel.kneighbors([images_test_array[2]]))\n"
   ]
  },
  {
   "cell_type": "code",
   "execution_count": 6,
   "id": "d0b88acf",
   "metadata": {},
   "outputs": [
    {
     "data": {
      "text/plain": [
       "60000"
      ]
     },
     "execution_count": 6,
     "metadata": {},
     "output_type": "execute_result"
    }
   ],
   "source": [
    "len(labels)"
   ]
  },
  {
   "cell_type": "code",
   "execution_count": 7,
   "id": "746313fc",
   "metadata": {},
   "outputs": [
    {
     "data": {
      "text/plain": [
       "[5923, 6742, 5958, 6131, 5842, 5421, 5918, 6265, 5851, 5949]"
      ]
     },
     "execution_count": 7,
     "metadata": {},
     "output_type": "execute_result"
    }
   ],
   "source": [
    "#count the occurence of each digit and find most popular digit\n",
    "##the number of each digit\n",
    "def count_occurence(y_data):\n",
    "    count_list = [0,0,0,0,0,0,0,0,0,0]\n",
    "    for number in y_data:\n",
    "        if number == 0:\n",
    "            count_list[0] += 1\n",
    "        elif number == 1:\n",
    "            count_list[1] += 1\n",
    "        elif number == 2:\n",
    "            count_list[2] += 1\n",
    "        elif number == 3:\n",
    "            count_list[3] += 1\n",
    "        elif number == 4:\n",
    "            count_list[4] += 1\n",
    "        elif number == 4:\n",
    "            count_list[4] += 1\n",
    "        elif number == 5:\n",
    "            count_list[5] += 1\n",
    "        elif number == 6:\n",
    "            count_list[6] += 1\n",
    "        elif number == 7:\n",
    "            count_list[7] += 1\n",
    "        elif number == 8:\n",
    "            count_list[8] += 1\n",
    "        elif number == 9:\n",
    "            count_list[9] += 1\n",
    "        else:\n",
    "            print(\"issue!\")\n",
    "    return count_list\n",
    "\n",
    "train_counter = count_occurence(labels)\n",
    "train_counter"
   ]
  },
  {
   "cell_type": "code",
   "execution_count": 8,
   "id": "6b6932c1",
   "metadata": {},
   "outputs": [
    {
     "name": "stdout",
     "output_type": "stream",
     "text": [
      "The number of  0 's 5923\n",
      "The number of  1 's 6742\n",
      "The number of  2 's 5958\n",
      "The number of  3 's 6131\n",
      "The number of  4 's 5842\n",
      "The number of  5 's 5421\n",
      "The number of  6 's 5918\n",
      "The number of  7 's 6265\n",
      "The number of  8 's 5851\n",
      "The number of  9 's 5949\n"
     ]
    }
   ],
   "source": [
    "for i in range(len(train_counter)):\n",
    "    print(\"The number of \", i, \"'s\", train_counter[i])"
   ]
  },
  {
   "cell_type": "code",
   "execution_count": 9,
   "id": "3fb9391a",
   "metadata": {},
   "outputs": [
    {
     "name": "stdout",
     "output_type": "stream",
     "text": [
      "The most popular number is  1\n"
     ]
    }
   ],
   "source": [
    "##find max\n",
    "def find_max(list):\n",
    "    max_num = max(list)\n",
    "    for i in range(len(list)):\n",
    "        if max_num == list[i]:\n",
    "            print(\"The most popular number is \", i)\n",
    "find_max(train_counter)\n"
   ]
  },
  {
   "cell_type": "code",
   "execution_count": 10,
   "id": "8edcf510",
   "metadata": {},
   "outputs": [
    {
     "data": {
      "text/plain": [
       "5"
      ]
     },
     "execution_count": 10,
     "metadata": {},
     "output_type": "execute_result"
    }
   ],
   "source": [
    "kModel.predict([images[0]])[0]"
   ]
  },
  {
   "cell_type": "code",
   "execution_count": 11,
   "id": "6849da68",
   "metadata": {},
   "outputs": [
    {
     "data": {
      "text/plain": [
       "784"
      ]
     },
     "execution_count": 11,
     "metadata": {},
     "output_type": "execute_result"
    }
   ],
   "source": [
    "len(images[0])"
   ]
  },
  {
   "cell_type": "code",
   "execution_count": 12,
   "id": "b561da18",
   "metadata": {
    "scrolled": false
   },
   "outputs": [
    {
     "name": "stdout",
     "output_type": "stream",
     "text": [
      "The most popular number is  0\n",
      "The most popular number is  1\n",
      "The most popular number is  2\n",
      "The most popular number is  3\n",
      "The most popular number is  4\n",
      "The most popular number is  5\n",
      "The most popular number is  6\n",
      "The most popular number is  7\n",
      "The most popular number is  8\n",
      "The most popular number is  9\n"
     ]
    }
   ],
   "source": [
    "##determine what is in each group\n",
    "group_1 = []\n",
    "group_2 = []\n",
    "group_3 = []\n",
    "group_4 = []\n",
    "group_5 = []\n",
    "group_6 = []\n",
    "group_7 = []\n",
    "group_8 = []\n",
    "group_9 = []\n",
    "group_10 = []\n",
    "\n",
    "for sample in range(1,100):\n",
    "    group = kModel.predict([images[sample]])[0]\n",
    "    \n",
    "    if group == 0:\n",
    "        group_1.append(sample)\n",
    "    elif group == 1:\n",
    "        group_2.append(sample)\n",
    "    elif group == 2:\n",
    "        group_3.append(sample)\n",
    "    elif group == 3:\n",
    "        group_4.append(sample)\n",
    "    elif group == 4:\n",
    "        group_5.append(sample)\n",
    "    elif group == 5:\n",
    "        group_6.append(sample)\n",
    "    elif group == 6:\n",
    "        group_7.append(sample)\n",
    "    elif group == 7:\n",
    "        group_8.append(sample)\n",
    "    elif group == 8:\n",
    "        group_9.append(sample)\n",
    "    elif group == 9:\n",
    "        group_10.append(sample)\n",
    "\n",
    "def count_occurence_groups(y_data, group):\n",
    "    count_list = [0,0,0,0,0,0,0,0,0,0]\n",
    "    for number in group:\n",
    "        if y_data[number] == 0:\n",
    "            count_list[0] += 1\n",
    "        elif y_data[number] == 1:\n",
    "            count_list[1] += 1\n",
    "        elif y_data[number] == 2:\n",
    "            count_list[2] += 1\n",
    "        elif y_data[number] == 3:\n",
    "            count_list[3] += 1\n",
    "        elif y_data[number] == 4:\n",
    "            count_list[4] += 1\n",
    "        elif y_data[number] == 5:\n",
    "            count_list[5] += 1\n",
    "        elif y_data[number] == 6:\n",
    "            count_list[6] += 1\n",
    "        elif y_data[number] == 7:\n",
    "            count_list[7] += 1\n",
    "        elif y_data[number] == 8:\n",
    "            count_list[8] += 1\n",
    "        elif y_data[number] == 9:\n",
    "            count_list[9] += 1\n",
    "        else:\n",
    "            print(\"issue!\")\n",
    "    return count_list\n",
    "    \n",
    "find_max(count_occurence_groups(labels,group_1))\n",
    "find_max(count_occurence_groups(labels, group_2))\n",
    "find_max(count_occurence_groups(labels,group_3))\n",
    "find_max(count_occurence_groups(labels,group_4))\n",
    "find_max(count_occurence_groups(labels,group_5))\n",
    "find_max(count_occurence_groups(labels,group_6))\n",
    "find_max(count_occurence_groups(labels,group_7))\n",
    "find_max(count_occurence_groups(labels,group_8))\n",
    "find_max(count_occurence_groups(labels,group_9))\n",
    "find_max(count_occurence_groups(labels,group_10))"
   ]
  },
  {
   "cell_type": "code",
   "execution_count": 13,
   "id": "204254b9",
   "metadata": {},
   "outputs": [],
   "source": [
    "#identify the test element as the digit as popular\n",
    "predictions = kModel.predict(images_test)"
   ]
  },
  {
   "cell_type": "code",
   "execution_count": 14,
   "id": "d3ef4fb3",
   "metadata": {},
   "outputs": [
    {
     "data": {
      "text/plain": [
       "array([7, 2, 1, ..., 4, 5, 6], dtype=uint8)"
      ]
     },
     "execution_count": 14,
     "metadata": {},
     "output_type": "execute_result"
    }
   ],
   "source": [
    "predictions"
   ]
  },
  {
   "cell_type": "code",
   "execution_count": 15,
   "id": "a7215563",
   "metadata": {
    "scrolled": true
   },
   "outputs": [
    {
     "name": "stdout",
     "output_type": "stream",
     "text": [
      "The most popular number is  1\n"
     ]
    }
   ],
   "source": [
    "find_max(count_occurence(predictions))"
   ]
  },
  {
   "cell_type": "code",
   "execution_count": 16,
   "id": "5a2a17c1",
   "metadata": {},
   "outputs": [
    {
     "data": {
      "text/plain": [
       "array([[ 972,    1,    1,    0,    0,    2,    3,    1,    0,    0],\n",
       "       [   0, 1132,    2,    0,    0,    0,    1,    0,    0,    0],\n",
       "       [  13,   12,  982,    2,    1,    0,    2,   17,    3,    0],\n",
       "       [   0,    3,    3,  976,    1,   10,    1,    7,    6,    3],\n",
       "       [   2,   11,    0,    0,  940,    0,    4,    1,    1,   23],\n",
       "       [   4,    0,    0,   12,    1,  863,    6,    1,    1,    4],\n",
       "       [   6,    4,    0,    0,    3,    2,  943,    0,    0,    0],\n",
       "       [   0,   27,    4,    0,    2,    0,    0,  983,    0,   12],\n",
       "       [   6,    4,    5,   11,    7,    9,    4,    7,  914,    7],\n",
       "       [   7,    6,    3,    7,   10,    3,    1,   10,    2,  960]],\n",
       "      dtype=int64)"
      ]
     },
     "execution_count": 16,
     "metadata": {},
     "output_type": "execute_result"
    }
   ],
   "source": [
    "#calculate error (sklearn.classification_report, nd)(sklearn.confusion_matrix, nd)\n",
    "from sklearn.metrics import confusion_matrix\n",
    "from sklearn.metrics import classification_report\n",
    "\n",
    "conf_matrix = confusion_matrix(np.array(labels_test), predictions)\n",
    "conf_matrix"
   ]
  },
  {
   "cell_type": "code",
   "execution_count": 17,
   "id": "e91265f5",
   "metadata": {},
   "outputs": [
    {
     "data": {
      "text/html": [
       "<div>\n",
       "<style scoped>\n",
       "    .dataframe tbody tr th:only-of-type {\n",
       "        vertical-align: middle;\n",
       "    }\n",
       "\n",
       "    .dataframe tbody tr th {\n",
       "        vertical-align: top;\n",
       "    }\n",
       "\n",
       "    .dataframe thead th {\n",
       "        text-align: right;\n",
       "    }\n",
       "</style>\n",
       "<table border=\"1\" class=\"dataframe\">\n",
       "  <thead>\n",
       "    <tr style=\"text-align: right;\">\n",
       "      <th>Predicted</th>\n",
       "      <th>0</th>\n",
       "      <th>1</th>\n",
       "      <th>2</th>\n",
       "      <th>3</th>\n",
       "      <th>4</th>\n",
       "      <th>5</th>\n",
       "      <th>6</th>\n",
       "      <th>7</th>\n",
       "      <th>8</th>\n",
       "      <th>9</th>\n",
       "      <th>Total</th>\n",
       "    </tr>\n",
       "    <tr>\n",
       "      <th>Actual</th>\n",
       "      <th></th>\n",
       "      <th></th>\n",
       "      <th></th>\n",
       "      <th></th>\n",
       "      <th></th>\n",
       "      <th></th>\n",
       "      <th></th>\n",
       "      <th></th>\n",
       "      <th></th>\n",
       "      <th></th>\n",
       "      <th></th>\n",
       "    </tr>\n",
       "  </thead>\n",
       "  <tbody>\n",
       "    <tr>\n",
       "      <th>0</th>\n",
       "      <td>972</td>\n",
       "      <td>1</td>\n",
       "      <td>1</td>\n",
       "      <td>0</td>\n",
       "      <td>0</td>\n",
       "      <td>2</td>\n",
       "      <td>3</td>\n",
       "      <td>1</td>\n",
       "      <td>0</td>\n",
       "      <td>0</td>\n",
       "      <td>980</td>\n",
       "    </tr>\n",
       "    <tr>\n",
       "      <th>1</th>\n",
       "      <td>0</td>\n",
       "      <td>1132</td>\n",
       "      <td>2</td>\n",
       "      <td>0</td>\n",
       "      <td>0</td>\n",
       "      <td>0</td>\n",
       "      <td>1</td>\n",
       "      <td>0</td>\n",
       "      <td>0</td>\n",
       "      <td>0</td>\n",
       "      <td>1135</td>\n",
       "    </tr>\n",
       "    <tr>\n",
       "      <th>2</th>\n",
       "      <td>13</td>\n",
       "      <td>12</td>\n",
       "      <td>982</td>\n",
       "      <td>2</td>\n",
       "      <td>1</td>\n",
       "      <td>0</td>\n",
       "      <td>2</td>\n",
       "      <td>17</td>\n",
       "      <td>3</td>\n",
       "      <td>0</td>\n",
       "      <td>1032</td>\n",
       "    </tr>\n",
       "    <tr>\n",
       "      <th>3</th>\n",
       "      <td>0</td>\n",
       "      <td>3</td>\n",
       "      <td>3</td>\n",
       "      <td>976</td>\n",
       "      <td>1</td>\n",
       "      <td>10</td>\n",
       "      <td>1</td>\n",
       "      <td>7</td>\n",
       "      <td>6</td>\n",
       "      <td>3</td>\n",
       "      <td>1010</td>\n",
       "    </tr>\n",
       "    <tr>\n",
       "      <th>4</th>\n",
       "      <td>2</td>\n",
       "      <td>11</td>\n",
       "      <td>0</td>\n",
       "      <td>0</td>\n",
       "      <td>940</td>\n",
       "      <td>0</td>\n",
       "      <td>4</td>\n",
       "      <td>1</td>\n",
       "      <td>1</td>\n",
       "      <td>23</td>\n",
       "      <td>982</td>\n",
       "    </tr>\n",
       "    <tr>\n",
       "      <th>5</th>\n",
       "      <td>4</td>\n",
       "      <td>0</td>\n",
       "      <td>0</td>\n",
       "      <td>12</td>\n",
       "      <td>1</td>\n",
       "      <td>863</td>\n",
       "      <td>6</td>\n",
       "      <td>1</td>\n",
       "      <td>1</td>\n",
       "      <td>4</td>\n",
       "      <td>892</td>\n",
       "    </tr>\n",
       "    <tr>\n",
       "      <th>6</th>\n",
       "      <td>6</td>\n",
       "      <td>4</td>\n",
       "      <td>0</td>\n",
       "      <td>0</td>\n",
       "      <td>3</td>\n",
       "      <td>2</td>\n",
       "      <td>943</td>\n",
       "      <td>0</td>\n",
       "      <td>0</td>\n",
       "      <td>0</td>\n",
       "      <td>958</td>\n",
       "    </tr>\n",
       "    <tr>\n",
       "      <th>7</th>\n",
       "      <td>0</td>\n",
       "      <td>27</td>\n",
       "      <td>4</td>\n",
       "      <td>0</td>\n",
       "      <td>2</td>\n",
       "      <td>0</td>\n",
       "      <td>0</td>\n",
       "      <td>983</td>\n",
       "      <td>0</td>\n",
       "      <td>12</td>\n",
       "      <td>1028</td>\n",
       "    </tr>\n",
       "    <tr>\n",
       "      <th>8</th>\n",
       "      <td>6</td>\n",
       "      <td>4</td>\n",
       "      <td>5</td>\n",
       "      <td>11</td>\n",
       "      <td>7</td>\n",
       "      <td>9</td>\n",
       "      <td>4</td>\n",
       "      <td>7</td>\n",
       "      <td>914</td>\n",
       "      <td>7</td>\n",
       "      <td>974</td>\n",
       "    </tr>\n",
       "    <tr>\n",
       "      <th>9</th>\n",
       "      <td>7</td>\n",
       "      <td>6</td>\n",
       "      <td>3</td>\n",
       "      <td>7</td>\n",
       "      <td>10</td>\n",
       "      <td>3</td>\n",
       "      <td>1</td>\n",
       "      <td>10</td>\n",
       "      <td>2</td>\n",
       "      <td>960</td>\n",
       "      <td>1009</td>\n",
       "    </tr>\n",
       "    <tr>\n",
       "      <th>Total</th>\n",
       "      <td>1010</td>\n",
       "      <td>1200</td>\n",
       "      <td>1000</td>\n",
       "      <td>1008</td>\n",
       "      <td>965</td>\n",
       "      <td>889</td>\n",
       "      <td>965</td>\n",
       "      <td>1027</td>\n",
       "      <td>927</td>\n",
       "      <td>1009</td>\n",
       "      <td>10000</td>\n",
       "    </tr>\n",
       "  </tbody>\n",
       "</table>\n",
       "</div>"
      ],
      "text/plain": [
       "Predicted     0     1     2     3    4    5    6     7    8     9  Total\n",
       "Actual                                                                  \n",
       "0           972     1     1     0    0    2    3     1    0     0    980\n",
       "1             0  1132     2     0    0    0    1     0    0     0   1135\n",
       "2            13    12   982     2    1    0    2    17    3     0   1032\n",
       "3             0     3     3   976    1   10    1     7    6     3   1010\n",
       "4             2    11     0     0  940    0    4     1    1    23    982\n",
       "5             4     0     0    12    1  863    6     1    1     4    892\n",
       "6             6     4     0     0    3    2  943     0    0     0    958\n",
       "7             0    27     4     0    2    0    0   983    0    12   1028\n",
       "8             6     4     5    11    7    9    4     7  914     7    974\n",
       "9             7     6     3     7   10    3    1    10    2   960   1009\n",
       "Total      1010  1200  1000  1008  965  889  965  1027  927  1009  10000"
      ]
     },
     "execution_count": 17,
     "metadata": {},
     "output_type": "execute_result"
    }
   ],
   "source": [
    "table_result = pd.crosstab(np.array(labels_test), predictions, rownames = ['Actual'], colnames = ['Predicted'])\n",
    "table_result['Total'] = table_result.sum(axis=1); table_result.loc['Total'] = table_result.sum()\n",
    "table_result"
   ]
  },
  {
   "cell_type": "code",
   "execution_count": 18,
   "id": "218f21b8",
   "metadata": {},
   "outputs": [
    {
     "name": "stdout",
     "output_type": "stream",
     "text": [
      "              precision    recall  f1-score   support\n",
      "\n",
      "           0       0.96      0.99      0.98       980\n",
      "           1       0.94      1.00      0.97      1135\n",
      "           2       0.98      0.95      0.97      1032\n",
      "           3       0.97      0.97      0.97      1010\n",
      "           4       0.97      0.96      0.97       982\n",
      "           5       0.97      0.97      0.97       892\n",
      "           6       0.98      0.98      0.98       958\n",
      "           7       0.96      0.96      0.96      1028\n",
      "           8       0.99      0.94      0.96       974\n",
      "           9       0.95      0.95      0.95      1009\n",
      "\n",
      "    accuracy                           0.97     10000\n",
      "   macro avg       0.97      0.97      0.97     10000\n",
      "weighted avg       0.97      0.97      0.97     10000\n",
      "\n"
     ]
    }
   ],
   "source": [
    "print(classification_report(np.array(labels_test), predictions))"
   ]
  },
  {
   "cell_type": "code",
   "execution_count": 19,
   "id": "a6ebd231",
   "metadata": {},
   "outputs": [
    {
     "data": {
      "text/plain": [
       "0.9665"
      ]
     },
     "execution_count": 19,
     "metadata": {},
     "output_type": "execute_result"
    }
   ],
   "source": [
    "scores_y = kModel.score(np.array(images_test), np.array(labels_test))\n",
    "scores_y"
   ]
  },
  {
   "cell_type": "code",
   "execution_count": 20,
   "id": "03af27f1",
   "metadata": {},
   "outputs": [
    {
     "name": "stdout",
     "output_type": "stream",
     "text": [
      "FP:  [38 68 18 32 25 26 22 44 13 49]\n",
      "FN:  [ 8  3 50 34 42 29 15 45 60 49]\n",
      "TP:  [ 972 1132  982  976  940  863  943  983  914  960]\n",
      "TN:  [8982 8797 8950 8958 8993 9082 9020 8928 9013 8942]\n"
     ]
    }
   ],
   "source": [
    "##(Loukas, 2020)\n",
    "FP = conf_matrix.sum(axis=0) - np.diag(conf_matrix)\n",
    "FN = conf_matrix.sum(axis=1) - np.diag(conf_matrix)\n",
    "TP = np.diag(conf_matrix)\n",
    "TN = conf_matrix.sum() - (FP + FN + TP)\n",
    "print(\"FP: \", FP)\n",
    "print(\"FN: \", FN)\n",
    "print(\"TP: \", TP)\n",
    "print(\"TN: \", TN)"
   ]
  },
  {
   "cell_type": "code",
   "execution_count": null,
   "id": "5c1c1f86",
   "metadata": {},
   "outputs": [],
   "source": [
    "## ROC curve (sklearn-ROC, nd)\n",
    "from sklearn.metrics import roc_curve, auc\n",
    "from sklearn import preprocessing\n",
    "\n",
    "y_score = kModel.predict_proba(images_test)\n",
    "labels_test_array = np.array(labels_test)\n"
   ]
  },
  {
   "cell_type": "code",
   "execution_count": 73,
   "id": "01c85b8d",
   "metadata": {},
   "outputs": [],
   "source": [
    "from sklearn.preprocessing import label_binarize\n",
    "labels_binary = label_binarize(labels_test_array, classes = [0,1,2,3,4,5,6,7,8,9])\n",
    "n_classes = 10\n",
    "\n",
    "fpr = dict()\n",
    "tpr = dict()\n",
    "roc_auc = dict()\n",
    "for i in range(10):\n",
    "    fpr[i], tpr[i], _ = roc_curve(labels_binary[:, i], y_score[:, i])\n",
    "    roc_auc[i] = auc(fpr[i], tpr[i])\n"
   ]
  },
  {
   "cell_type": "code",
   "execution_count": 83,
   "id": "e17c0ae6",
   "metadata": {},
   "outputs": [
    {
     "data": {
      "image/png": "[encoded data removed]",
      "text/plain": [
       "<Figure size 432x288 with 1 Axes>"
      ]
     },
     "metadata": {
      "needs_background": "light"
     },
     "output_type": "display_data"
    }
   ],
   "source": [
    "for i in range(10):\n",
    "    plt.plot(fpr[i], tpr[i], label='ROC curve (area = %0.2f)' % roc_auc[i])\n",
    "    plt.plot([0,1], [0,1], 'k--')\n",
    "    plt.xlim([0.0, 1.0])\n",
    "    plt.ylim([0.0,1.05])\n",
    "    plt.xlabel('False Positive Rate')\n",
    "    plt.ylabel('True Positive Rate')\n",
    "    plt.title('Receiver operating characteristic example')\n",
    "plt.show()"
   ]
  }
 ],
 "metadata": {
  "kernelspec": {
   "display_name": "Python 3 (ipykernel)",
   "language": "python",
   "name": "python3"
  },
  "language_info": {
   "codemirror_mode": {
    "name": "ipython",
    "version": 3
   },
   "file_extension": ".py",
   "mimetype": "text/x-python",
   "name": "python",
   "nbconvert_exporter": "python",
   "pygments_lexer": "ipython3",
   "version": "3.9.7"
  }
 },
 "nbformat": 4,
 "nbformat_minor": 5
}
