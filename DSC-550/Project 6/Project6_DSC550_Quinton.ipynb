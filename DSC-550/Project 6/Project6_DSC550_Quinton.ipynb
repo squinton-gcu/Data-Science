{
  "cells": [
    {
      "cell_type": "code",
      "execution_count": null,
      "metadata": {
        "colab": {
          "base_uri": "https://localhost:8080/"
        },
        "id": "FAeL3R9JOSav",
        "outputId": "fe8da184-0dc3-4ddb-e7ec-d651994af80f"
      },
      "outputs": [
        {
          "name": "stdout",
          "output_type": "stream",
          "text": [
            "Mounted at /content/gdrive\n"
          ]
        }
      ],
      "source": [
        "from google.colab import drive\n",
        "\n",
        "drive.mount('/content/gdrive')"
      ]
    },
    {
      "cell_type": "code",
      "execution_count": null,
      "metadata": {
        "colab": {
          "base_uri": "https://localhost:8080/"
        },
        "id": "cRvQdEHsqrb8",
        "outputId": "3a9c82b5-fe72-420f-ed36-671c034e69f3"
      },
      "outputs": [
        {
          "data": {
            "text/plain": [
              "(1, 1708, 1944, 3)"
            ]
          },
          "execution_count": 2,
          "metadata": {},
          "output_type": "execute_result"
        }
      ],
      "source": [
        "from keras.preprocessing.image import array_to_img, img_to_array, load_img\n",
        "#(Raikote, 2021)\n",
        "img = load_img('/content/gdrive/MyDrive/project 6/Train/Normal/N1.jpg')\n",
        "x = img_to_array(img)\n",
        "x = x.reshape((1,) + x.shape)  \n",
        "x.shape"
      ]
    },
    {
      "cell_type": "code",
      "execution_count": null,
      "metadata": {
        "id": "Cq-TvjHlObJ1"
      },
      "outputs": [],
      "source": [
        "#(Abadi et. al., 2015)\n",
        "import tensorflow as tf"
      ]
    },
    {
      "cell_type": "markdown",
      "metadata": {
        "id": "QnvFqOfeErUO"
      },
      "source": [
        "## Determine number of convolutional layers"
      ]
    },
    {
      "cell_type": "code",
      "execution_count": null,
      "metadata": {
        "id": "pb5TiA0XDd-O"
      },
      "outputs": [],
      "source": [
        "# (Phan, 2020)\n",
        "model3 = tf.keras.models.Sequential([\n",
        "# This is the first convolution\n",
        "tf.keras.layers.Conv2D(16, (3,3), activation='relu', input_shape=(1000, 1000, 3)),\n",
        "tf.keras.layers.MaxPooling2D(2, 2),\n",
        "# The second convolution\n",
        "tf.keras.layers.Conv2D(32, (3,3), activation='relu'),\n",
        "tf.keras.layers.MaxPooling2D(2,2),\n",
        "# The third convolution\n",
        "tf.keras.layers.Conv2D(64, (3,3), activation='relu'),\n",
        "tf.keras.layers.MaxPooling2D(2,2),\n",
        "# Flatten the results to feed into a DNN\n",
        "tf.keras.layers.Flatten(),\n",
        "# 512 neuron hidden layer\n",
        "tf.keras.layers.Dense(512, activation='relu'),\n",
        "tf.keras.layers.Dense(1, activation='sigmoid')])"
      ]
    },
    {
      "cell_type": "code",
      "execution_count": null,
      "metadata": {
        "id": "C6y-uFElDm7w"
      },
      "outputs": [],
      "source": [
        "# (Phan, 2020)\n",
        "model4 = tf.keras.models.Sequential([\n",
        "# This is the first convolution\n",
        "tf.keras.layers.Conv2D(16, (3,3), activation='relu', input_shape=(1000, 1000, 3)),\n",
        "tf.keras.layers.MaxPooling2D(2, 2),\n",
        "# The second convolution\n",
        "tf.keras.layers.Conv2D(32, (3,3), activation='relu'),\n",
        "tf.keras.layers.MaxPooling2D(2,2),\n",
        "# The third convolution\n",
        "tf.keras.layers.Conv2D(64, (3,3), activation='relu'),\n",
        "tf.keras.layers.MaxPooling2D(2,2),\n",
        "# The fourth convolution\n",
        "tf.keras.layers.Conv2D(64, (3,3), activation='relu'),\n",
        "tf.keras.layers.MaxPooling2D(2,2),\n",
        "# Flatten the results to feed into a DNN\n",
        "tf.keras.layers.Flatten(),\n",
        "# 512 neuron hidden layer\n",
        "tf.keras.layers.Dense(512, activation='relu'),\n",
        "tf.keras.layers.Dense(1, activation='sigmoid')])"
      ]
    },
    {
      "cell_type": "code",
      "execution_count": null,
      "metadata": {
        "id": "OKFhb5HKDK8S"
      },
      "outputs": [],
      "source": [
        "# (Phan, 2020)\n",
        "model5 = tf.keras.models.Sequential([\n",
        "# This is the first convolution\n",
        "tf.keras.layers.Conv2D(16, (3,3), activation='relu', input_shape=(1000, 1000, 3)),\n",
        "tf.keras.layers.MaxPooling2D(2, 2),\n",
        "# The second convolution\n",
        "tf.keras.layers.Conv2D(32, (3,3), activation='relu'),\n",
        "tf.keras.layers.MaxPooling2D(2,2),\n",
        "# The third convolution\n",
        "tf.keras.layers.Conv2D(64, (3,3), activation='relu'),\n",
        "tf.keras.layers.MaxPooling2D(2,2),\n",
        "# The fourth convolution\n",
        "tf.keras.layers.Conv2D(64, (3,3), activation='relu'),\n",
        "tf.keras.layers.MaxPooling2D(2,2),\n",
        "# # The fifth convolution\n",
        "tf.keras.layers.Conv2D(64, (3,3), activation='relu'),\n",
        "tf.keras.layers.MaxPooling2D(2,2),\n",
        "# Flatten the results to feed into a DNN\n",
        "tf.keras.layers.Flatten(),\n",
        "# 512 neuron hidden layer\n",
        "tf.keras.layers.Dense(512, activation='relu'),\n",
        "tf.keras.layers.Dense(1, activation='sigmoid')])"
      ]
    },
    {
      "cell_type": "code",
      "execution_count": null,
      "metadata": {
        "id": "zzKhYgTfINj1"
      },
      "outputs": [],
      "source": [
        "# (Phan, 2020)\n",
        "model6 = tf.keras.models.Sequential([\n",
        "# This is the first convolution\n",
        "tf.keras.layers.Conv2D(16, (3,3), activation='relu', input_shape=(1000, 1000, 3)),\n",
        "tf.keras.layers.MaxPooling2D(2, 2),\n",
        "# The second convolution\n",
        "tf.keras.layers.Conv2D(32, (3,3), activation='relu'),\n",
        "tf.keras.layers.MaxPooling2D(2,2),\n",
        "# The third convolution\n",
        "tf.keras.layers.Conv2D(64, (3,3), activation='relu'),\n",
        "tf.keras.layers.MaxPooling2D(2,2),\n",
        "# The fourth convolution\n",
        "tf.keras.layers.Conv2D(64, (3,3), activation='relu'),\n",
        "tf.keras.layers.MaxPooling2D(2,2),\n",
        "# # The fifth convolution\n",
        "tf.keras.layers.Conv2D(64, (3,3), activation='relu'),\n",
        "tf.keras.layers.MaxPooling2D(2,2),\n",
        "# # The sixth convolution\n",
        "tf.keras.layers.Conv2D(64, (3,3), activation='relu'),\n",
        "tf.keras.layers.MaxPooling2D(2,2),\n",
        "# Flatten the results to feed into a DNN\n",
        "tf.keras.layers.Flatten(),\n",
        "# 512 neuron hidden layer\n",
        "tf.keras.layers.Dense(512, activation='relu'),\n",
        "tf.keras.layers.Dense(1, activation='sigmoid')])"
      ]
    },
    {
      "cell_type": "code",
      "execution_count": null,
      "metadata": {
        "id": "jqDYjjAkIZH0"
      },
      "outputs": [],
      "source": [
        "# (Phan, 2020)\n",
        "model7 = tf.keras.models.Sequential([\n",
        "# This is the first convolution\n",
        "tf.keras.layers.Conv2D(16, (3,3), activation='relu', input_shape=(1000, 1000, 3)),\n",
        "tf.keras.layers.MaxPooling2D(2, 2),\n",
        "# The second convolution\n",
        "tf.keras.layers.Conv2D(32, (3,3), activation='relu'),\n",
        "tf.keras.layers.MaxPooling2D(2,2),\n",
        "# The third convolution\n",
        "tf.keras.layers.Conv2D(64, (3,3), activation='relu'),\n",
        "tf.keras.layers.MaxPooling2D(2,2),\n",
        "# The fourth convolution\n",
        "tf.keras.layers.Conv2D(64, (3,3), activation='relu'),\n",
        "tf.keras.layers.MaxPooling2D(2,2),\n",
        "# # The fifth convolution\n",
        "tf.keras.layers.Conv2D(64, (3,3), activation='relu'),\n",
        "tf.keras.layers.MaxPooling2D(2,2),\n",
        "# # The sixth convolution\n",
        "tf.keras.layers.Conv2D(64, (3,3), activation='relu'),\n",
        "tf.keras.layers.MaxPooling2D(2,2),\n",
        "# # The seventh convolution\n",
        "tf.keras.layers.Conv2D(64, (3,3), activation='relu'),\n",
        "tf.keras.layers.MaxPooling2D(2,2),\n",
        "# Flatten the results to feed into a DNN\n",
        "tf.keras.layers.Flatten(),\n",
        "# 512 neuron hidden layer\n",
        "tf.keras.layers.Dense(512, activation='relu'),\n",
        "tf.keras.layers.Dense(1, activation='sigmoid')])"
      ]
    },
    {
      "cell_type": "code",
      "execution_count": null,
      "metadata": {
        "colab": {
          "base_uri": "https://localhost:8080/"
        },
        "id": "QgO1NPPiPITz",
        "outputId": "ae4d1853-fbe9-4eeb-8cbb-d4c086096495"
      },
      "outputs": [
        {
          "name": "stdout",
          "output_type": "stream",
          "text": [
            "Model: \"sequential\"\n",
            "_________________________________________________________________\n",
            " Layer (type)                Output Shape              Param #   \n",
            "=================================================================\n",
            " conv2d (Conv2D)             (None, 998, 998, 16)      448       \n",
            "                                                                 \n",
            " max_pooling2d (MaxPooling2D  (None, 499, 499, 16)     0         \n",
            " )                                                               \n",
            "                                                                 \n",
            " conv2d_1 (Conv2D)           (None, 497, 497, 32)      4640      \n",
            "                                                                 \n",
            " max_pooling2d_1 (MaxPooling  (None, 248, 248, 32)     0         \n",
            " 2D)                                                             \n",
            "                                                                 \n",
            " conv2d_2 (Conv2D)           (None, 246, 246, 64)      18496     \n",
            "                                                                 \n",
            " max_pooling2d_2 (MaxPooling  (None, 123, 123, 64)     0         \n",
            " 2D)                                                             \n",
            "                                                                 \n",
            " flatten (Flatten)           (None, 968256)            0         \n",
            "                                                                 \n",
            " dense (Dense)               (None, 512)               495747584 \n",
            "                                                                 \n",
            " dense_1 (Dense)             (None, 1)                 513       \n",
            "                                                                 \n",
            "=================================================================\n",
            "Total params: 495,771,681\n",
            "Trainable params: 495,771,681\n",
            "Non-trainable params: 0\n",
            "_________________________________________________________________\n"
          ]
        }
      ],
      "source": [
        "model3.summary()"
      ]
    },
    {
      "cell_type": "code",
      "execution_count": null,
      "metadata": {
        "colab": {
          "base_uri": "https://localhost:8080/"
        },
        "id": "Uh3QPjLTFrjP",
        "outputId": "05ca40c3-0ea8-4172-c264-f552bc862173"
      },
      "outputs": [
        {
          "name": "stdout",
          "output_type": "stream",
          "text": [
            "Model: \"sequential_1\"\n",
            "_________________________________________________________________\n",
            " Layer (type)                Output Shape              Param #   \n",
            "=================================================================\n",
            " conv2d_3 (Conv2D)           (None, 998, 998, 16)      448       \n",
            "                                                                 \n",
            " max_pooling2d_3 (MaxPooling  (None, 499, 499, 16)     0         \n",
            " 2D)                                                             \n",
            "                                                                 \n",
            " conv2d_4 (Conv2D)           (None, 497, 497, 32)      4640      \n",
            "                                                                 \n",
            " max_pooling2d_4 (MaxPooling  (None, 248, 248, 32)     0         \n",
            " 2D)                                                             \n",
            "                                                                 \n",
            " conv2d_5 (Conv2D)           (None, 246, 246, 64)      18496     \n",
            "                                                                 \n",
            " max_pooling2d_5 (MaxPooling  (None, 123, 123, 64)     0         \n",
            " 2D)                                                             \n",
            "                                                                 \n",
            " conv2d_6 (Conv2D)           (None, 121, 121, 64)      36928     \n",
            "                                                                 \n",
            " max_pooling2d_6 (MaxPooling  (None, 60, 60, 64)       0         \n",
            " 2D)                                                             \n",
            "                                                                 \n",
            " flatten_1 (Flatten)         (None, 230400)            0         \n",
            "                                                                 \n",
            " dense_2 (Dense)             (None, 512)               117965312 \n",
            "                                                                 \n",
            " dense_3 (Dense)             (None, 1)                 513       \n",
            "                                                                 \n",
            "=================================================================\n",
            "Total params: 118,026,337\n",
            "Trainable params: 118,026,337\n",
            "Non-trainable params: 0\n",
            "_________________________________________________________________\n"
          ]
        }
      ],
      "source": [
        "model4.summary()"
      ]
    },
    {
      "cell_type": "code",
      "execution_count": null,
      "metadata": {
        "colab": {
          "base_uri": "https://localhost:8080/"
        },
        "id": "CdJyYwJZFsIk",
        "outputId": "33de511d-0147-4fd9-f6a5-cc8d572775fc"
      },
      "outputs": [
        {
          "name": "stdout",
          "output_type": "stream",
          "text": [
            "Model: \"sequential_2\"\n",
            "_________________________________________________________________\n",
            " Layer (type)                Output Shape              Param #   \n",
            "=================================================================\n",
            " conv2d_7 (Conv2D)           (None, 998, 998, 16)      448       \n",
            "                                                                 \n",
            " max_pooling2d_7 (MaxPooling  (None, 499, 499, 16)     0         \n",
            " 2D)                                                             \n",
            "                                                                 \n",
            " conv2d_8 (Conv2D)           (None, 497, 497, 32)      4640      \n",
            "                                                                 \n",
            " max_pooling2d_8 (MaxPooling  (None, 248, 248, 32)     0         \n",
            " 2D)                                                             \n",
            "                                                                 \n",
            " conv2d_9 (Conv2D)           (None, 246, 246, 64)      18496     \n",
            "                                                                 \n",
            " max_pooling2d_9 (MaxPooling  (None, 123, 123, 64)     0         \n",
            " 2D)                                                             \n",
            "                                                                 \n",
            " conv2d_10 (Conv2D)          (None, 121, 121, 64)      36928     \n",
            "                                                                 \n",
            " max_pooling2d_10 (MaxPoolin  (None, 60, 60, 64)       0         \n",
            " g2D)                                                            \n",
            "                                                                 \n",
            " conv2d_11 (Conv2D)          (None, 58, 58, 64)        36928     \n",
            "                                                                 \n",
            " max_pooling2d_11 (MaxPoolin  (None, 29, 29, 64)       0         \n",
            " g2D)                                                            \n",
            "                                                                 \n",
            " flatten_2 (Flatten)         (None, 53824)             0         \n",
            "                                                                 \n",
            " dense_4 (Dense)             (None, 512)               27558400  \n",
            "                                                                 \n",
            " dense_5 (Dense)             (None, 1)                 513       \n",
            "                                                                 \n",
            "=================================================================\n",
            "Total params: 27,656,353\n",
            "Trainable params: 27,656,353\n",
            "Non-trainable params: 0\n",
            "_________________________________________________________________\n"
          ]
        }
      ],
      "source": [
        "model5.summary()"
      ]
    },
    {
      "cell_type": "code",
      "execution_count": null,
      "metadata": {
        "colab": {
          "base_uri": "https://localhost:8080/"
        },
        "id": "ENRmbXD_IgFL",
        "outputId": "7e3f456a-e623-492e-97fb-0ef7452a6b8a"
      },
      "outputs": [
        {
          "name": "stdout",
          "output_type": "stream",
          "text": [
            "Model: \"sequential_3\"\n",
            "_________________________________________________________________\n",
            " Layer (type)                Output Shape              Param #   \n",
            "=================================================================\n",
            " conv2d_12 (Conv2D)          (None, 998, 998, 16)      448       \n",
            "                                                                 \n",
            " max_pooling2d_12 (MaxPoolin  (None, 499, 499, 16)     0         \n",
            " g2D)                                                            \n",
            "                                                                 \n",
            " conv2d_13 (Conv2D)          (None, 497, 497, 32)      4640      \n",
            "                                                                 \n",
            " max_pooling2d_13 (MaxPoolin  (None, 248, 248, 32)     0         \n",
            " g2D)                                                            \n",
            "                                                                 \n",
            " conv2d_14 (Conv2D)          (None, 246, 246, 64)      18496     \n",
            "                                                                 \n",
            " max_pooling2d_14 (MaxPoolin  (None, 123, 123, 64)     0         \n",
            " g2D)                                                            \n",
            "                                                                 \n",
            " conv2d_15 (Conv2D)          (None, 121, 121, 64)      36928     \n",
            "                                                                 \n",
            " max_pooling2d_15 (MaxPoolin  (None, 60, 60, 64)       0         \n",
            " g2D)                                                            \n",
            "                                                                 \n",
            " conv2d_16 (Conv2D)          (None, 58, 58, 64)        36928     \n",
            "                                                                 \n",
            " max_pooling2d_16 (MaxPoolin  (None, 29, 29, 64)       0         \n",
            " g2D)                                                            \n",
            "                                                                 \n",
            " conv2d_17 (Conv2D)          (None, 27, 27, 64)        36928     \n",
            "                                                                 \n",
            " max_pooling2d_17 (MaxPoolin  (None, 13, 13, 64)       0         \n",
            " g2D)                                                            \n",
            "                                                                 \n",
            " flatten_3 (Flatten)         (None, 10816)             0         \n",
            "                                                                 \n",
            " dense_6 (Dense)             (None, 512)               5538304   \n",
            "                                                                 \n",
            " dense_7 (Dense)             (None, 1)                 513       \n",
            "                                                                 \n",
            "=================================================================\n",
            "Total params: 5,673,185\n",
            "Trainable params: 5,673,185\n",
            "Non-trainable params: 0\n",
            "_________________________________________________________________\n"
          ]
        }
      ],
      "source": [
        "model6.summary()"
      ]
    },
    {
      "cell_type": "code",
      "execution_count": null,
      "metadata": {
        "colab": {
          "base_uri": "https://localhost:8080/"
        },
        "id": "i9RfSPvFIgJc",
        "outputId": "1dc6b2bc-646d-4cc7-f4c0-dffb56f70cde"
      },
      "outputs": [
        {
          "name": "stdout",
          "output_type": "stream",
          "text": [
            "Model: \"sequential_4\"\n",
            "_________________________________________________________________\n",
            " Layer (type)                Output Shape              Param #   \n",
            "=================================================================\n",
            " conv2d_18 (Conv2D)          (None, 998, 998, 16)      448       \n",
            "                                                                 \n",
            " max_pooling2d_18 (MaxPoolin  (None, 499, 499, 16)     0         \n",
            " g2D)                                                            \n",
            "                                                                 \n",
            " conv2d_19 (Conv2D)          (None, 497, 497, 32)      4640      \n",
            "                                                                 \n",
            " max_pooling2d_19 (MaxPoolin  (None, 248, 248, 32)     0         \n",
            " g2D)                                                            \n",
            "                                                                 \n",
            " conv2d_20 (Conv2D)          (None, 246, 246, 64)      18496     \n",
            "                                                                 \n",
            " max_pooling2d_20 (MaxPoolin  (None, 123, 123, 64)     0         \n",
            " g2D)                                                            \n",
            "                                                                 \n",
            " conv2d_21 (Conv2D)          (None, 121, 121, 64)      36928     \n",
            "                                                                 \n",
            " max_pooling2d_21 (MaxPoolin  (None, 60, 60, 64)       0         \n",
            " g2D)                                                            \n",
            "                                                                 \n",
            " conv2d_22 (Conv2D)          (None, 58, 58, 64)        36928     \n",
            "                                                                 \n",
            " max_pooling2d_22 (MaxPoolin  (None, 29, 29, 64)       0         \n",
            " g2D)                                                            \n",
            "                                                                 \n",
            " conv2d_23 (Conv2D)          (None, 27, 27, 64)        36928     \n",
            "                                                                 \n",
            " max_pooling2d_23 (MaxPoolin  (None, 13, 13, 64)       0         \n",
            " g2D)                                                            \n",
            "                                                                 \n",
            " conv2d_24 (Conv2D)          (None, 11, 11, 64)        36928     \n",
            "                                                                 \n",
            " max_pooling2d_24 (MaxPoolin  (None, 5, 5, 64)         0         \n",
            " g2D)                                                            \n",
            "                                                                 \n",
            " flatten_4 (Flatten)         (None, 1600)              0         \n",
            "                                                                 \n",
            " dense_8 (Dense)             (None, 512)               819712    \n",
            "                                                                 \n",
            " dense_9 (Dense)             (None, 1)                 513       \n",
            "                                                                 \n",
            "=================================================================\n",
            "Total params: 991,521\n",
            "Trainable params: 991,521\n",
            "Non-trainable params: 0\n",
            "_________________________________________________________________\n"
          ]
        }
      ],
      "source": [
        "model7.summary()"
      ]
    },
    {
      "cell_type": "code",
      "execution_count": null,
      "metadata": {
        "colab": {
          "base_uri": "https://localhost:8080/"
        },
        "id": "RGp1k_5jPRPa",
        "outputId": "bfb6a645-92e9-4308-b5da-5904121c1f0b"
      },
      "outputs": [
        {
          "name": "stderr",
          "output_type": "stream",
          "text": [
            "/usr/local/lib/python3.7/dist-packages/keras/optimizer_v2/rmsprop.py:130: UserWarning: The `lr` argument is deprecated, use `learning_rate` instead.\n",
            "  super(RMSprop, self).__init__(name, **kwargs)\n"
          ]
        }
      ],
      "source": [
        "# (Phan, 2020)\n",
        "model3.compile(loss='binary_crossentropy',\n",
        "optimizer=tf.keras.optimizers.RMSprop(lr=0.001),\n",
        "metrics='accuracy')"
      ]
    },
    {
      "cell_type": "code",
      "execution_count": null,
      "metadata": {
        "colab": {
          "base_uri": "https://localhost:8080/"
        },
        "id": "N5uUZmPHFyUA",
        "outputId": "88f47ec9-df80-48fa-d199-d01167047dd0"
      },
      "outputs": [
        {
          "name": "stderr",
          "output_type": "stream",
          "text": [
            "/usr/local/lib/python3.7/dist-packages/keras/optimizer_v2/rmsprop.py:130: UserWarning: The `lr` argument is deprecated, use `learning_rate` instead.\n",
            "  super(RMSprop, self).__init__(name, **kwargs)\n"
          ]
        }
      ],
      "source": [
        "# (Phan, 2020)\n",
        "model4.compile(loss='binary_crossentropy',\n",
        "optimizer=tf.keras.optimizers.RMSprop(lr=0.001),\n",
        "metrics='accuracy')"
      ]
    },
    {
      "cell_type": "code",
      "execution_count": null,
      "metadata": {
        "colab": {
          "base_uri": "https://localhost:8080/"
        },
        "id": "fKmuUH_1FyZl",
        "outputId": "0359db33-ec14-4899-f22d-26d094f7faa7"
      },
      "outputs": [
        {
          "name": "stderr",
          "output_type": "stream",
          "text": [
            "/usr/local/lib/python3.7/dist-packages/keras/optimizer_v2/rmsprop.py:130: UserWarning: The `lr` argument is deprecated, use `learning_rate` instead.\n",
            "  super(RMSprop, self).__init__(name, **kwargs)\n"
          ]
        }
      ],
      "source": [
        "# (Phan, 2020)\n",
        "model5.compile(loss='binary_crossentropy',\n",
        "optimizer=tf.keras.optimizers.RMSprop(lr=0.001),\n",
        "metrics='accuracy')"
      ]
    },
    {
      "cell_type": "code",
      "execution_count": null,
      "metadata": {
        "colab": {
          "base_uri": "https://localhost:8080/"
        },
        "id": "9YFAv9IJInbc",
        "outputId": "5bb9b509-c0fa-497e-f22c-4a2d6c121c7e"
      },
      "outputs": [
        {
          "name": "stderr",
          "output_type": "stream",
          "text": [
            "/usr/local/lib/python3.7/dist-packages/keras/optimizer_v2/rmsprop.py:130: UserWarning: The `lr` argument is deprecated, use `learning_rate` instead.\n",
            "  super(RMSprop, self).__init__(name, **kwargs)\n"
          ]
        }
      ],
      "source": [
        "# (Phan, 2020)\n",
        "model6.compile(loss='binary_crossentropy',\n",
        "optimizer=tf.keras.optimizers.RMSprop(lr=0.001),\n",
        "metrics='accuracy')"
      ]
    },
    {
      "cell_type": "code",
      "execution_count": null,
      "metadata": {
        "colab": {
          "base_uri": "https://localhost:8080/"
        },
        "id": "F3fHvX_FInhI",
        "outputId": "601a574d-3c5a-46cc-f312-495192f0d46b"
      },
      "outputs": [
        {
          "name": "stderr",
          "output_type": "stream",
          "text": [
            "/usr/local/lib/python3.7/dist-packages/keras/optimizer_v2/rmsprop.py:130: UserWarning: The `lr` argument is deprecated, use `learning_rate` instead.\n",
            "  super(RMSprop, self).__init__(name, **kwargs)\n"
          ]
        }
      ],
      "source": [
        "# (Phan, 2020)\n",
        "model7.compile(loss='binary_crossentropy',\n",
        "optimizer=tf.keras.optimizers.RMSprop(lr=0.001),\n",
        "metrics='accuracy')"
      ]
    },
    {
      "cell_type": "code",
      "execution_count": null,
      "metadata": {
        "colab": {
          "base_uri": "https://localhost:8080/"
        },
        "id": "nMzSnc1zPVOv",
        "outputId": "e35e9ca7-da24-4762-90c5-d5c231b2aaa2"
      },
      "outputs": [
        {
          "name": "stdout",
          "output_type": "stream",
          "text": [
            "Found 12 images belonging to 2 classes.\n",
            "Found 48 images belonging to 2 classes.\n"
          ]
        }
      ],
      "source": [
        "batch_size = 6\n",
        "#(Sorokina, 2019)\n",
        "# this is the augmentation configuration we will use for training\n",
        "train_datagen = tf.keras.preprocessing.image.ImageDataGenerator(\n",
        "        rescale=1./255)\n",
        "\n",
        "# this is the augmentation configuration we will use for testing:\n",
        "# only rescaling\n",
        "test_datagen = tf.keras.preprocessing.image.ImageDataGenerator(rescale=1./255)\n",
        "\n",
        "# this is a generator that will read pictures found in subfolers of 'data/train', and indefinitely generate\n",
        "# batches of augmented image data\n",
        "train_generator = train_datagen.flow_from_directory(\n",
        "        '/content/gdrive/MyDrive/project 6/Train/',  # this is the target directory\n",
        "        target_size=(1000,1000),  # all images will be resized to 300x300\n",
        "        batch_size=batch_size,\n",
        "        class_mode='binary')  # since we use binary_crossentropy loss, we need binary labels\n",
        "\n",
        "# this is a similar generator, for validation data\n",
        "validation_generator = test_datagen.flow_from_directory(\n",
        "        '/content/gdrive/MyDrive/project 6/Validation/',\n",
        "        target_size=(1000,1000),\n",
        "        batch_size=batch_size,\n",
        "        class_mode='binary')"
      ]
    },
    {
      "cell_type": "code",
      "execution_count": null,
      "metadata": {
        "id": "Lm-7NZdrPshv"
      },
      "outputs": [],
      "source": [
        "#history = model3.fit(train_generator,\n",
        "#steps_per_epoch=1,\n",
        "#epochs=15,\n",
        "#verbose=1,\n",
        "#validation_data = validation_generator,\n",
        "#validation_steps=8)"
      ]
    },
    {
      "cell_type": "code",
      "execution_count": null,
      "metadata": {
        "colab": {
          "base_uri": "https://localhost:8080/"
        },
        "id": "QANPw2fpF6bm",
        "outputId": "052fbe29-322f-472c-cb80-258f1e65d0c4"
      },
      "outputs": [
        {
          "name": "stdout",
          "output_type": "stream",
          "text": [
            "Epoch 1/15\n",
            "2/2 [==============================] - 38s 28s/step - loss: 1.6852 - accuracy: 0.4167 - val_loss: 358.3593 - val_accuracy: 0.5000\n",
            "Epoch 2/15\n",
            "2/2 [==============================] - 33s 24s/step - loss: 182.1913 - accuracy: 0.5000 - val_loss: 21.1350 - val_accuracy: 0.5000\n",
            "Epoch 3/15\n",
            "2/2 [==============================] - 32s 23s/step - loss: 18.7744 - accuracy: 0.3333 - val_loss: 2.6171 - val_accuracy: 0.5000\n",
            "Epoch 4/15\n",
            "2/2 [==============================] - 33s 24s/step - loss: 0.3044 - accuracy: 0.9167 - val_loss: 0.6208 - val_accuracy: 0.7292\n",
            "Epoch 5/15\n",
            "2/2 [==============================] - 33s 23s/step - loss: 0.0590 - accuracy: 1.0000 - val_loss: 0.2873 - val_accuracy: 0.8542\n",
            "Epoch 6/15\n",
            "2/2 [==============================] - 33s 24s/step - loss: 0.0406 - accuracy: 1.0000 - val_loss: 1.4661 - val_accuracy: 0.5833\n",
            "Epoch 7/15\n",
            "2/2 [==============================] - 33s 24s/step - loss: 0.0239 - accuracy: 1.0000 - val_loss: 0.8378 - val_accuracy: 0.7083\n",
            "Epoch 8/15\n",
            "2/2 [==============================] - 33s 24s/step - loss: 0.0547 - accuracy: 1.0000 - val_loss: 2.9649 - val_accuracy: 0.5000\n",
            "Epoch 9/15\n",
            "2/2 [==============================] - 32s 23s/step - loss: 0.0395 - accuracy: 1.0000 - val_loss: 0.8537 - val_accuracy: 0.7708\n",
            "Epoch 10/15\n",
            "2/2 [==============================] - 32s 23s/step - loss: 5.4325e-04 - accuracy: 1.0000 - val_loss: 0.8856 - val_accuracy: 0.7500\n",
            "Epoch 11/15\n",
            "2/2 [==============================] - 32s 23s/step - loss: 4.7031e-04 - accuracy: 1.0000 - val_loss: 0.8883 - val_accuracy: 0.7500\n",
            "Epoch 12/15\n",
            "2/2 [==============================] - 34s 25s/step - loss: 3.8487e-04 - accuracy: 1.0000 - val_loss: 0.8935 - val_accuracy: 0.7500\n",
            "Epoch 13/15\n",
            "2/2 [==============================] - 35s 24s/step - loss: 3.4837e-04 - accuracy: 1.0000 - val_loss: 0.9147 - val_accuracy: 0.7500\n",
            "Epoch 14/15\n",
            "2/2 [==============================] - 33s 24s/step - loss: 2.9646e-04 - accuracy: 1.0000 - val_loss: 0.8944 - val_accuracy: 0.7500\n",
            "Epoch 15/15\n",
            "2/2 [==============================] - 34s 24s/step - loss: 2.4652e-04 - accuracy: 1.0000 - val_loss: 0.8902 - val_accuracy: 0.7500\n"
          ]
        }
      ],
      "source": [
        "# (Phan, 2020)\n",
        "history2 = model4.fit(train_generator,\n",
        "steps_per_epoch=2,\n",
        "epochs=15,\n",
        "verbose=1,\n",
        "validation_data = validation_generator,\n",
        "validation_steps=8)"
      ]
    },
    {
      "cell_type": "code",
      "execution_count": null,
      "metadata": {
        "colab": {
          "base_uri": "https://localhost:8080/"
        },
        "id": "2MZqYF7XF6fy",
        "outputId": "06e22849-7e60-4eed-de22-e83f48748f2b"
      },
      "outputs": [
        {
          "name": "stdout",
          "output_type": "stream",
          "text": [
            "Epoch 1/15\n",
            "2/2 [==============================] - 31s 23s/step - loss: 9.2069 - accuracy: 0.3333 - val_loss: 0.8981 - val_accuracy: 0.5000\n",
            "Epoch 2/15\n",
            "2/2 [==============================] - 29s 22s/step - loss: 0.8637 - accuracy: 0.5000 - val_loss: 0.9444 - val_accuracy: 0.5000\n",
            "Epoch 3/15\n",
            "2/2 [==============================] - 34s 26s/step - loss: 0.9084 - accuracy: 0.3333 - val_loss: 0.6960 - val_accuracy: 0.5000\n",
            "Epoch 4/15\n",
            "2/2 [==============================] - 29s 22s/step - loss: 0.4360 - accuracy: 0.8333 - val_loss: 2.9878 - val_accuracy: 0.5208\n",
            "Epoch 5/15\n",
            "2/2 [==============================] - 29s 22s/step - loss: 0.5258 - accuracy: 0.8333 - val_loss: 2.4753 - val_accuracy: 0.5417\n",
            "Epoch 6/15\n",
            "2/2 [==============================] - 29s 22s/step - loss: 0.2942 - accuracy: 0.7500 - val_loss: 1.1133 - val_accuracy: 0.6042\n",
            "Epoch 7/15\n",
            "2/2 [==============================] - 29s 22s/step - loss: 0.1730 - accuracy: 1.0000 - val_loss: 1.2281 - val_accuracy: 0.6250\n",
            "Epoch 8/15\n",
            "2/2 [==============================] - 29s 22s/step - loss: 0.1794 - accuracy: 0.9167 - val_loss: 1.3641 - val_accuracy: 0.6250\n",
            "Epoch 9/15\n",
            "2/2 [==============================] - 29s 22s/step - loss: 0.1621 - accuracy: 0.9167 - val_loss: 1.5197 - val_accuracy: 0.6250\n",
            "Epoch 10/15\n",
            "2/2 [==============================] - 29s 21s/step - loss: 0.1273 - accuracy: 1.0000 - val_loss: 2.0233 - val_accuracy: 0.5833\n",
            "Epoch 11/15\n",
            "2/2 [==============================] - 29s 22s/step - loss: 1.6184 - accuracy: 0.7500 - val_loss: 4.2546 - val_accuracy: 0.5208\n",
            "Epoch 12/15\n",
            "2/2 [==============================] - 29s 22s/step - loss: 0.1525 - accuracy: 0.9167 - val_loss: 5.1462 - val_accuracy: 0.5417\n",
            "Epoch 13/15\n",
            "2/2 [==============================] - 29s 22s/step - loss: 0.0616 - accuracy: 1.0000 - val_loss: 5.9247 - val_accuracy: 0.5625\n",
            "Epoch 14/15\n",
            "2/2 [==============================] - 30s 22s/step - loss: 0.0104 - accuracy: 1.0000 - val_loss: 6.2030 - val_accuracy: 0.5833\n",
            "Epoch 15/15\n",
            "2/2 [==============================] - 32s 24s/step - loss: 0.0018 - accuracy: 1.0000 - val_loss: 6.2603 - val_accuracy: 0.6042\n"
          ]
        }
      ],
      "source": [
        "# (Phan, 2020)\n",
        "history3 = model5.fit(train_generator,\n",
        "steps_per_epoch=2,\n",
        "epochs=15,\n",
        "verbose=1,\n",
        "validation_data = validation_generator,\n",
        "validation_steps=8)"
      ]
    },
    {
      "cell_type": "code",
      "execution_count": null,
      "metadata": {
        "colab": {
          "base_uri": "https://localhost:8080/"
        },
        "id": "HcTBA-LOI2mR",
        "outputId": "827bff5f-08cf-4827-d21e-e65ab008ff5f"
      },
      "outputs": [
        {
          "name": "stdout",
          "output_type": "stream",
          "text": [
            "Epoch 1/15\n",
            "2/2 [==============================] - 31s 22s/step - loss: 10.5614 - accuracy: 0.5000 - val_loss: 0.7571 - val_accuracy: 0.5000\n",
            "Epoch 2/15\n",
            "2/2 [==============================] - 29s 22s/step - loss: 0.8423 - accuracy: 0.3333 - val_loss: 0.6917 - val_accuracy: 0.5000\n",
            "Epoch 3/15\n",
            "2/2 [==============================] - 34s 26s/step - loss: 0.6959 - accuracy: 0.5000 - val_loss: 0.6845 - val_accuracy: 0.5000\n",
            "Epoch 4/15\n",
            "2/2 [==============================] - 29s 21s/step - loss: 0.7193 - accuracy: 0.3333 - val_loss: 0.6884 - val_accuracy: 0.5000\n",
            "Epoch 5/15\n",
            "2/2 [==============================] - 29s 21s/step - loss: 0.7365 - accuracy: 0.5000 - val_loss: 0.6918 - val_accuracy: 0.5625\n",
            "Epoch 6/15\n",
            "2/2 [==============================] - 33s 26s/step - loss: 0.6711 - accuracy: 0.8333 - val_loss: 0.6592 - val_accuracy: 0.5208\n",
            "Epoch 7/15\n",
            "2/2 [==============================] - 33s 26s/step - loss: 0.6669 - accuracy: 0.6667 - val_loss: 0.7677 - val_accuracy: 0.5000\n",
            "Epoch 8/15\n",
            "2/2 [==============================] - 28s 21s/step - loss: 0.6076 - accuracy: 0.7500 - val_loss: 2.1414 - val_accuracy: 0.5208\n",
            "Epoch 9/15\n",
            "2/2 [==============================] - 28s 21s/step - loss: 1.2002 - accuracy: 0.5000 - val_loss: 0.6845 - val_accuracy: 0.3958\n",
            "Epoch 10/15\n",
            "2/2 [==============================] - 28s 21s/step - loss: 0.4360 - accuracy: 0.8333 - val_loss: 0.7637 - val_accuracy: 0.4792\n",
            "Epoch 11/15\n",
            "2/2 [==============================] - 28s 21s/step - loss: 0.2665 - accuracy: 0.8333 - val_loss: 1.2561 - val_accuracy: 0.6250\n",
            "Epoch 12/15\n",
            "2/2 [==============================] - 28s 21s/step - loss: 0.4764 - accuracy: 0.8333 - val_loss: 0.9237 - val_accuracy: 0.3958\n",
            "Epoch 13/15\n",
            "2/2 [==============================] - 28s 21s/step - loss: 0.2005 - accuracy: 0.8333 - val_loss: 1.2328 - val_accuracy: 0.5833\n",
            "Epoch 14/15\n",
            "2/2 [==============================] - 33s 26s/step - loss: 0.1692 - accuracy: 0.9167 - val_loss: 2.0440 - val_accuracy: 0.4375\n",
            "Epoch 15/15\n",
            "2/2 [==============================] - 29s 21s/step - loss: 0.1234 - accuracy: 0.9167 - val_loss: 2.5104 - val_accuracy: 0.4792\n"
          ]
        }
      ],
      "source": [
        "# (Phan, 2020)\n",
        "history4 = model6.fit(train_generator,\n",
        "steps_per_epoch=2,\n",
        "epochs=15,\n",
        "verbose=1,\n",
        "validation_data = validation_generator,\n",
        "validation_steps=8)"
      ]
    },
    {
      "cell_type": "code",
      "execution_count": null,
      "metadata": {
        "colab": {
          "background_save": true,
          "base_uri": "https://localhost:8080/"
        },
        "id": "WdPkCltVI2p7",
        "outputId": "091a7dc2-31c0-4d6e-ebdf-07e1bb69e422"
      },
      "outputs": [
        {
          "name": "stdout",
          "output_type": "stream",
          "text": [
            "Epoch 1/15\n",
            "2/2 [==============================] - 30s 22s/step - loss: 1.1798 - accuracy: 0.3333 - val_loss: 0.6925 - val_accuracy: 0.5000\n",
            "Epoch 2/15\n",
            "2/2 [==============================] - 28s 21s/step - loss: 0.6921 - accuracy: 0.5000 - val_loss: 0.6816 - val_accuracy: 0.7708\n",
            "Epoch 3/15\n",
            "2/2 [==============================] - 34s 26s/step - loss: 0.9229 - accuracy: 0.4167 - val_loss: 0.6918 - val_accuracy: 0.5000\n",
            "Epoch 4/15\n",
            "2/2 [==============================] - 29s 21s/step - loss: 0.6920 - accuracy: 0.5833 - val_loss: 0.6911 - val_accuracy: 0.6250\n",
            "Epoch 5/15\n",
            "2/2 [==============================] - 28s 21s/step - loss: 0.6966 - accuracy: 0.5833 - val_loss: 0.6916 - val_accuracy: 0.7083\n",
            "Epoch 6/15\n",
            "2/2 [==============================] - 28s 21s/step - loss: 0.7049 - accuracy: 0.2500 - val_loss: 0.6928 - val_accuracy: 0.5000\n",
            "Epoch 7/15\n",
            "2/2 [==============================] - 28s 21s/step - loss: 0.6935 - accuracy: 0.5000 - val_loss: 0.6921 - val_accuracy: 0.6042\n",
            "Epoch 8/15\n",
            "2/2 [==============================] - 28s 21s/step - loss: 0.6908 - accuracy: 0.9167 - val_loss: 0.6903 - val_accuracy: 0.9375\n",
            "Epoch 9/15\n",
            "2/2 [==============================] - 29s 21s/step - loss: 0.6855 - accuracy: 0.7500 - val_loss: 0.6822 - val_accuracy: 0.5625\n",
            "Epoch 10/15\n",
            "2/2 [==============================] - 28s 21s/step - loss: 0.6681 - accuracy: 0.4167 - val_loss: 0.6708 - val_accuracy: 0.6875\n",
            "Epoch 11/15\n",
            "2/2 [==============================] - 29s 21s/step - loss: 0.6184 - accuracy: 0.7500 - val_loss: 0.7433 - val_accuracy: 0.5208\n",
            "Epoch 12/15\n",
            "2/2 [==============================] - 28s 21s/step - loss: 0.4353 - accuracy: 0.7500 - val_loss: 0.9612 - val_accuracy: 0.5833\n",
            "Epoch 13/15\n",
            "2/2 [==============================] - 29s 21s/step - loss: 0.3105 - accuracy: 0.8333 - val_loss: 1.1424 - val_accuracy: 0.5208\n",
            "Epoch 14/15\n",
            "2/2 [==============================] - 28s 21s/step - loss: 0.1757 - accuracy: 1.0000 - val_loss: 1.8745 - val_accuracy: 0.5000\n",
            "Epoch 15/15\n",
            "2/2 [==============================] - 28s 21s/step - loss: 0.0547 - accuracy: 1.0000 - val_loss: 2.5922 - val_accuracy: 0.5625\n"
          ]
        }
      ],
      "source": [
        "# (Phan, 2020)\n",
        "history5 = model7.fit(train_generator,\n",
        "steps_per_epoch=2,\n",
        "epochs=15,\n",
        "verbose=1,\n",
        "validation_data = validation_generator,\n",
        "validation_steps=8)"
      ]
    },
    {
      "cell_type": "code",
      "execution_count": null,
      "metadata": {
        "colab": {
          "background_save": true
        },
        "id": "2qb9n4ZHPuuQ"
      },
      "outputs": [],
      "source": [
        "#result1 = model3.evaluate(validation_generator)\n",
        "#result1"
      ]
    },
    {
      "cell_type": "code",
      "execution_count": null,
      "metadata": {
        "colab": {
          "background_save": true
        },
        "id": "3odpY3hAGB2M",
        "outputId": "f99470e8-2a9c-4b9c-dde8-5ea1296d6f61"
      },
      "outputs": [
        {
          "name": "stdout",
          "output_type": "stream",
          "text": [
            "8/8 [==============================] - 16s 2s/step - loss: 0.8902 - accuracy: 0.7500\n"
          ]
        },
        {
          "data": {
            "text/plain": [
              "[0.8902234435081482, 0.75]"
            ]
          },
          "execution_count": null,
          "metadata": {},
          "output_type": "execute_result"
        }
      ],
      "source": [
        "result2 = model4.evaluate(validation_generator)\n",
        "result2"
      ]
    },
    {
      "cell_type": "code",
      "execution_count": null,
      "metadata": {
        "colab": {
          "background_save": true
        },
        "id": "f2_hKZyMGB6H",
        "outputId": "cc54388e-5b42-4ea4-8c9c-99d3f5b3732a"
      },
      "outputs": [
        {
          "name": "stdout",
          "output_type": "stream",
          "text": [
            "8/8 [==============================] - 16s 2s/step - loss: 6.2603 - accuracy: 0.6042\n"
          ]
        },
        {
          "data": {
            "text/plain": [
              "[6.260252475738525, 0.6041666865348816]"
            ]
          },
          "execution_count": null,
          "metadata": {},
          "output_type": "execute_result"
        }
      ],
      "source": [
        "result3 = model5.evaluate(validation_generator)\n",
        "result3"
      ]
    },
    {
      "cell_type": "code",
      "execution_count": null,
      "metadata": {
        "colab": {
          "background_save": true
        },
        "id": "peDpNpgWI-tm",
        "outputId": "fa95f04a-ebae-4572-bb0f-9e82f76b60c8"
      },
      "outputs": [
        {
          "name": "stdout",
          "output_type": "stream",
          "text": [
            "8/8 [==============================] - 16s 2s/step - loss: 2.5104 - accuracy: 0.4792\n"
          ]
        },
        {
          "data": {
            "text/plain": [
              "[2.5104472637176514, 0.4791666567325592]"
            ]
          },
          "execution_count": null,
          "metadata": {},
          "output_type": "execute_result"
        }
      ],
      "source": [
        "result4 = model6.evaluate(validation_generator)\n",
        "result4"
      ]
    },
    {
      "cell_type": "code",
      "execution_count": null,
      "metadata": {
        "colab": {
          "background_save": true
        },
        "id": "HIjIlN4CI-6-",
        "outputId": "b8bc7ecf-c837-4515-e6cd-4263255bbaf7"
      },
      "outputs": [
        {
          "name": "stdout",
          "output_type": "stream",
          "text": [
            "8/8 [==============================] - 16s 2s/step - loss: 2.5922 - accuracy: 0.5625\n"
          ]
        },
        {
          "data": {
            "text/plain": [
              "[2.592217206954956, 0.5625]"
            ]
          },
          "execution_count": null,
          "metadata": {},
          "output_type": "execute_result"
        }
      ],
      "source": [
        "result5 = model7.evaluate(validation_generator)\n",
        "result5"
      ]
    },
    {
      "cell_type": "code",
      "execution_count": null,
      "metadata": {
        "colab": {
          "background_save": true
        },
        "id": "T-_0bIkujyTp",
        "outputId": "ae672d9c-8043-40fc-aab5-20242e4fd55e"
      },
      "outputs": [
        {
          "data": {
            "text/plain": [
              "['loss', 'accuracy']"
            ]
          },
          "execution_count": null,
          "metadata": {},
          "output_type": "execute_result"
        }
      ],
      "source": [
        "model4.metrics_names"
      ]
    },
    {
      "cell_type": "code",
      "source": [
        "result5[1]"
      ],
      "metadata": {
        "colab": {
          "base_uri": "https://localhost:8080/",
          "height": 0
        },
        "id": "22IL3UeCzM_p",
        "outputId": "f81396b1-dbf9-474d-f4c8-62cd9885d660"
      },
      "execution_count": 40,
      "outputs": [
        {
          "output_type": "execute_result",
          "data": {
            "text/plain": [
              "0.5625"
            ]
          },
          "metadata": {},
          "execution_count": 40
        }
      ]
    },
    {
      "cell_type": "code",
      "execution_count": 41,
      "metadata": {
        "colab": {
          "base_uri": "https://localhost:8080/",
          "height": 264
        },
        "id": "ulYa_ZCguOXY",
        "outputId": "870d61b0-64ad-4546-e108-03e0abf15566"
      },
      "outputs": [
        {
          "output_type": "display_data",
          "data": {
            "image/png": "[encoded data removed]",
            "text/plain": [
              "<Figure size 432x288 with 1 Axes>"
            ]
          },
          "metadata": {
            "needs_background": "light"
          }
        }
      ],
      "source": [
        "from matplotlib import pyplot as py \n",
        "accuracy_list = [result2[1], result3[1], result4[1], result5[1]]\n",
        "names = [\"4 layers\", \"5 layers\", \"6 layers\", \"7 layers\"]\n",
        "py.bar(names, accuracy_list)\n",
        "py.show()\n",
        " \n"
      ]
    },
    {
      "cell_type": "markdown",
      "metadata": {
        "id": "mJTnKp3GMXVE"
      },
      "source": [
        "## Test for optimum dense layer / hidden layer"
      ]
    },
    {
      "cell_type": "code",
      "execution_count": 42,
      "metadata": {
        "id": "u_3b1unCMc5I"
      },
      "outputs": [],
      "source": [
        "# (Phan, 2020)\n",
        "model8 = tf.keras.models.Sequential([\n",
        "# This is the first convolution\n",
        "tf.keras.layers.Conv2D(16, (3,3), activation='relu', input_shape=(1000, 1000, 3)),\n",
        "tf.keras.layers.MaxPooling2D(2, 2),\n",
        "# The second convolution\n",
        "tf.keras.layers.Conv2D(32, (3,3), activation='relu'),\n",
        "tf.keras.layers.MaxPooling2D(2,2),\n",
        "# The third convolution\n",
        "tf.keras.layers.Conv2D(64, (3,3), activation='relu'),\n",
        "tf.keras.layers.MaxPooling2D(2,2),\n",
        "# The fourth convolution\n",
        "tf.keras.layers.Conv2D(64, (3,3), activation='relu'),\n",
        "tf.keras.layers.MaxPooling2D(2,2),\n",
        "# Flatten the results to feed into a DNN\n",
        "tf.keras.layers.Flatten(),\n",
        "# 512 neuron hidden layer\n",
        "tf.keras.layers.Dense(64, activation='relu'),\n",
        "tf.keras.layers.Dense(1, activation='sigmoid')])"
      ]
    },
    {
      "cell_type": "code",
      "source": [
        "# (Phan, 2020)\n",
        "model9 = tf.keras.models.Sequential([\n",
        "# This is the first convolution\n",
        "tf.keras.layers.Conv2D(16, (3,3), activation='relu', input_shape=(1000, 1000, 3)),\n",
        "tf.keras.layers.MaxPooling2D(2, 2),\n",
        "# The second convolution\n",
        "tf.keras.layers.Conv2D(32, (3,3), activation='relu'),\n",
        "tf.keras.layers.MaxPooling2D(2,2),\n",
        "# The third convolution\n",
        "tf.keras.layers.Conv2D(64, (3,3), activation='relu'),\n",
        "tf.keras.layers.MaxPooling2D(2,2),\n",
        "# The fourth convolution\n",
        "tf.keras.layers.Conv2D(64, (3,3), activation='relu'),\n",
        "tf.keras.layers.MaxPooling2D(2,2),\n",
        "# Flatten the results to feed into a DNN\n",
        "tf.keras.layers.Flatten(),\n",
        "# 512 neuron hidden layer\n",
        "tf.keras.layers.Dense(128, activation='relu'),\n",
        "tf.keras.layers.Dense(1, activation='sigmoid')])"
      ],
      "metadata": {
        "id": "b2dUvf0Czq34"
      },
      "execution_count": 43,
      "outputs": []
    },
    {
      "cell_type": "code",
      "source": [
        "# (Phan, 2020)\n",
        "model10 = tf.keras.models.Sequential([\n",
        "# This is the first convolution\n",
        "tf.keras.layers.Conv2D(16, (3,3), activation='relu', input_shape=(1000, 1000, 3)),\n",
        "tf.keras.layers.MaxPooling2D(2, 2),\n",
        "# The second convolution\n",
        "tf.keras.layers.Conv2D(32, (3,3), activation='relu'),\n",
        "tf.keras.layers.MaxPooling2D(2,2),\n",
        "# The third convolution\n",
        "tf.keras.layers.Conv2D(64, (3,3), activation='relu'),\n",
        "tf.keras.layers.MaxPooling2D(2,2),\n",
        "# The fourth convolution\n",
        "tf.keras.layers.Conv2D(64, (3,3), activation='relu'),\n",
        "tf.keras.layers.MaxPooling2D(2,2),\n",
        "# Flatten the results to feed into a DNN\n",
        "tf.keras.layers.Flatten(),\n",
        "# 512 neuron hidden layer\n",
        "tf.keras.layers.Dense(256, activation='relu'),\n",
        "tf.keras.layers.Dense(1, activation='sigmoid')])"
      ],
      "metadata": {
        "id": "hFMGWzihzw8c"
      },
      "execution_count": 44,
      "outputs": []
    },
    {
      "cell_type": "code",
      "source": [
        "# (Phan, 2020)\n",
        "model8.compile(loss='binary_crossentropy',\n",
        "optimizer=tf.keras.optimizers.RMSprop(lr=0.001),\n",
        "metrics='accuracy')\n",
        "model9.compile(loss='binary_crossentropy',\n",
        "optimizer=tf.keras.optimizers.RMSprop(lr=0.001),\n",
        "metrics='accuracy')\n",
        "model10.compile(loss='binary_crossentropy',\n",
        "optimizer=tf.keras.optimizers.RMSprop(lr=0.001),\n",
        "metrics='accuracy')"
      ],
      "metadata": {
        "colab": {
          "base_uri": "https://localhost:8080/",
          "height": 0
        },
        "id": "AGkAmeDIz2K4",
        "outputId": "63be21dc-020b-4ce5-c4fd-63a95f109ed8"
      },
      "execution_count": 45,
      "outputs": [
        {
          "output_type": "stream",
          "name": "stderr",
          "text": [
            "/usr/local/lib/python3.7/dist-packages/keras/optimizer_v2/rmsprop.py:130: UserWarning: The `lr` argument is deprecated, use `learning_rate` instead.\n",
            "  super(RMSprop, self).__init__(name, **kwargs)\n"
          ]
        }
      ]
    },
    {
      "cell_type": "code",
      "source": [
        "# (Phan, 2020)\n",
        "history8 = model8.fit(train_generator,\n",
        "steps_per_epoch=2,\n",
        "epochs=15,\n",
        "verbose=1,\n",
        "validation_data = validation_generator,\n",
        "validation_steps=8)"
      ],
      "metadata": {
        "colab": {
          "base_uri": "https://localhost:8080/",
          "height": 0
        },
        "id": "8g-xVv-o0MWa",
        "outputId": "a2e1be16-2542-4eb6-cc84-6c7e30c8d091"
      },
      "execution_count": 46,
      "outputs": [
        {
          "output_type": "stream",
          "name": "stdout",
          "text": [
            "Epoch 1/15\n",
            "2/2 [==============================] - 34s 24s/step - loss: 3.6437 - accuracy: 0.5000 - val_loss: 2.6514 - val_accuracy: 0.5000\n",
            "Epoch 2/15\n",
            "2/2 [==============================] - 33s 25s/step - loss: 2.2509 - accuracy: 0.3333 - val_loss: 0.8306 - val_accuracy: 0.5000\n",
            "Epoch 3/15\n",
            "2/2 [==============================] - 35s 28s/step - loss: 0.6511 - accuracy: 0.8333 - val_loss: 0.8721 - val_accuracy: 0.5000\n",
            "Epoch 4/15\n",
            "2/2 [==============================] - 32s 23s/step - loss: 0.6786 - accuracy: 0.5000 - val_loss: 0.6701 - val_accuracy: 0.6042\n",
            "Epoch 5/15\n",
            "2/2 [==============================] - 28s 21s/step - loss: 0.6347 - accuracy: 0.8333 - val_loss: 3.8405 - val_accuracy: 0.5000\n",
            "Epoch 6/15\n",
            "2/2 [==============================] - 32s 25s/step - loss: 1.6844 - accuracy: 0.7500 - val_loss: 0.6558 - val_accuracy: 0.4792\n",
            "Epoch 7/15\n",
            "2/2 [==============================] - 29s 21s/step - loss: 0.4184 - accuracy: 0.6667 - val_loss: 0.6786 - val_accuracy: 0.5000\n",
            "Epoch 8/15\n",
            "2/2 [==============================] - 33s 26s/step - loss: 0.2730 - accuracy: 0.8333 - val_loss: 0.8446 - val_accuracy: 0.6250\n",
            "Epoch 9/15\n",
            "2/2 [==============================] - 28s 21s/step - loss: 0.2018 - accuracy: 0.9167 - val_loss: 1.0829 - val_accuracy: 0.6250\n",
            "Epoch 10/15\n",
            "2/2 [==============================] - 28s 21s/step - loss: 0.1074 - accuracy: 1.0000 - val_loss: 0.9660 - val_accuracy: 0.5833\n",
            "Epoch 11/15\n",
            "2/2 [==============================] - 29s 21s/step - loss: 0.0714 - accuracy: 1.0000 - val_loss: 1.2383 - val_accuracy: 0.6667\n",
            "Epoch 12/15\n",
            "2/2 [==============================] - 29s 22s/step - loss: 0.0246 - accuracy: 1.0000 - val_loss: 0.7001 - val_accuracy: 0.6667\n",
            "Epoch 13/15\n",
            "2/2 [==============================] - 34s 26s/step - loss: 0.0039 - accuracy: 1.0000 - val_loss: 1.7952 - val_accuracy: 0.6667\n",
            "Epoch 14/15\n",
            "2/2 [==============================] - 33s 26s/step - loss: 0.0032 - accuracy: 1.0000 - val_loss: 1.1147 - val_accuracy: 0.7083\n",
            "Epoch 15/15\n",
            "2/2 [==============================] - 34s 26s/step - loss: 2.7544e-04 - accuracy: 1.0000 - val_loss: 1.0373 - val_accuracy: 0.7083\n"
          ]
        }
      ]
    },
    {
      "cell_type": "code",
      "source": [
        "# (Phan, 2020)\n",
        "history9 = model9.fit(train_generator,\n",
        "steps_per_epoch=2,\n",
        "epochs=15,\n",
        "verbose=1,\n",
        "validation_data = validation_generator,\n",
        "validation_steps=8)"
      ],
      "metadata": {
        "colab": {
          "base_uri": "https://localhost:8080/",
          "height": 0
        },
        "id": "kPyUvKU80YFo",
        "outputId": "d506d0c9-1626-45b6-ca86-d241a10a4dcb"
      },
      "execution_count": 47,
      "outputs": [
        {
          "output_type": "stream",
          "name": "stdout",
          "text": [
            "Epoch 1/15\n",
            "2/2 [==============================] - 31s 23s/step - loss: 101.8451 - accuracy: 0.4167 - val_loss: 4.5749 - val_accuracy: 0.5000\n",
            "Epoch 2/15\n",
            "2/2 [==============================] - 34s 27s/step - loss: 3.6536 - accuracy: 0.5000 - val_loss: 0.6862 - val_accuracy: 0.5000\n",
            "Epoch 3/15\n",
            "2/2 [==============================] - 30s 23s/step - loss: 0.6836 - accuracy: 0.5000 - val_loss: 0.6675 - val_accuracy: 0.5000\n",
            "Epoch 4/15\n",
            "2/2 [==============================] - 32s 23s/step - loss: 0.6880 - accuracy: 0.5000 - val_loss: 0.6988 - val_accuracy: 0.5000\n",
            "Epoch 5/15\n",
            "2/2 [==============================] - 37s 27s/step - loss: 5.5094 - accuracy: 0.3333 - val_loss: 0.5936 - val_accuracy: 0.8958\n",
            "Epoch 6/15\n",
            "2/2 [==============================] - 32s 24s/step - loss: 0.7397 - accuracy: 0.6667 - val_loss: 0.7740 - val_accuracy: 0.5000\n",
            "Epoch 7/15\n",
            "2/2 [==============================] - 35s 27s/step - loss: 0.6400 - accuracy: 0.5833 - val_loss: 1.0681 - val_accuracy: 0.5000\n",
            "Epoch 8/15\n",
            "2/2 [==============================] - 30s 22s/step - loss: 2.0444 - accuracy: 0.1667 - val_loss: 0.5532 - val_accuracy: 0.7500\n",
            "Epoch 9/15\n",
            "2/2 [==============================] - 31s 23s/step - loss: 0.3106 - accuracy: 0.8333 - val_loss: 0.6720 - val_accuracy: 0.5833\n",
            "Epoch 10/15\n",
            "2/2 [==============================] - 34s 26s/step - loss: 0.1870 - accuracy: 1.0000 - val_loss: 0.8714 - val_accuracy: 0.6042\n",
            "Epoch 11/15\n",
            "2/2 [==============================] - 30s 22s/step - loss: 0.7847 - accuracy: 0.8333 - val_loss: 1.4527 - val_accuracy: 0.5625\n",
            "Epoch 12/15\n",
            "2/2 [==============================] - 34s 26s/step - loss: 0.0620 - accuracy: 1.0000 - val_loss: 0.4439 - val_accuracy: 0.7500\n",
            "Epoch 13/15\n",
            "2/2 [==============================] - 34s 27s/step - loss: 0.0049 - accuracy: 1.0000 - val_loss: 1.0373 - val_accuracy: 0.6875\n",
            "Epoch 14/15\n",
            "2/2 [==============================] - 35s 27s/step - loss: 0.0034 - accuracy: 1.0000 - val_loss: 0.6002 - val_accuracy: 0.7292\n",
            "Epoch 15/15\n",
            "2/2 [==============================] - 30s 22s/step - loss: 5.9831e-04 - accuracy: 1.0000 - val_loss: 0.4685 - val_accuracy: 0.7917\n"
          ]
        }
      ]
    },
    {
      "cell_type": "code",
      "source": [
        "# (Phan, 2020)\n",
        "history10 = model10.fit(train_generator,\n",
        "steps_per_epoch=2,\n",
        "epochs=15,\n",
        "verbose=1,\n",
        "validation_data = validation_generator,\n",
        "validation_steps=8)"
      ],
      "metadata": {
        "colab": {
          "base_uri": "https://localhost:8080/",
          "height": 0
        },
        "id": "1VLb_o5x0ak5",
        "outputId": "8a95e5e8-df7b-4f1e-9287-54e643ed87d4"
      },
      "execution_count": 48,
      "outputs": [
        {
          "output_type": "stream",
          "name": "stdout",
          "text": [
            "Epoch 1/15\n",
            "2/2 [==============================] - 33s 23s/step - loss: 138.6637 - accuracy: 0.5000 - val_loss: 7.4403 - val_accuracy: 0.5000\n",
            "Epoch 2/15\n",
            "2/2 [==============================] - 32s 23s/step - loss: 6.2646 - accuracy: 0.5000 - val_loss: 2.0488 - val_accuracy: 0.5000\n",
            "Epoch 3/15\n",
            "2/2 [==============================] - 32s 22s/step - loss: 7.9498 - accuracy: 0.5000 - val_loss: 0.6600 - val_accuracy: 0.5000\n",
            "Epoch 4/15\n",
            "2/2 [==============================] - 31s 23s/step - loss: 0.9560 - accuracy: 0.5000 - val_loss: 1.2943 - val_accuracy: 0.5000\n",
            "Epoch 5/15\n",
            "2/2 [==============================] - 31s 23s/step - loss: 1.8895 - accuracy: 0.3333 - val_loss: 0.7893 - val_accuracy: 0.5000\n",
            "Epoch 6/15\n",
            "2/2 [==============================] - 31s 23s/step - loss: 0.5859 - accuracy: 0.7500 - val_loss: 0.5954 - val_accuracy: 0.7292\n",
            "Epoch 7/15\n",
            "2/2 [==============================] - 31s 22s/step - loss: 0.3651 - accuracy: 1.0000 - val_loss: 0.8505 - val_accuracy: 0.5417\n",
            "Epoch 8/15\n",
            "2/2 [==============================] - 31s 22s/step - loss: 0.2746 - accuracy: 1.0000 - val_loss: 0.6573 - val_accuracy: 0.6875\n",
            "Epoch 9/15\n",
            "2/2 [==============================] - 36s 27s/step - loss: 0.0417 - accuracy: 1.0000 - val_loss: 0.5674 - val_accuracy: 0.7917\n",
            "Epoch 10/15\n",
            "2/2 [==============================] - 31s 23s/step - loss: 0.0048 - accuracy: 1.0000 - val_loss: 5.8241 - val_accuracy: 0.5000\n",
            "Epoch 11/15\n",
            "2/2 [==============================] - 31s 23s/step - loss: 0.8630 - accuracy: 0.8333 - val_loss: 3.5524 - val_accuracy: 0.5000\n",
            "Epoch 12/15\n",
            "2/2 [==============================] - 31s 23s/step - loss: 0.7381 - accuracy: 0.7500 - val_loss: 1.5390 - val_accuracy: 0.6458\n",
            "Epoch 13/15\n",
            "2/2 [==============================] - 31s 23s/step - loss: 0.0147 - accuracy: 1.0000 - val_loss: 1.3480 - val_accuracy: 0.7083\n",
            "Epoch 14/15\n",
            "2/2 [==============================] - 31s 23s/step - loss: 0.0022 - accuracy: 1.0000 - val_loss: 1.3560 - val_accuracy: 0.7083\n",
            "Epoch 15/15\n",
            "2/2 [==============================] - 31s 23s/step - loss: 0.0019 - accuracy: 1.0000 - val_loss: 1.3642 - val_accuracy: 0.7292\n"
          ]
        }
      ]
    },
    {
      "cell_type": "code",
      "source": [
        "result8 = model8.evaluate(validation_generator)\n",
        "result8"
      ],
      "metadata": {
        "colab": {
          "base_uri": "https://localhost:8080/",
          "height": 0
        },
        "id": "mfseG-Hh0dqm",
        "outputId": "d5741efb-f216-4b23-e10f-698028f51d5d"
      },
      "execution_count": 49,
      "outputs": [
        {
          "output_type": "stream",
          "name": "stdout",
          "text": [
            "8/8 [==============================] - 17s 2s/step - loss: 1.0373 - accuracy: 0.7083\n"
          ]
        },
        {
          "output_type": "execute_result",
          "data": {
            "text/plain": [
              "[1.037263035774231, 0.7083333134651184]"
            ]
          },
          "metadata": {},
          "execution_count": 49
        }
      ]
    },
    {
      "cell_type": "code",
      "source": [
        "result9 = model9.evaluate(validation_generator)\n",
        "result9"
      ],
      "metadata": {
        "colab": {
          "base_uri": "https://localhost:8080/",
          "height": 0
        },
        "id": "B4Ojs0jq0l_j",
        "outputId": "6fee3b32-618c-4a8b-b452-08f456868705"
      },
      "execution_count": 50,
      "outputs": [
        {
          "output_type": "stream",
          "name": "stdout",
          "text": [
            "8/8 [==============================] - 16s 2s/step - loss: 0.4685 - accuracy: 0.7917\n"
          ]
        },
        {
          "output_type": "execute_result",
          "data": {
            "text/plain": [
              "[0.4685150682926178, 0.7916666865348816]"
            ]
          },
          "metadata": {},
          "execution_count": 50
        }
      ]
    },
    {
      "cell_type": "code",
      "source": [
        "result10 = model10.evaluate(validation_generator)\n",
        "result10"
      ],
      "metadata": {
        "colab": {
          "base_uri": "https://localhost:8080/",
          "height": 0
        },
        "id": "f43GZJaa0mEX",
        "outputId": "6a03e667-33ca-400c-d89e-10cc15e2fb48"
      },
      "execution_count": 51,
      "outputs": [
        {
          "output_type": "stream",
          "name": "stdout",
          "text": [
            "8/8 [==============================] - 16s 2s/step - loss: 1.3642 - accuracy: 0.7292\n"
          ]
        },
        {
          "output_type": "execute_result",
          "data": {
            "text/plain": [
              "[1.3642021417617798, 0.7291666865348816]"
            ]
          },
          "metadata": {},
          "execution_count": 51
        }
      ]
    },
    {
      "cell_type": "code",
      "source": [
        "from matplotlib import pyplot as py \n",
        "accuracy_list = [result2[1], result8[1], result9[1], result10[1]]\n",
        "names = [\"512\", \"64\", \"128\", \"256\"]\n",
        "py.bar(names, accuracy_list)\n",
        "py.show()"
      ],
      "metadata": {
        "colab": {
          "base_uri": "https://localhost:8080/",
          "height": 264
        },
        "id": "4Gp7P6dl0r20",
        "outputId": "f13753d1-d6b5-4227-fe42-c3bb0f4c4eaa"
      },
      "execution_count": 52,
      "outputs": [
        {
          "output_type": "display_data",
          "data": {
            "image/png": "[encoded data removed]",
            "text/plain": [
              "<Figure size 432x288 with 1 Axes>"
            ]
          },
          "metadata": {
            "needs_background": "light"
          }
        }
      ]
    },
    {
      "cell_type": "code",
      "source": [
        "result9[1]"
      ],
      "metadata": {
        "colab": {
          "base_uri": "https://localhost:8080/",
          "height": 0
        },
        "id": "8N8V29om09Ni",
        "outputId": "9800b9ff-51c3-4c6f-ad83-01644ba04ed0"
      },
      "execution_count": 53,
      "outputs": [
        {
          "output_type": "execute_result",
          "data": {
            "text/plain": [
              "0.7916666865348816"
            ]
          },
          "metadata": {},
          "execution_count": 53
        }
      ]
    },
    {
      "cell_type": "code",
      "source": [
        ""
      ],
      "metadata": {
        "id": "1VaVN-R-8AeD"
      },
      "execution_count": null,
      "outputs": []
    }
  ],
  "metadata": {
    "colab": {
      "name": "Project6_DSC550_Quinton.ipynb",
      "provenance": []
    },
    "kernelspec": {
      "display_name": "Python 3",
      "name": "python3"
    },
    "language_info": {
      "name": "python"
    }
  },
  "nbformat": 4,
  "nbformat_minor": 0
}